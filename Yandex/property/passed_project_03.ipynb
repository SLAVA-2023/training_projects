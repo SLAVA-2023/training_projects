{
 "cells": [
  {
   "cell_type": "markdown",
   "metadata": {},
   "source": [
    "<div style=\"border:solid green 3px; padding: 20px\">\n",
    "\n",
    "<b>Привет!</b>\n",
    "\n",
    "Меня зовут Сороколетов Илья и я буду проверять твой проект. \n",
    "\n",
    "Предлагаю общаться на «**ты**», но если тебе будет комфортнее общаться на «**вы**», то сообщи об этом в комментариях)\n",
    "\n",
    "\n",
    "Для твоего удобства, я буду выделять свои комментарии следующим образом:\n",
    "\n",
    "<div class=\"alert alert-danger\">\n",
    "<b>❌ Комментарий ревьюера v1:</b> Самые важные замечания. Они указывают на ключевые моменты, которые влияют на конечный результат проекта. </div>\n",
    "\n",
    "<div class=\"alert alert-warning\">\n",
    "<b>⚠️ Комментарий ревьюера v1:</b> Советы или замечания, которые помогут сделать твою работу лучше, но необязательны к выполнению.\n",
    "\n",
    "</div>\n",
    "\n",
    "<div class=\"alert alert-success\">\n",
    "<b>✔️ Комментарий ревьюера v1:</b> Так я выделяю все остальные комментарии.</div>\n",
    "\n",
    "\n",
    "Пометками <b>v1-v2-v3-...</b> я буду отмечать версию проверки. Так ты сможешь быстро найти мои новые комментарии.\n",
    "\n",
    "Давай работать над проектом в диалоге: если ты что-то меняешь в проекте по моим рекомендациям — пиши об этом. Выбери для своих комментариев какой-то заметный цвет, так мне будет легче отследить изменения, например вот так:\n",
    "    \n",
    "<div class=\"alert alert-info\">\n",
    "<b>Комментарий студента:</b>\n",
    "<br>\n",
    "</div>\n",
    "\n",
    "<b>Пожалуйста, не перемещай, не изменяй и не удаляй мои комментарии.</b> Если ты оставляешь свои комментарии, то делай это под моими, чтобы сообщения были расположены в хронологическом порядке. Всё это поможет выполнить повторную проверку твоего проекта быстрее. \n",
    "\n",
    "Перед отправкой работы я рекомендую нажимать Kernel -> Restart & Run All. Это перезапустит ядро и по очереди выполнит все ячейки. Так ты сможешь проверить, что всё работает корректно. Кнопка Kernel находится в панели сверху\n",
    "\n",
    "Обязательно задавай вопросы если они возникнут, а я перехожу к проверке)\n",
    "\n",
    "P.S. На всякий случай, я оставлю пустой шаблон для твоих комментариев ниже. Кликни два раза на мой комментарий, скопируй последние четыре строчки кода и вставляй их в пустую ячейку там, где ты хочешь оставить комментарий. Не забудь только перед этим сменить тип ячейки на Markdown. Быстро это можно сделать так: кликнуть на ячейку - нажать ESC - нажать M. \n",
    "    \n",
    "    \n",
    "<div class=\"alert alert-info\">\n",
    "<b>Комментарий студента:</b>\n",
    "<br>Удали этот текст и вместо него напиши свой комментарий 🙂\n",
    "</div>"
   ]
  },
  {
   "cell_type": "markdown",
   "metadata": {},
   "source": [
    "# Исследование объявлений о продаже квартир\n",
    "\n",
    "В вашем распоряжении данные сервиса Яндекс.Недвижимость — архив объявлений о продаже квартир в Санкт-Петербурге и соседних населённых пунктов за несколько лет. Нужно научиться определять рыночную стоимость объектов недвижимости. Ваша задача — установить параметры. Это позволит построить автоматизированную систему: она отследит аномалии и мошенническую деятельность. \n",
    "\n",
    "По каждой квартире на продажу доступны два вида данных. Первые вписаны пользователем, вторые — получены автоматически на основе картографических данных. Например, расстояние до центра, аэропорта, ближайшего парка и водоёма. "
   ]
  },
  {
   "cell_type": "markdown",
   "metadata": {},
   "source": [
    "### Откройте файл с данными и изучите общую информацию. "
   ]
  },
  {
   "cell_type": "code",
   "execution_count": 1,
   "metadata": {},
   "outputs": [],
   "source": [
    "import pandas as pd # импорт библиотеки pandas\n",
    "import matplotlib.pyplot as plt"
   ]
  },
  {
   "cell_type": "code",
   "execution_count": 2,
   "metadata": {},
   "outputs": [],
   "source": [
    "data = pd.read_csv('https://code.s3.yandex.net/datasets/real_estate_data.csv', sep='\\t')"
   ]
  },
  {
   "cell_type": "markdown",
   "metadata": {},
   "source": [
    "**Для ознакомления с данными, хранящимися в датафрейме, выводим его первые 10 строк методом head()**"
   ]
  },
  {
   "cell_type": "code",
   "execution_count": 3,
   "metadata": {},
   "outputs": [],
   "source": [
    "pd.set_option('display.max_columns', None)"
   ]
  },
  {
   "cell_type": "code",
   "execution_count": 4,
   "metadata": {
    "scrolled": true
   },
   "outputs": [
    {
     "data": {
      "text/html": [
       "<div>\n",
       "<style scoped>\n",
       "    .dataframe tbody tr th:only-of-type {\n",
       "        vertical-align: middle;\n",
       "    }\n",
       "\n",
       "    .dataframe tbody tr th {\n",
       "        vertical-align: top;\n",
       "    }\n",
       "\n",
       "    .dataframe thead th {\n",
       "        text-align: right;\n",
       "    }\n",
       "</style>\n",
       "<table border=\"1\" class=\"dataframe\">\n",
       "  <thead>\n",
       "    <tr style=\"text-align: right;\">\n",
       "      <th></th>\n",
       "      <th>total_images</th>\n",
       "      <th>last_price</th>\n",
       "      <th>total_area</th>\n",
       "      <th>first_day_exposition</th>\n",
       "      <th>rooms</th>\n",
       "      <th>ceiling_height</th>\n",
       "      <th>floors_total</th>\n",
       "      <th>living_area</th>\n",
       "      <th>floor</th>\n",
       "      <th>is_apartment</th>\n",
       "      <th>studio</th>\n",
       "      <th>open_plan</th>\n",
       "      <th>kitchen_area</th>\n",
       "      <th>balcony</th>\n",
       "      <th>locality_name</th>\n",
       "      <th>airports_nearest</th>\n",
       "      <th>cityCenters_nearest</th>\n",
       "      <th>parks_around3000</th>\n",
       "      <th>parks_nearest</th>\n",
       "      <th>ponds_around3000</th>\n",
       "      <th>ponds_nearest</th>\n",
       "      <th>days_exposition</th>\n",
       "    </tr>\n",
       "  </thead>\n",
       "  <tbody>\n",
       "    <tr>\n",
       "      <th>0</th>\n",
       "      <td>20</td>\n",
       "      <td>13000000.0</td>\n",
       "      <td>108.00</td>\n",
       "      <td>2019-03-07T00:00:00</td>\n",
       "      <td>3</td>\n",
       "      <td>2.70</td>\n",
       "      <td>16.0</td>\n",
       "      <td>51.00</td>\n",
       "      <td>8</td>\n",
       "      <td>NaN</td>\n",
       "      <td>False</td>\n",
       "      <td>False</td>\n",
       "      <td>25.00</td>\n",
       "      <td>NaN</td>\n",
       "      <td>Санкт-Петербург</td>\n",
       "      <td>18863.0</td>\n",
       "      <td>16028.0</td>\n",
       "      <td>1.0</td>\n",
       "      <td>482.0</td>\n",
       "      <td>2.0</td>\n",
       "      <td>755.0</td>\n",
       "      <td>NaN</td>\n",
       "    </tr>\n",
       "    <tr>\n",
       "      <th>1</th>\n",
       "      <td>7</td>\n",
       "      <td>3350000.0</td>\n",
       "      <td>40.40</td>\n",
       "      <td>2018-12-04T00:00:00</td>\n",
       "      <td>1</td>\n",
       "      <td>NaN</td>\n",
       "      <td>11.0</td>\n",
       "      <td>18.60</td>\n",
       "      <td>1</td>\n",
       "      <td>NaN</td>\n",
       "      <td>False</td>\n",
       "      <td>False</td>\n",
       "      <td>11.00</td>\n",
       "      <td>2.0</td>\n",
       "      <td>посёлок Шушары</td>\n",
       "      <td>12817.0</td>\n",
       "      <td>18603.0</td>\n",
       "      <td>0.0</td>\n",
       "      <td>NaN</td>\n",
       "      <td>0.0</td>\n",
       "      <td>NaN</td>\n",
       "      <td>81.0</td>\n",
       "    </tr>\n",
       "    <tr>\n",
       "      <th>2</th>\n",
       "      <td>10</td>\n",
       "      <td>5196000.0</td>\n",
       "      <td>56.00</td>\n",
       "      <td>2015-08-20T00:00:00</td>\n",
       "      <td>2</td>\n",
       "      <td>NaN</td>\n",
       "      <td>5.0</td>\n",
       "      <td>34.30</td>\n",
       "      <td>4</td>\n",
       "      <td>NaN</td>\n",
       "      <td>False</td>\n",
       "      <td>False</td>\n",
       "      <td>8.30</td>\n",
       "      <td>0.0</td>\n",
       "      <td>Санкт-Петербург</td>\n",
       "      <td>21741.0</td>\n",
       "      <td>13933.0</td>\n",
       "      <td>1.0</td>\n",
       "      <td>90.0</td>\n",
       "      <td>2.0</td>\n",
       "      <td>574.0</td>\n",
       "      <td>558.0</td>\n",
       "    </tr>\n",
       "    <tr>\n",
       "      <th>3</th>\n",
       "      <td>0</td>\n",
       "      <td>64900000.0</td>\n",
       "      <td>159.00</td>\n",
       "      <td>2015-07-24T00:00:00</td>\n",
       "      <td>3</td>\n",
       "      <td>NaN</td>\n",
       "      <td>14.0</td>\n",
       "      <td>NaN</td>\n",
       "      <td>9</td>\n",
       "      <td>NaN</td>\n",
       "      <td>False</td>\n",
       "      <td>False</td>\n",
       "      <td>NaN</td>\n",
       "      <td>0.0</td>\n",
       "      <td>Санкт-Петербург</td>\n",
       "      <td>28098.0</td>\n",
       "      <td>6800.0</td>\n",
       "      <td>2.0</td>\n",
       "      <td>84.0</td>\n",
       "      <td>3.0</td>\n",
       "      <td>234.0</td>\n",
       "      <td>424.0</td>\n",
       "    </tr>\n",
       "    <tr>\n",
       "      <th>4</th>\n",
       "      <td>2</td>\n",
       "      <td>10000000.0</td>\n",
       "      <td>100.00</td>\n",
       "      <td>2018-06-19T00:00:00</td>\n",
       "      <td>2</td>\n",
       "      <td>3.03</td>\n",
       "      <td>14.0</td>\n",
       "      <td>32.00</td>\n",
       "      <td>13</td>\n",
       "      <td>NaN</td>\n",
       "      <td>False</td>\n",
       "      <td>False</td>\n",
       "      <td>41.00</td>\n",
       "      <td>NaN</td>\n",
       "      <td>Санкт-Петербург</td>\n",
       "      <td>31856.0</td>\n",
       "      <td>8098.0</td>\n",
       "      <td>2.0</td>\n",
       "      <td>112.0</td>\n",
       "      <td>1.0</td>\n",
       "      <td>48.0</td>\n",
       "      <td>121.0</td>\n",
       "    </tr>\n",
       "    <tr>\n",
       "      <th>5</th>\n",
       "      <td>10</td>\n",
       "      <td>2890000.0</td>\n",
       "      <td>30.40</td>\n",
       "      <td>2018-09-10T00:00:00</td>\n",
       "      <td>1</td>\n",
       "      <td>NaN</td>\n",
       "      <td>12.0</td>\n",
       "      <td>14.40</td>\n",
       "      <td>5</td>\n",
       "      <td>NaN</td>\n",
       "      <td>False</td>\n",
       "      <td>False</td>\n",
       "      <td>9.10</td>\n",
       "      <td>NaN</td>\n",
       "      <td>городской посёлок Янино-1</td>\n",
       "      <td>NaN</td>\n",
       "      <td>NaN</td>\n",
       "      <td>NaN</td>\n",
       "      <td>NaN</td>\n",
       "      <td>NaN</td>\n",
       "      <td>NaN</td>\n",
       "      <td>55.0</td>\n",
       "    </tr>\n",
       "    <tr>\n",
       "      <th>6</th>\n",
       "      <td>6</td>\n",
       "      <td>3700000.0</td>\n",
       "      <td>37.30</td>\n",
       "      <td>2017-11-02T00:00:00</td>\n",
       "      <td>1</td>\n",
       "      <td>NaN</td>\n",
       "      <td>26.0</td>\n",
       "      <td>10.60</td>\n",
       "      <td>6</td>\n",
       "      <td>NaN</td>\n",
       "      <td>False</td>\n",
       "      <td>False</td>\n",
       "      <td>14.40</td>\n",
       "      <td>1.0</td>\n",
       "      <td>посёлок Парголово</td>\n",
       "      <td>52996.0</td>\n",
       "      <td>19143.0</td>\n",
       "      <td>0.0</td>\n",
       "      <td>NaN</td>\n",
       "      <td>0.0</td>\n",
       "      <td>NaN</td>\n",
       "      <td>155.0</td>\n",
       "    </tr>\n",
       "    <tr>\n",
       "      <th>7</th>\n",
       "      <td>5</td>\n",
       "      <td>7915000.0</td>\n",
       "      <td>71.60</td>\n",
       "      <td>2019-04-18T00:00:00</td>\n",
       "      <td>2</td>\n",
       "      <td>NaN</td>\n",
       "      <td>24.0</td>\n",
       "      <td>NaN</td>\n",
       "      <td>22</td>\n",
       "      <td>NaN</td>\n",
       "      <td>False</td>\n",
       "      <td>False</td>\n",
       "      <td>18.90</td>\n",
       "      <td>2.0</td>\n",
       "      <td>Санкт-Петербург</td>\n",
       "      <td>23982.0</td>\n",
       "      <td>11634.0</td>\n",
       "      <td>0.0</td>\n",
       "      <td>NaN</td>\n",
       "      <td>0.0</td>\n",
       "      <td>NaN</td>\n",
       "      <td>NaN</td>\n",
       "    </tr>\n",
       "    <tr>\n",
       "      <th>8</th>\n",
       "      <td>20</td>\n",
       "      <td>2900000.0</td>\n",
       "      <td>33.16</td>\n",
       "      <td>2018-05-23T00:00:00</td>\n",
       "      <td>1</td>\n",
       "      <td>NaN</td>\n",
       "      <td>27.0</td>\n",
       "      <td>15.43</td>\n",
       "      <td>26</td>\n",
       "      <td>NaN</td>\n",
       "      <td>False</td>\n",
       "      <td>False</td>\n",
       "      <td>8.81</td>\n",
       "      <td>NaN</td>\n",
       "      <td>посёлок Мурино</td>\n",
       "      <td>NaN</td>\n",
       "      <td>NaN</td>\n",
       "      <td>NaN</td>\n",
       "      <td>NaN</td>\n",
       "      <td>NaN</td>\n",
       "      <td>NaN</td>\n",
       "      <td>189.0</td>\n",
       "    </tr>\n",
       "    <tr>\n",
       "      <th>9</th>\n",
       "      <td>18</td>\n",
       "      <td>5400000.0</td>\n",
       "      <td>61.00</td>\n",
       "      <td>2017-02-26T00:00:00</td>\n",
       "      <td>3</td>\n",
       "      <td>2.50</td>\n",
       "      <td>9.0</td>\n",
       "      <td>43.60</td>\n",
       "      <td>7</td>\n",
       "      <td>NaN</td>\n",
       "      <td>False</td>\n",
       "      <td>False</td>\n",
       "      <td>6.50</td>\n",
       "      <td>2.0</td>\n",
       "      <td>Санкт-Петербург</td>\n",
       "      <td>50898.0</td>\n",
       "      <td>15008.0</td>\n",
       "      <td>0.0</td>\n",
       "      <td>NaN</td>\n",
       "      <td>0.0</td>\n",
       "      <td>NaN</td>\n",
       "      <td>289.0</td>\n",
       "    </tr>\n",
       "    <tr>\n",
       "      <th>10</th>\n",
       "      <td>5</td>\n",
       "      <td>5050000.0</td>\n",
       "      <td>39.60</td>\n",
       "      <td>2017-11-16T00:00:00</td>\n",
       "      <td>1</td>\n",
       "      <td>2.67</td>\n",
       "      <td>12.0</td>\n",
       "      <td>20.30</td>\n",
       "      <td>3</td>\n",
       "      <td>NaN</td>\n",
       "      <td>False</td>\n",
       "      <td>False</td>\n",
       "      <td>8.50</td>\n",
       "      <td>NaN</td>\n",
       "      <td>Санкт-Петербург</td>\n",
       "      <td>38357.0</td>\n",
       "      <td>13878.0</td>\n",
       "      <td>1.0</td>\n",
       "      <td>310.0</td>\n",
       "      <td>2.0</td>\n",
       "      <td>553.0</td>\n",
       "      <td>137.0</td>\n",
       "    </tr>\n",
       "    <tr>\n",
       "      <th>11</th>\n",
       "      <td>9</td>\n",
       "      <td>3300000.0</td>\n",
       "      <td>44.00</td>\n",
       "      <td>2018-08-27T00:00:00</td>\n",
       "      <td>2</td>\n",
       "      <td>NaN</td>\n",
       "      <td>5.0</td>\n",
       "      <td>31.00</td>\n",
       "      <td>4</td>\n",
       "      <td>False</td>\n",
       "      <td>False</td>\n",
       "      <td>False</td>\n",
       "      <td>6.00</td>\n",
       "      <td>1.0</td>\n",
       "      <td>Ломоносов</td>\n",
       "      <td>48252.0</td>\n",
       "      <td>51677.0</td>\n",
       "      <td>0.0</td>\n",
       "      <td>NaN</td>\n",
       "      <td>0.0</td>\n",
       "      <td>NaN</td>\n",
       "      <td>7.0</td>\n",
       "    </tr>\n",
       "    <tr>\n",
       "      <th>12</th>\n",
       "      <td>10</td>\n",
       "      <td>3890000.0</td>\n",
       "      <td>54.00</td>\n",
       "      <td>2016-06-30T00:00:00</td>\n",
       "      <td>2</td>\n",
       "      <td>NaN</td>\n",
       "      <td>5.0</td>\n",
       "      <td>30.00</td>\n",
       "      <td>5</td>\n",
       "      <td>NaN</td>\n",
       "      <td>False</td>\n",
       "      <td>False</td>\n",
       "      <td>9.00</td>\n",
       "      <td>0.0</td>\n",
       "      <td>Сертолово</td>\n",
       "      <td>NaN</td>\n",
       "      <td>NaN</td>\n",
       "      <td>NaN</td>\n",
       "      <td>NaN</td>\n",
       "      <td>NaN</td>\n",
       "      <td>NaN</td>\n",
       "      <td>90.0</td>\n",
       "    </tr>\n",
       "    <tr>\n",
       "      <th>13</th>\n",
       "      <td>20</td>\n",
       "      <td>3550000.0</td>\n",
       "      <td>42.80</td>\n",
       "      <td>2017-07-01T00:00:00</td>\n",
       "      <td>2</td>\n",
       "      <td>2.56</td>\n",
       "      <td>5.0</td>\n",
       "      <td>27.00</td>\n",
       "      <td>5</td>\n",
       "      <td>NaN</td>\n",
       "      <td>False</td>\n",
       "      <td>False</td>\n",
       "      <td>5.20</td>\n",
       "      <td>1.0</td>\n",
       "      <td>Петергоф</td>\n",
       "      <td>37868.0</td>\n",
       "      <td>33058.0</td>\n",
       "      <td>1.0</td>\n",
       "      <td>294.0</td>\n",
       "      <td>3.0</td>\n",
       "      <td>298.0</td>\n",
       "      <td>366.0</td>\n",
       "    </tr>\n",
       "    <tr>\n",
       "      <th>14</th>\n",
       "      <td>1</td>\n",
       "      <td>4400000.0</td>\n",
       "      <td>36.00</td>\n",
       "      <td>2016-06-23T00:00:00</td>\n",
       "      <td>1</td>\n",
       "      <td>NaN</td>\n",
       "      <td>6.0</td>\n",
       "      <td>17.00</td>\n",
       "      <td>1</td>\n",
       "      <td>NaN</td>\n",
       "      <td>False</td>\n",
       "      <td>False</td>\n",
       "      <td>8.00</td>\n",
       "      <td>0.0</td>\n",
       "      <td>Пушкин</td>\n",
       "      <td>20782.0</td>\n",
       "      <td>30759.0</td>\n",
       "      <td>0.0</td>\n",
       "      <td>NaN</td>\n",
       "      <td>1.0</td>\n",
       "      <td>96.0</td>\n",
       "      <td>203.0</td>\n",
       "    </tr>\n",
       "    <tr>\n",
       "      <th>15</th>\n",
       "      <td>16</td>\n",
       "      <td>4650000.0</td>\n",
       "      <td>39.00</td>\n",
       "      <td>2017-11-18T00:00:00</td>\n",
       "      <td>1</td>\n",
       "      <td>NaN</td>\n",
       "      <td>14.0</td>\n",
       "      <td>20.50</td>\n",
       "      <td>5</td>\n",
       "      <td>NaN</td>\n",
       "      <td>False</td>\n",
       "      <td>False</td>\n",
       "      <td>7.60</td>\n",
       "      <td>1.0</td>\n",
       "      <td>Санкт-Петербург</td>\n",
       "      <td>12900.0</td>\n",
       "      <td>14259.0</td>\n",
       "      <td>1.0</td>\n",
       "      <td>590.0</td>\n",
       "      <td>1.0</td>\n",
       "      <td>296.0</td>\n",
       "      <td>19.0</td>\n",
       "    </tr>\n",
       "    <tr>\n",
       "      <th>16</th>\n",
       "      <td>11</td>\n",
       "      <td>6700000.0</td>\n",
       "      <td>82.00</td>\n",
       "      <td>2017-11-23T00:00:00</td>\n",
       "      <td>3</td>\n",
       "      <td>3.05</td>\n",
       "      <td>5.0</td>\n",
       "      <td>55.60</td>\n",
       "      <td>1</td>\n",
       "      <td>NaN</td>\n",
       "      <td>False</td>\n",
       "      <td>False</td>\n",
       "      <td>9.00</td>\n",
       "      <td>NaN</td>\n",
       "      <td>Санкт-Петербург</td>\n",
       "      <td>22108.0</td>\n",
       "      <td>10698.0</td>\n",
       "      <td>3.0</td>\n",
       "      <td>420.0</td>\n",
       "      <td>0.0</td>\n",
       "      <td>NaN</td>\n",
       "      <td>397.0</td>\n",
       "    </tr>\n",
       "    <tr>\n",
       "      <th>17</th>\n",
       "      <td>6</td>\n",
       "      <td>4180000.0</td>\n",
       "      <td>36.00</td>\n",
       "      <td>2016-09-09T00:00:00</td>\n",
       "      <td>1</td>\n",
       "      <td>NaN</td>\n",
       "      <td>17.0</td>\n",
       "      <td>16.50</td>\n",
       "      <td>7</td>\n",
       "      <td>NaN</td>\n",
       "      <td>False</td>\n",
       "      <td>False</td>\n",
       "      <td>11.00</td>\n",
       "      <td>1.0</td>\n",
       "      <td>Санкт-Петербург</td>\n",
       "      <td>33564.0</td>\n",
       "      <td>14616.0</td>\n",
       "      <td>0.0</td>\n",
       "      <td>NaN</td>\n",
       "      <td>1.0</td>\n",
       "      <td>859.0</td>\n",
       "      <td>571.0</td>\n",
       "    </tr>\n",
       "    <tr>\n",
       "      <th>18</th>\n",
       "      <td>8</td>\n",
       "      <td>3250000.0</td>\n",
       "      <td>31.00</td>\n",
       "      <td>2017-01-27T00:00:00</td>\n",
       "      <td>1</td>\n",
       "      <td>2.50</td>\n",
       "      <td>5.0</td>\n",
       "      <td>19.40</td>\n",
       "      <td>2</td>\n",
       "      <td>NaN</td>\n",
       "      <td>False</td>\n",
       "      <td>False</td>\n",
       "      <td>5.60</td>\n",
       "      <td>1.0</td>\n",
       "      <td>Санкт-Петербург</td>\n",
       "      <td>44060.0</td>\n",
       "      <td>10842.0</td>\n",
       "      <td>1.0</td>\n",
       "      <td>759.0</td>\n",
       "      <td>0.0</td>\n",
       "      <td>NaN</td>\n",
       "      <td>168.0</td>\n",
       "    </tr>\n",
       "    <tr>\n",
       "      <th>19</th>\n",
       "      <td>16</td>\n",
       "      <td>14200000.0</td>\n",
       "      <td>121.00</td>\n",
       "      <td>2019-01-09T00:00:00</td>\n",
       "      <td>3</td>\n",
       "      <td>2.75</td>\n",
       "      <td>16.0</td>\n",
       "      <td>76.00</td>\n",
       "      <td>8</td>\n",
       "      <td>NaN</td>\n",
       "      <td>False</td>\n",
       "      <td>False</td>\n",
       "      <td>12.00</td>\n",
       "      <td>NaN</td>\n",
       "      <td>Санкт-Петербург</td>\n",
       "      <td>38900.0</td>\n",
       "      <td>12843.0</td>\n",
       "      <td>0.0</td>\n",
       "      <td>NaN</td>\n",
       "      <td>0.0</td>\n",
       "      <td>NaN</td>\n",
       "      <td>97.0</td>\n",
       "    </tr>\n",
       "    <tr>\n",
       "      <th>20</th>\n",
       "      <td>12</td>\n",
       "      <td>6120000.0</td>\n",
       "      <td>80.00</td>\n",
       "      <td>2017-09-28T00:00:00</td>\n",
       "      <td>3</td>\n",
       "      <td>2.70</td>\n",
       "      <td>27.0</td>\n",
       "      <td>48.00</td>\n",
       "      <td>11</td>\n",
       "      <td>NaN</td>\n",
       "      <td>False</td>\n",
       "      <td>False</td>\n",
       "      <td>12.00</td>\n",
       "      <td>2.0</td>\n",
       "      <td>посёлок Парголово</td>\n",
       "      <td>53134.0</td>\n",
       "      <td>19311.0</td>\n",
       "      <td>0.0</td>\n",
       "      <td>NaN</td>\n",
       "      <td>0.0</td>\n",
       "      <td>NaN</td>\n",
       "      <td>74.0</td>\n",
       "    </tr>\n",
       "    <tr>\n",
       "      <th>21</th>\n",
       "      <td>13</td>\n",
       "      <td>3200000.0</td>\n",
       "      <td>31.60</td>\n",
       "      <td>2018-03-14T00:00:00</td>\n",
       "      <td>1</td>\n",
       "      <td>NaN</td>\n",
       "      <td>5.0</td>\n",
       "      <td>16.90</td>\n",
       "      <td>2</td>\n",
       "      <td>NaN</td>\n",
       "      <td>False</td>\n",
       "      <td>False</td>\n",
       "      <td>5.70</td>\n",
       "      <td>1.0</td>\n",
       "      <td>Санкт-Петербург</td>\n",
       "      <td>36064.0</td>\n",
       "      <td>9722.0</td>\n",
       "      <td>1.0</td>\n",
       "      <td>248.0</td>\n",
       "      <td>0.0</td>\n",
       "      <td>NaN</td>\n",
       "      <td>310.0</td>\n",
       "    </tr>\n",
       "    <tr>\n",
       "      <th>22</th>\n",
       "      <td>20</td>\n",
       "      <td>5000000.0</td>\n",
       "      <td>58.00</td>\n",
       "      <td>2017-04-24T00:00:00</td>\n",
       "      <td>2</td>\n",
       "      <td>2.75</td>\n",
       "      <td>25.0</td>\n",
       "      <td>30.00</td>\n",
       "      <td>15</td>\n",
       "      <td>NaN</td>\n",
       "      <td>False</td>\n",
       "      <td>False</td>\n",
       "      <td>11.00</td>\n",
       "      <td>2.0</td>\n",
       "      <td>деревня Кудрово</td>\n",
       "      <td>NaN</td>\n",
       "      <td>NaN</td>\n",
       "      <td>NaN</td>\n",
       "      <td>NaN</td>\n",
       "      <td>NaN</td>\n",
       "      <td>NaN</td>\n",
       "      <td>60.0</td>\n",
       "    </tr>\n",
       "    <tr>\n",
       "      <th>23</th>\n",
       "      <td>11</td>\n",
       "      <td>2950000.0</td>\n",
       "      <td>32.00</td>\n",
       "      <td>2016-10-29T00:00:00</td>\n",
       "      <td>1</td>\n",
       "      <td>2.60</td>\n",
       "      <td>9.0</td>\n",
       "      <td>17.70</td>\n",
       "      <td>9</td>\n",
       "      <td>NaN</td>\n",
       "      <td>False</td>\n",
       "      <td>False</td>\n",
       "      <td>6.10</td>\n",
       "      <td>NaN</td>\n",
       "      <td>Санкт-Петербург</td>\n",
       "      <td>15414.0</td>\n",
       "      <td>14211.0</td>\n",
       "      <td>2.0</td>\n",
       "      <td>517.0</td>\n",
       "      <td>1.0</td>\n",
       "      <td>190.0</td>\n",
       "      <td>615.0</td>\n",
       "    </tr>\n",
       "    <tr>\n",
       "      <th>24</th>\n",
       "      <td>8</td>\n",
       "      <td>6500000.0</td>\n",
       "      <td>97.20</td>\n",
       "      <td>2015-10-31T00:00:00</td>\n",
       "      <td>2</td>\n",
       "      <td>NaN</td>\n",
       "      <td>3.0</td>\n",
       "      <td>46.50</td>\n",
       "      <td>1</td>\n",
       "      <td>NaN</td>\n",
       "      <td>False</td>\n",
       "      <td>False</td>\n",
       "      <td>19.60</td>\n",
       "      <td>0.0</td>\n",
       "      <td>Санкт-Петербург</td>\n",
       "      <td>20052.0</td>\n",
       "      <td>2336.0</td>\n",
       "      <td>3.0</td>\n",
       "      <td>411.0</td>\n",
       "      <td>3.0</td>\n",
       "      <td>124.0</td>\n",
       "      <td>265.0</td>\n",
       "    </tr>\n",
       "    <tr>\n",
       "      <th>25</th>\n",
       "      <td>3</td>\n",
       "      <td>6800000.0</td>\n",
       "      <td>76.00</td>\n",
       "      <td>2015-10-01T00:00:00</td>\n",
       "      <td>2</td>\n",
       "      <td>2.75</td>\n",
       "      <td>23.0</td>\n",
       "      <td>39.00</td>\n",
       "      <td>18</td>\n",
       "      <td>False</td>\n",
       "      <td>False</td>\n",
       "      <td>False</td>\n",
       "      <td>15.00</td>\n",
       "      <td>2.0</td>\n",
       "      <td>Санкт-Петербург</td>\n",
       "      <td>34967.0</td>\n",
       "      <td>14640.0</td>\n",
       "      <td>0.0</td>\n",
       "      <td>NaN</td>\n",
       "      <td>1.0</td>\n",
       "      <td>564.0</td>\n",
       "      <td>300.0</td>\n",
       "    </tr>\n",
       "    <tr>\n",
       "      <th>26</th>\n",
       "      <td>6</td>\n",
       "      <td>4050000.0</td>\n",
       "      <td>60.00</td>\n",
       "      <td>2017-04-28T00:00:00</td>\n",
       "      <td>4</td>\n",
       "      <td>NaN</td>\n",
       "      <td>5.0</td>\n",
       "      <td>43.00</td>\n",
       "      <td>4</td>\n",
       "      <td>NaN</td>\n",
       "      <td>False</td>\n",
       "      <td>False</td>\n",
       "      <td>7.00</td>\n",
       "      <td>NaN</td>\n",
       "      <td>Санкт-Петербург</td>\n",
       "      <td>11580.0</td>\n",
       "      <td>10510.0</td>\n",
       "      <td>0.0</td>\n",
       "      <td>NaN</td>\n",
       "      <td>1.0</td>\n",
       "      <td>95.0</td>\n",
       "      <td>265.0</td>\n",
       "    </tr>\n",
       "    <tr>\n",
       "      <th>27</th>\n",
       "      <td>20</td>\n",
       "      <td>7100000.0</td>\n",
       "      <td>70.00</td>\n",
       "      <td>2017-05-12T00:00:00</td>\n",
       "      <td>3</td>\n",
       "      <td>2.60</td>\n",
       "      <td>17.0</td>\n",
       "      <td>49.00</td>\n",
       "      <td>11</td>\n",
       "      <td>NaN</td>\n",
       "      <td>False</td>\n",
       "      <td>False</td>\n",
       "      <td>9.20</td>\n",
       "      <td>0.0</td>\n",
       "      <td>Санкт-Петербург</td>\n",
       "      <td>29197.0</td>\n",
       "      <td>11456.0</td>\n",
       "      <td>2.0</td>\n",
       "      <td>452.0</td>\n",
       "      <td>1.0</td>\n",
       "      <td>779.0</td>\n",
       "      <td>151.0</td>\n",
       "    </tr>\n",
       "    <tr>\n",
       "      <th>28</th>\n",
       "      <td>8</td>\n",
       "      <td>4170000.0</td>\n",
       "      <td>44.00</td>\n",
       "      <td>2017-12-13T00:00:00</td>\n",
       "      <td>1</td>\n",
       "      <td>2.90</td>\n",
       "      <td>6.0</td>\n",
       "      <td>20.80</td>\n",
       "      <td>1</td>\n",
       "      <td>NaN</td>\n",
       "      <td>False</td>\n",
       "      <td>False</td>\n",
       "      <td>11.70</td>\n",
       "      <td>1.0</td>\n",
       "      <td>Пушкин</td>\n",
       "      <td>18557.0</td>\n",
       "      <td>30710.0</td>\n",
       "      <td>0.0</td>\n",
       "      <td>NaN</td>\n",
       "      <td>1.0</td>\n",
       "      <td>118.0</td>\n",
       "      <td>74.0</td>\n",
       "    </tr>\n",
       "    <tr>\n",
       "      <th>29</th>\n",
       "      <td>9</td>\n",
       "      <td>8600000.0</td>\n",
       "      <td>100.00</td>\n",
       "      <td>2016-04-09T00:00:00</td>\n",
       "      <td>3</td>\n",
       "      <td>NaN</td>\n",
       "      <td>19.0</td>\n",
       "      <td>52.00</td>\n",
       "      <td>15</td>\n",
       "      <td>False</td>\n",
       "      <td>False</td>\n",
       "      <td>False</td>\n",
       "      <td>11.00</td>\n",
       "      <td>0.0</td>\n",
       "      <td>Санкт-Петербург</td>\n",
       "      <td>30394.0</td>\n",
       "      <td>11526.0</td>\n",
       "      <td>1.0</td>\n",
       "      <td>532.0</td>\n",
       "      <td>1.0</td>\n",
       "      <td>896.0</td>\n",
       "      <td>125.0</td>\n",
       "    </tr>\n",
       "    <tr>\n",
       "      <th>30</th>\n",
       "      <td>12</td>\n",
       "      <td>2200000.0</td>\n",
       "      <td>32.80</td>\n",
       "      <td>2018-02-19T00:00:00</td>\n",
       "      <td>1</td>\n",
       "      <td>NaN</td>\n",
       "      <td>9.0</td>\n",
       "      <td>NaN</td>\n",
       "      <td>2</td>\n",
       "      <td>NaN</td>\n",
       "      <td>False</td>\n",
       "      <td>False</td>\n",
       "      <td>NaN</td>\n",
       "      <td>NaN</td>\n",
       "      <td>Коммунар</td>\n",
       "      <td>NaN</td>\n",
       "      <td>NaN</td>\n",
       "      <td>NaN</td>\n",
       "      <td>NaN</td>\n",
       "      <td>NaN</td>\n",
       "      <td>NaN</td>\n",
       "      <td>63.0</td>\n",
       "    </tr>\n",
       "    <tr>\n",
       "      <th>31</th>\n",
       "      <td>8</td>\n",
       "      <td>7200000.0</td>\n",
       "      <td>67.90</td>\n",
       "      <td>2017-10-26T00:00:00</td>\n",
       "      <td>2</td>\n",
       "      <td>2.80</td>\n",
       "      <td>16.0</td>\n",
       "      <td>38.10</td>\n",
       "      <td>4</td>\n",
       "      <td>NaN</td>\n",
       "      <td>False</td>\n",
       "      <td>False</td>\n",
       "      <td>13.40</td>\n",
       "      <td>2.0</td>\n",
       "      <td>Санкт-Петербург</td>\n",
       "      <td>32888.0</td>\n",
       "      <td>12944.0</td>\n",
       "      <td>0.0</td>\n",
       "      <td>NaN</td>\n",
       "      <td>0.0</td>\n",
       "      <td>NaN</td>\n",
       "      <td>112.0</td>\n",
       "    </tr>\n",
       "    <tr>\n",
       "      <th>32</th>\n",
       "      <td>7</td>\n",
       "      <td>4990000.0</td>\n",
       "      <td>60.00</td>\n",
       "      <td>2016-05-22T00:00:00</td>\n",
       "      <td>3</td>\n",
       "      <td>NaN</td>\n",
       "      <td>5.0</td>\n",
       "      <td>39.00</td>\n",
       "      <td>4</td>\n",
       "      <td>NaN</td>\n",
       "      <td>False</td>\n",
       "      <td>False</td>\n",
       "      <td>6.00</td>\n",
       "      <td>0.0</td>\n",
       "      <td>Санкт-Петербург</td>\n",
       "      <td>11349.0</td>\n",
       "      <td>12889.0</td>\n",
       "      <td>0.0</td>\n",
       "      <td>NaN</td>\n",
       "      <td>1.0</td>\n",
       "      <td>426.0</td>\n",
       "      <td>224.0</td>\n",
       "    </tr>\n",
       "    <tr>\n",
       "      <th>33</th>\n",
       "      <td>8</td>\n",
       "      <td>4800000.0</td>\n",
       "      <td>73.00</td>\n",
       "      <td>2018-10-15T00:00:00</td>\n",
       "      <td>4</td>\n",
       "      <td>NaN</td>\n",
       "      <td>9.0</td>\n",
       "      <td>51.60</td>\n",
       "      <td>5</td>\n",
       "      <td>NaN</td>\n",
       "      <td>False</td>\n",
       "      <td>False</td>\n",
       "      <td>6.50</td>\n",
       "      <td>NaN</td>\n",
       "      <td>Колпино</td>\n",
       "      <td>26535.0</td>\n",
       "      <td>32321.0</td>\n",
       "      <td>0.0</td>\n",
       "      <td>NaN</td>\n",
       "      <td>0.0</td>\n",
       "      <td>NaN</td>\n",
       "      <td>92.0</td>\n",
       "    </tr>\n",
       "    <tr>\n",
       "      <th>34</th>\n",
       "      <td>3</td>\n",
       "      <td>3290000.0</td>\n",
       "      <td>33.00</td>\n",
       "      <td>2018-02-04T00:00:00</td>\n",
       "      <td>1</td>\n",
       "      <td>2.55</td>\n",
       "      <td>16.0</td>\n",
       "      <td>14.00</td>\n",
       "      <td>3</td>\n",
       "      <td>NaN</td>\n",
       "      <td>False</td>\n",
       "      <td>False</td>\n",
       "      <td>8.00</td>\n",
       "      <td>NaN</td>\n",
       "      <td>Санкт-Петербург</td>\n",
       "      <td>13943.0</td>\n",
       "      <td>12739.0</td>\n",
       "      <td>0.0</td>\n",
       "      <td>NaN</td>\n",
       "      <td>0.0</td>\n",
       "      <td>NaN</td>\n",
       "      <td>15.0</td>\n",
       "    </tr>\n",
       "    <tr>\n",
       "      <th>35</th>\n",
       "      <td>6</td>\n",
       "      <td>15500000.0</td>\n",
       "      <td>149.00</td>\n",
       "      <td>2017-06-26T00:00:00</td>\n",
       "      <td>5</td>\n",
       "      <td>NaN</td>\n",
       "      <td>5.0</td>\n",
       "      <td>104.00</td>\n",
       "      <td>4</td>\n",
       "      <td>NaN</td>\n",
       "      <td>False</td>\n",
       "      <td>False</td>\n",
       "      <td>17.00</td>\n",
       "      <td>NaN</td>\n",
       "      <td>Санкт-Петербург</td>\n",
       "      <td>23670.0</td>\n",
       "      <td>3502.0</td>\n",
       "      <td>0.0</td>\n",
       "      <td>NaN</td>\n",
       "      <td>1.0</td>\n",
       "      <td>779.0</td>\n",
       "      <td>644.0</td>\n",
       "    </tr>\n",
       "    <tr>\n",
       "      <th>36</th>\n",
       "      <td>13</td>\n",
       "      <td>3790000.0</td>\n",
       "      <td>45.00</td>\n",
       "      <td>2017-01-25T00:00:00</td>\n",
       "      <td>2</td>\n",
       "      <td>NaN</td>\n",
       "      <td>9.0</td>\n",
       "      <td>27.00</td>\n",
       "      <td>9</td>\n",
       "      <td>False</td>\n",
       "      <td>False</td>\n",
       "      <td>False</td>\n",
       "      <td>6.30</td>\n",
       "      <td>2.0</td>\n",
       "      <td>Санкт-Петербург</td>\n",
       "      <td>49574.0</td>\n",
       "      <td>16461.0</td>\n",
       "      <td>1.0</td>\n",
       "      <td>459.0</td>\n",
       "      <td>0.0</td>\n",
       "      <td>NaN</td>\n",
       "      <td>139.0</td>\n",
       "    </tr>\n",
       "    <tr>\n",
       "      <th>37</th>\n",
       "      <td>10</td>\n",
       "      <td>1990000.0</td>\n",
       "      <td>45.80</td>\n",
       "      <td>2017-10-28T00:00:00</td>\n",
       "      <td>2</td>\n",
       "      <td>2.50</td>\n",
       "      <td>5.0</td>\n",
       "      <td>NaN</td>\n",
       "      <td>1</td>\n",
       "      <td>NaN</td>\n",
       "      <td>False</td>\n",
       "      <td>False</td>\n",
       "      <td>NaN</td>\n",
       "      <td>NaN</td>\n",
       "      <td>поселок городского типа Красный Бор</td>\n",
       "      <td>NaN</td>\n",
       "      <td>NaN</td>\n",
       "      <td>NaN</td>\n",
       "      <td>NaN</td>\n",
       "      <td>NaN</td>\n",
       "      <td>NaN</td>\n",
       "      <td>196.0</td>\n",
       "    </tr>\n",
       "    <tr>\n",
       "      <th>38</th>\n",
       "      <td>10</td>\n",
       "      <td>3150000.0</td>\n",
       "      <td>40.00</td>\n",
       "      <td>2018-03-29T00:00:00</td>\n",
       "      <td>1</td>\n",
       "      <td>2.75</td>\n",
       "      <td>18.0</td>\n",
       "      <td>16.30</td>\n",
       "      <td>9</td>\n",
       "      <td>NaN</td>\n",
       "      <td>False</td>\n",
       "      <td>False</td>\n",
       "      <td>11.60</td>\n",
       "      <td>NaN</td>\n",
       "      <td>посёлок Мурино</td>\n",
       "      <td>NaN</td>\n",
       "      <td>NaN</td>\n",
       "      <td>NaN</td>\n",
       "      <td>NaN</td>\n",
       "      <td>NaN</td>\n",
       "      <td>NaN</td>\n",
       "      <td>103.0</td>\n",
       "    </tr>\n",
       "    <tr>\n",
       "      <th>39</th>\n",
       "      <td>15</td>\n",
       "      <td>5200000.0</td>\n",
       "      <td>54.40</td>\n",
       "      <td>2018-11-29T00:00:00</td>\n",
       "      <td>2</td>\n",
       "      <td>2.75</td>\n",
       "      <td>9.0</td>\n",
       "      <td>29.70</td>\n",
       "      <td>2</td>\n",
       "      <td>NaN</td>\n",
       "      <td>False</td>\n",
       "      <td>False</td>\n",
       "      <td>8.80</td>\n",
       "      <td>2.0</td>\n",
       "      <td>Санкт-Петербург</td>\n",
       "      <td>13413.0</td>\n",
       "      <td>12209.0</td>\n",
       "      <td>0.0</td>\n",
       "      <td>NaN</td>\n",
       "      <td>1.0</td>\n",
       "      <td>1175.0</td>\n",
       "      <td>29.0</td>\n",
       "    </tr>\n",
       "    <tr>\n",
       "      <th>40</th>\n",
       "      <td>9</td>\n",
       "      <td>3590000.0</td>\n",
       "      <td>36.00</td>\n",
       "      <td>2017-03-15T00:00:00</td>\n",
       "      <td>1</td>\n",
       "      <td>2.60</td>\n",
       "      <td>26.0</td>\n",
       "      <td>15.00</td>\n",
       "      <td>22</td>\n",
       "      <td>NaN</td>\n",
       "      <td>False</td>\n",
       "      <td>False</td>\n",
       "      <td>10.00</td>\n",
       "      <td>2.0</td>\n",
       "      <td>посёлок Парголово</td>\n",
       "      <td>52996.0</td>\n",
       "      <td>19143.0</td>\n",
       "      <td>0.0</td>\n",
       "      <td>NaN</td>\n",
       "      <td>0.0</td>\n",
       "      <td>NaN</td>\n",
       "      <td>430.0</td>\n",
       "    </tr>\n",
       "    <tr>\n",
       "      <th>41</th>\n",
       "      <td>16</td>\n",
       "      <td>7900000.0</td>\n",
       "      <td>74.00</td>\n",
       "      <td>2016-05-04T00:00:00</td>\n",
       "      <td>3</td>\n",
       "      <td>NaN</td>\n",
       "      <td>14.0</td>\n",
       "      <td>59.00</td>\n",
       "      <td>8</td>\n",
       "      <td>False</td>\n",
       "      <td>False</td>\n",
       "      <td>False</td>\n",
       "      <td>12.00</td>\n",
       "      <td>5.0</td>\n",
       "      <td>Санкт-Петербург</td>\n",
       "      <td>37715.0</td>\n",
       "      <td>12612.0</td>\n",
       "      <td>1.0</td>\n",
       "      <td>725.0</td>\n",
       "      <td>1.0</td>\n",
       "      <td>759.0</td>\n",
       "      <td>179.0</td>\n",
       "    </tr>\n",
       "    <tr>\n",
       "      <th>42</th>\n",
       "      <td>13</td>\n",
       "      <td>22000000.0</td>\n",
       "      <td>161.80</td>\n",
       "      <td>2015-07-08T00:00:00</td>\n",
       "      <td>4</td>\n",
       "      <td>2.80</td>\n",
       "      <td>4.0</td>\n",
       "      <td>80.90</td>\n",
       "      <td>2</td>\n",
       "      <td>False</td>\n",
       "      <td>False</td>\n",
       "      <td>False</td>\n",
       "      <td>17.60</td>\n",
       "      <td>5.0</td>\n",
       "      <td>Петергоф</td>\n",
       "      <td>35416.0</td>\n",
       "      <td>30605.0</td>\n",
       "      <td>2.0</td>\n",
       "      <td>47.0</td>\n",
       "      <td>1.0</td>\n",
       "      <td>907.0</td>\n",
       "      <td>987.0</td>\n",
       "    </tr>\n",
       "    <tr>\n",
       "      <th>43</th>\n",
       "      <td>13</td>\n",
       "      <td>9330000.0</td>\n",
       "      <td>48.00</td>\n",
       "      <td>2017-01-10T00:00:00</td>\n",
       "      <td>2</td>\n",
       "      <td>3.00</td>\n",
       "      <td>4.0</td>\n",
       "      <td>28.00</td>\n",
       "      <td>4</td>\n",
       "      <td>NaN</td>\n",
       "      <td>False</td>\n",
       "      <td>False</td>\n",
       "      <td>7.50</td>\n",
       "      <td>NaN</td>\n",
       "      <td>Санкт-Петербург</td>\n",
       "      <td>15016.0</td>\n",
       "      <td>10822.0</td>\n",
       "      <td>0.0</td>\n",
       "      <td>NaN</td>\n",
       "      <td>1.0</td>\n",
       "      <td>492.0</td>\n",
       "      <td>763.0</td>\n",
       "    </tr>\n",
       "    <tr>\n",
       "      <th>44</th>\n",
       "      <td>13</td>\n",
       "      <td>5350000.0</td>\n",
       "      <td>40.00</td>\n",
       "      <td>2018-11-18T00:00:00</td>\n",
       "      <td>1</td>\n",
       "      <td>NaN</td>\n",
       "      <td>22.0</td>\n",
       "      <td>NaN</td>\n",
       "      <td>3</td>\n",
       "      <td>NaN</td>\n",
       "      <td>False</td>\n",
       "      <td>False</td>\n",
       "      <td>NaN</td>\n",
       "      <td>1.0</td>\n",
       "      <td>Санкт-Петербург</td>\n",
       "      <td>30471.0</td>\n",
       "      <td>11603.0</td>\n",
       "      <td>1.0</td>\n",
       "      <td>620.0</td>\n",
       "      <td>1.0</td>\n",
       "      <td>1152.0</td>\n",
       "      <td>NaN</td>\n",
       "    </tr>\n",
       "    <tr>\n",
       "      <th>45</th>\n",
       "      <td>17</td>\n",
       "      <td>5200000.0</td>\n",
       "      <td>50.60</td>\n",
       "      <td>2018-12-02T00:00:00</td>\n",
       "      <td>2</td>\n",
       "      <td>2.65</td>\n",
       "      <td>9.0</td>\n",
       "      <td>30.30</td>\n",
       "      <td>7</td>\n",
       "      <td>NaN</td>\n",
       "      <td>False</td>\n",
       "      <td>False</td>\n",
       "      <td>7.00</td>\n",
       "      <td>NaN</td>\n",
       "      <td>Санкт-Петербург</td>\n",
       "      <td>30011.0</td>\n",
       "      <td>12872.0</td>\n",
       "      <td>0.0</td>\n",
       "      <td>NaN</td>\n",
       "      <td>0.0</td>\n",
       "      <td>NaN</td>\n",
       "      <td>NaN</td>\n",
       "    </tr>\n",
       "    <tr>\n",
       "      <th>46</th>\n",
       "      <td>17</td>\n",
       "      <td>6600000.0</td>\n",
       "      <td>52.10</td>\n",
       "      <td>2019-01-31T00:00:00</td>\n",
       "      <td>2</td>\n",
       "      <td>2.60</td>\n",
       "      <td>24.0</td>\n",
       "      <td>29.70</td>\n",
       "      <td>9</td>\n",
       "      <td>NaN</td>\n",
       "      <td>False</td>\n",
       "      <td>False</td>\n",
       "      <td>8.30</td>\n",
       "      <td>2.0</td>\n",
       "      <td>Санкт-Петербург</td>\n",
       "      <td>15114.0</td>\n",
       "      <td>12702.0</td>\n",
       "      <td>0.0</td>\n",
       "      <td>NaN</td>\n",
       "      <td>0.0</td>\n",
       "      <td>NaN</td>\n",
       "      <td>NaN</td>\n",
       "    </tr>\n",
       "    <tr>\n",
       "      <th>47</th>\n",
       "      <td>17</td>\n",
       "      <td>3600000.0</td>\n",
       "      <td>56.10</td>\n",
       "      <td>2018-10-18T00:00:00</td>\n",
       "      <td>3</td>\n",
       "      <td>NaN</td>\n",
       "      <td>4.0</td>\n",
       "      <td>42.50</td>\n",
       "      <td>3</td>\n",
       "      <td>NaN</td>\n",
       "      <td>False</td>\n",
       "      <td>False</td>\n",
       "      <td>5.70</td>\n",
       "      <td>1.0</td>\n",
       "      <td>Гатчина</td>\n",
       "      <td>NaN</td>\n",
       "      <td>NaN</td>\n",
       "      <td>NaN</td>\n",
       "      <td>NaN</td>\n",
       "      <td>NaN</td>\n",
       "      <td>NaN</td>\n",
       "      <td>179.0</td>\n",
       "    </tr>\n",
       "    <tr>\n",
       "      <th>48</th>\n",
       "      <td>10</td>\n",
       "      <td>3600000.0</td>\n",
       "      <td>33.83</td>\n",
       "      <td>2017-10-03T00:00:00</td>\n",
       "      <td>1</td>\n",
       "      <td>NaN</td>\n",
       "      <td>24.0</td>\n",
       "      <td>15.35</td>\n",
       "      <td>6</td>\n",
       "      <td>NaN</td>\n",
       "      <td>False</td>\n",
       "      <td>False</td>\n",
       "      <td>9.50</td>\n",
       "      <td>NaN</td>\n",
       "      <td>Санкт-Петербург</td>\n",
       "      <td>21460.0</td>\n",
       "      <td>16788.0</td>\n",
       "      <td>0.0</td>\n",
       "      <td>NaN</td>\n",
       "      <td>1.0</td>\n",
       "      <td>170.0</td>\n",
       "      <td>322.0</td>\n",
       "    </tr>\n",
       "    <tr>\n",
       "      <th>49</th>\n",
       "      <td>1</td>\n",
       "      <td>3050000.0</td>\n",
       "      <td>30.80</td>\n",
       "      <td>2018-11-22T00:00:00</td>\n",
       "      <td>1</td>\n",
       "      <td>2.50</td>\n",
       "      <td>9.0</td>\n",
       "      <td>18.00</td>\n",
       "      <td>7</td>\n",
       "      <td>NaN</td>\n",
       "      <td>False</td>\n",
       "      <td>False</td>\n",
       "      <td>6.00</td>\n",
       "      <td>NaN</td>\n",
       "      <td>Санкт-Петербург</td>\n",
       "      <td>45341.0</td>\n",
       "      <td>16603.0</td>\n",
       "      <td>1.0</td>\n",
       "      <td>675.0</td>\n",
       "      <td>0.0</td>\n",
       "      <td>NaN</td>\n",
       "      <td>NaN</td>\n",
       "    </tr>\n",
       "  </tbody>\n",
       "</table>\n",
       "</div>"
      ],
      "text/plain": [
       "    total_images  last_price  total_area first_day_exposition  rooms  \\\n",
       "0             20  13000000.0      108.00  2019-03-07T00:00:00      3   \n",
       "1              7   3350000.0       40.40  2018-12-04T00:00:00      1   \n",
       "2             10   5196000.0       56.00  2015-08-20T00:00:00      2   \n",
       "3              0  64900000.0      159.00  2015-07-24T00:00:00      3   \n",
       "4              2  10000000.0      100.00  2018-06-19T00:00:00      2   \n",
       "5             10   2890000.0       30.40  2018-09-10T00:00:00      1   \n",
       "6              6   3700000.0       37.30  2017-11-02T00:00:00      1   \n",
       "7              5   7915000.0       71.60  2019-04-18T00:00:00      2   \n",
       "8             20   2900000.0       33.16  2018-05-23T00:00:00      1   \n",
       "9             18   5400000.0       61.00  2017-02-26T00:00:00      3   \n",
       "10             5   5050000.0       39.60  2017-11-16T00:00:00      1   \n",
       "11             9   3300000.0       44.00  2018-08-27T00:00:00      2   \n",
       "12            10   3890000.0       54.00  2016-06-30T00:00:00      2   \n",
       "13            20   3550000.0       42.80  2017-07-01T00:00:00      2   \n",
       "14             1   4400000.0       36.00  2016-06-23T00:00:00      1   \n",
       "15            16   4650000.0       39.00  2017-11-18T00:00:00      1   \n",
       "16            11   6700000.0       82.00  2017-11-23T00:00:00      3   \n",
       "17             6   4180000.0       36.00  2016-09-09T00:00:00      1   \n",
       "18             8   3250000.0       31.00  2017-01-27T00:00:00      1   \n",
       "19            16  14200000.0      121.00  2019-01-09T00:00:00      3   \n",
       "20            12   6120000.0       80.00  2017-09-28T00:00:00      3   \n",
       "21            13   3200000.0       31.60  2018-03-14T00:00:00      1   \n",
       "22            20   5000000.0       58.00  2017-04-24T00:00:00      2   \n",
       "23            11   2950000.0       32.00  2016-10-29T00:00:00      1   \n",
       "24             8   6500000.0       97.20  2015-10-31T00:00:00      2   \n",
       "25             3   6800000.0       76.00  2015-10-01T00:00:00      2   \n",
       "26             6   4050000.0       60.00  2017-04-28T00:00:00      4   \n",
       "27            20   7100000.0       70.00  2017-05-12T00:00:00      3   \n",
       "28             8   4170000.0       44.00  2017-12-13T00:00:00      1   \n",
       "29             9   8600000.0      100.00  2016-04-09T00:00:00      3   \n",
       "30            12   2200000.0       32.80  2018-02-19T00:00:00      1   \n",
       "31             8   7200000.0       67.90  2017-10-26T00:00:00      2   \n",
       "32             7   4990000.0       60.00  2016-05-22T00:00:00      3   \n",
       "33             8   4800000.0       73.00  2018-10-15T00:00:00      4   \n",
       "34             3   3290000.0       33.00  2018-02-04T00:00:00      1   \n",
       "35             6  15500000.0      149.00  2017-06-26T00:00:00      5   \n",
       "36            13   3790000.0       45.00  2017-01-25T00:00:00      2   \n",
       "37            10   1990000.0       45.80  2017-10-28T00:00:00      2   \n",
       "38            10   3150000.0       40.00  2018-03-29T00:00:00      1   \n",
       "39            15   5200000.0       54.40  2018-11-29T00:00:00      2   \n",
       "40             9   3590000.0       36.00  2017-03-15T00:00:00      1   \n",
       "41            16   7900000.0       74.00  2016-05-04T00:00:00      3   \n",
       "42            13  22000000.0      161.80  2015-07-08T00:00:00      4   \n",
       "43            13   9330000.0       48.00  2017-01-10T00:00:00      2   \n",
       "44            13   5350000.0       40.00  2018-11-18T00:00:00      1   \n",
       "45            17   5200000.0       50.60  2018-12-02T00:00:00      2   \n",
       "46            17   6600000.0       52.10  2019-01-31T00:00:00      2   \n",
       "47            17   3600000.0       56.10  2018-10-18T00:00:00      3   \n",
       "48            10   3600000.0       33.83  2017-10-03T00:00:00      1   \n",
       "49             1   3050000.0       30.80  2018-11-22T00:00:00      1   \n",
       "\n",
       "    ceiling_height  floors_total  living_area  floor is_apartment  studio  \\\n",
       "0             2.70          16.0        51.00      8          NaN   False   \n",
       "1              NaN          11.0        18.60      1          NaN   False   \n",
       "2              NaN           5.0        34.30      4          NaN   False   \n",
       "3              NaN          14.0          NaN      9          NaN   False   \n",
       "4             3.03          14.0        32.00     13          NaN   False   \n",
       "5              NaN          12.0        14.40      5          NaN   False   \n",
       "6              NaN          26.0        10.60      6          NaN   False   \n",
       "7              NaN          24.0          NaN     22          NaN   False   \n",
       "8              NaN          27.0        15.43     26          NaN   False   \n",
       "9             2.50           9.0        43.60      7          NaN   False   \n",
       "10            2.67          12.0        20.30      3          NaN   False   \n",
       "11             NaN           5.0        31.00      4        False   False   \n",
       "12             NaN           5.0        30.00      5          NaN   False   \n",
       "13            2.56           5.0        27.00      5          NaN   False   \n",
       "14             NaN           6.0        17.00      1          NaN   False   \n",
       "15             NaN          14.0        20.50      5          NaN   False   \n",
       "16            3.05           5.0        55.60      1          NaN   False   \n",
       "17             NaN          17.0        16.50      7          NaN   False   \n",
       "18            2.50           5.0        19.40      2          NaN   False   \n",
       "19            2.75          16.0        76.00      8          NaN   False   \n",
       "20            2.70          27.0        48.00     11          NaN   False   \n",
       "21             NaN           5.0        16.90      2          NaN   False   \n",
       "22            2.75          25.0        30.00     15          NaN   False   \n",
       "23            2.60           9.0        17.70      9          NaN   False   \n",
       "24             NaN           3.0        46.50      1          NaN   False   \n",
       "25            2.75          23.0        39.00     18        False   False   \n",
       "26             NaN           5.0        43.00      4          NaN   False   \n",
       "27            2.60          17.0        49.00     11          NaN   False   \n",
       "28            2.90           6.0        20.80      1          NaN   False   \n",
       "29             NaN          19.0        52.00     15        False   False   \n",
       "30             NaN           9.0          NaN      2          NaN   False   \n",
       "31            2.80          16.0        38.10      4          NaN   False   \n",
       "32             NaN           5.0        39.00      4          NaN   False   \n",
       "33             NaN           9.0        51.60      5          NaN   False   \n",
       "34            2.55          16.0        14.00      3          NaN   False   \n",
       "35             NaN           5.0       104.00      4          NaN   False   \n",
       "36             NaN           9.0        27.00      9        False   False   \n",
       "37            2.50           5.0          NaN      1          NaN   False   \n",
       "38            2.75          18.0        16.30      9          NaN   False   \n",
       "39            2.75           9.0        29.70      2          NaN   False   \n",
       "40            2.60          26.0        15.00     22          NaN   False   \n",
       "41             NaN          14.0        59.00      8        False   False   \n",
       "42            2.80           4.0        80.90      2        False   False   \n",
       "43            3.00           4.0        28.00      4          NaN   False   \n",
       "44             NaN          22.0          NaN      3          NaN   False   \n",
       "45            2.65           9.0        30.30      7          NaN   False   \n",
       "46            2.60          24.0        29.70      9          NaN   False   \n",
       "47             NaN           4.0        42.50      3          NaN   False   \n",
       "48             NaN          24.0        15.35      6          NaN   False   \n",
       "49            2.50           9.0        18.00      7          NaN   False   \n",
       "\n",
       "    open_plan  kitchen_area  balcony                        locality_name  \\\n",
       "0       False         25.00      NaN                      Санкт-Петербург   \n",
       "1       False         11.00      2.0                       посёлок Шушары   \n",
       "2       False          8.30      0.0                      Санкт-Петербург   \n",
       "3       False           NaN      0.0                      Санкт-Петербург   \n",
       "4       False         41.00      NaN                      Санкт-Петербург   \n",
       "5       False          9.10      NaN            городской посёлок Янино-1   \n",
       "6       False         14.40      1.0                    посёлок Парголово   \n",
       "7       False         18.90      2.0                      Санкт-Петербург   \n",
       "8       False          8.81      NaN                       посёлок Мурино   \n",
       "9       False          6.50      2.0                      Санкт-Петербург   \n",
       "10      False          8.50      NaN                      Санкт-Петербург   \n",
       "11      False          6.00      1.0                            Ломоносов   \n",
       "12      False          9.00      0.0                            Сертолово   \n",
       "13      False          5.20      1.0                             Петергоф   \n",
       "14      False          8.00      0.0                               Пушкин   \n",
       "15      False          7.60      1.0                      Санкт-Петербург   \n",
       "16      False          9.00      NaN                      Санкт-Петербург   \n",
       "17      False         11.00      1.0                      Санкт-Петербург   \n",
       "18      False          5.60      1.0                      Санкт-Петербург   \n",
       "19      False         12.00      NaN                      Санкт-Петербург   \n",
       "20      False         12.00      2.0                    посёлок Парголово   \n",
       "21      False          5.70      1.0                      Санкт-Петербург   \n",
       "22      False         11.00      2.0                      деревня Кудрово   \n",
       "23      False          6.10      NaN                      Санкт-Петербург   \n",
       "24      False         19.60      0.0                      Санкт-Петербург   \n",
       "25      False         15.00      2.0                      Санкт-Петербург   \n",
       "26      False          7.00      NaN                      Санкт-Петербург   \n",
       "27      False          9.20      0.0                      Санкт-Петербург   \n",
       "28      False         11.70      1.0                               Пушкин   \n",
       "29      False         11.00      0.0                      Санкт-Петербург   \n",
       "30      False           NaN      NaN                             Коммунар   \n",
       "31      False         13.40      2.0                      Санкт-Петербург   \n",
       "32      False          6.00      0.0                      Санкт-Петербург   \n",
       "33      False          6.50      NaN                              Колпино   \n",
       "34      False          8.00      NaN                      Санкт-Петербург   \n",
       "35      False         17.00      NaN                      Санкт-Петербург   \n",
       "36      False          6.30      2.0                      Санкт-Петербург   \n",
       "37      False           NaN      NaN  поселок городского типа Красный Бор   \n",
       "38      False         11.60      NaN                       посёлок Мурино   \n",
       "39      False          8.80      2.0                      Санкт-Петербург   \n",
       "40      False         10.00      2.0                    посёлок Парголово   \n",
       "41      False         12.00      5.0                      Санкт-Петербург   \n",
       "42      False         17.60      5.0                             Петергоф   \n",
       "43      False          7.50      NaN                      Санкт-Петербург   \n",
       "44      False           NaN      1.0                      Санкт-Петербург   \n",
       "45      False          7.00      NaN                      Санкт-Петербург   \n",
       "46      False          8.30      2.0                      Санкт-Петербург   \n",
       "47      False          5.70      1.0                              Гатчина   \n",
       "48      False          9.50      NaN                      Санкт-Петербург   \n",
       "49      False          6.00      NaN                      Санкт-Петербург   \n",
       "\n",
       "    airports_nearest  cityCenters_nearest  parks_around3000  parks_nearest  \\\n",
       "0            18863.0              16028.0               1.0          482.0   \n",
       "1            12817.0              18603.0               0.0            NaN   \n",
       "2            21741.0              13933.0               1.0           90.0   \n",
       "3            28098.0               6800.0               2.0           84.0   \n",
       "4            31856.0               8098.0               2.0          112.0   \n",
       "5                NaN                  NaN               NaN            NaN   \n",
       "6            52996.0              19143.0               0.0            NaN   \n",
       "7            23982.0              11634.0               0.0            NaN   \n",
       "8                NaN                  NaN               NaN            NaN   \n",
       "9            50898.0              15008.0               0.0            NaN   \n",
       "10           38357.0              13878.0               1.0          310.0   \n",
       "11           48252.0              51677.0               0.0            NaN   \n",
       "12               NaN                  NaN               NaN            NaN   \n",
       "13           37868.0              33058.0               1.0          294.0   \n",
       "14           20782.0              30759.0               0.0            NaN   \n",
       "15           12900.0              14259.0               1.0          590.0   \n",
       "16           22108.0              10698.0               3.0          420.0   \n",
       "17           33564.0              14616.0               0.0            NaN   \n",
       "18           44060.0              10842.0               1.0          759.0   \n",
       "19           38900.0              12843.0               0.0            NaN   \n",
       "20           53134.0              19311.0               0.0            NaN   \n",
       "21           36064.0               9722.0               1.0          248.0   \n",
       "22               NaN                  NaN               NaN            NaN   \n",
       "23           15414.0              14211.0               2.0          517.0   \n",
       "24           20052.0               2336.0               3.0          411.0   \n",
       "25           34967.0              14640.0               0.0            NaN   \n",
       "26           11580.0              10510.0               0.0            NaN   \n",
       "27           29197.0              11456.0               2.0          452.0   \n",
       "28           18557.0              30710.0               0.0            NaN   \n",
       "29           30394.0              11526.0               1.0          532.0   \n",
       "30               NaN                  NaN               NaN            NaN   \n",
       "31           32888.0              12944.0               0.0            NaN   \n",
       "32           11349.0              12889.0               0.0            NaN   \n",
       "33           26535.0              32321.0               0.0            NaN   \n",
       "34           13943.0              12739.0               0.0            NaN   \n",
       "35           23670.0               3502.0               0.0            NaN   \n",
       "36           49574.0              16461.0               1.0          459.0   \n",
       "37               NaN                  NaN               NaN            NaN   \n",
       "38               NaN                  NaN               NaN            NaN   \n",
       "39           13413.0              12209.0               0.0            NaN   \n",
       "40           52996.0              19143.0               0.0            NaN   \n",
       "41           37715.0              12612.0               1.0          725.0   \n",
       "42           35416.0              30605.0               2.0           47.0   \n",
       "43           15016.0              10822.0               0.0            NaN   \n",
       "44           30471.0              11603.0               1.0          620.0   \n",
       "45           30011.0              12872.0               0.0            NaN   \n",
       "46           15114.0              12702.0               0.0            NaN   \n",
       "47               NaN                  NaN               NaN            NaN   \n",
       "48           21460.0              16788.0               0.0            NaN   \n",
       "49           45341.0              16603.0               1.0          675.0   \n",
       "\n",
       "    ponds_around3000  ponds_nearest  days_exposition  \n",
       "0                2.0          755.0              NaN  \n",
       "1                0.0            NaN             81.0  \n",
       "2                2.0          574.0            558.0  \n",
       "3                3.0          234.0            424.0  \n",
       "4                1.0           48.0            121.0  \n",
       "5                NaN            NaN             55.0  \n",
       "6                0.0            NaN            155.0  \n",
       "7                0.0            NaN              NaN  \n",
       "8                NaN            NaN            189.0  \n",
       "9                0.0            NaN            289.0  \n",
       "10               2.0          553.0            137.0  \n",
       "11               0.0            NaN              7.0  \n",
       "12               NaN            NaN             90.0  \n",
       "13               3.0          298.0            366.0  \n",
       "14               1.0           96.0            203.0  \n",
       "15               1.0          296.0             19.0  \n",
       "16               0.0            NaN            397.0  \n",
       "17               1.0          859.0            571.0  \n",
       "18               0.0            NaN            168.0  \n",
       "19               0.0            NaN             97.0  \n",
       "20               0.0            NaN             74.0  \n",
       "21               0.0            NaN            310.0  \n",
       "22               NaN            NaN             60.0  \n",
       "23               1.0          190.0            615.0  \n",
       "24               3.0          124.0            265.0  \n",
       "25               1.0          564.0            300.0  \n",
       "26               1.0           95.0            265.0  \n",
       "27               1.0          779.0            151.0  \n",
       "28               1.0          118.0             74.0  \n",
       "29               1.0          896.0            125.0  \n",
       "30               NaN            NaN             63.0  \n",
       "31               0.0            NaN            112.0  \n",
       "32               1.0          426.0            224.0  \n",
       "33               0.0            NaN             92.0  \n",
       "34               0.0            NaN             15.0  \n",
       "35               1.0          779.0            644.0  \n",
       "36               0.0            NaN            139.0  \n",
       "37               NaN            NaN            196.0  \n",
       "38               NaN            NaN            103.0  \n",
       "39               1.0         1175.0             29.0  \n",
       "40               0.0            NaN            430.0  \n",
       "41               1.0          759.0            179.0  \n",
       "42               1.0          907.0            987.0  \n",
       "43               1.0          492.0            763.0  \n",
       "44               1.0         1152.0              NaN  \n",
       "45               0.0            NaN              NaN  \n",
       "46               0.0            NaN              NaN  \n",
       "47               NaN            NaN            179.0  \n",
       "48               1.0          170.0            322.0  \n",
       "49               0.0            NaN              NaN  "
      ]
     },
     "execution_count": 4,
     "metadata": {},
     "output_type": "execute_result"
    }
   ],
   "source": [
    "data.head(50)"
   ]
  },
  {
   "cell_type": "markdown",
   "metadata": {},
   "source": [
    "**Методом info() выводим основные данные о датафрейме**"
   ]
  },
  {
   "cell_type": "code",
   "execution_count": 5,
   "metadata": {
    "scrolled": true
   },
   "outputs": [
    {
     "name": "stdout",
     "output_type": "stream",
     "text": [
      "<class 'pandas.core.frame.DataFrame'>\n",
      "RangeIndex: 23699 entries, 0 to 23698\n",
      "Data columns (total 22 columns):\n",
      " #   Column                Non-Null Count  Dtype  \n",
      "---  ------                --------------  -----  \n",
      " 0   total_images          23699 non-null  int64  \n",
      " 1   last_price            23699 non-null  float64\n",
      " 2   total_area            23699 non-null  float64\n",
      " 3   first_day_exposition  23699 non-null  object \n",
      " 4   rooms                 23699 non-null  int64  \n",
      " 5   ceiling_height        14504 non-null  float64\n",
      " 6   floors_total          23613 non-null  float64\n",
      " 7   living_area           21796 non-null  float64\n",
      " 8   floor                 23699 non-null  int64  \n",
      " 9   is_apartment          2775 non-null   object \n",
      " 10  studio                23699 non-null  bool   \n",
      " 11  open_plan             23699 non-null  bool   \n",
      " 12  kitchen_area          21421 non-null  float64\n",
      " 13  balcony               12180 non-null  float64\n",
      " 14  locality_name         23650 non-null  object \n",
      " 15  airports_nearest      18157 non-null  float64\n",
      " 16  cityCenters_nearest   18180 non-null  float64\n",
      " 17  parks_around3000      18181 non-null  float64\n",
      " 18  parks_nearest         8079 non-null   float64\n",
      " 19  ponds_around3000      18181 non-null  float64\n",
      " 20  ponds_nearest         9110 non-null   float64\n",
      " 21  days_exposition       20518 non-null  float64\n",
      "dtypes: bool(2), float64(14), int64(3), object(3)\n",
      "memory usage: 3.7+ MB\n"
     ]
    }
   ],
   "source": [
    "data.info()"
   ]
  },
  {
   "cell_type": "markdown",
   "metadata": {},
   "source": [
    "**Для оценки значений в числовых столбцах датафрейма, строим гистограммы методом hist()**"
   ]
  },
  {
   "cell_type": "code",
   "execution_count": 6,
   "metadata": {
    "scrolled": false
   },
   "outputs": [
    {
     "data": {
      "image/png": "[encoded data removed]",
      "text/plain": [
       "<Figure size 1080x1440 with 20 Axes>"
      ]
     },
     "metadata": {
      "needs_background": "light"
     },
     "output_type": "display_data"
    }
   ],
   "source": [
    "data.hist(figsize=(15, 20));"
   ]
  },
  {
   "cell_type": "markdown",
   "metadata": {},
   "source": [
    "<div class=\"alert alert-success\">\n",
    "<b>✔️ Комментарий ревьюера v1:</b> \n",
    "<br>Графики построено верно! \n",
    "</div>"
   ]
  },
  {
   "cell_type": "markdown",
   "metadata": {},
   "source": [
    "Из полученных гистограмм, можно отметить выбросы в данных, которые в дальнейшем могут привести к ложным выводам при анализе. Явные выбросы можно видеть в столбцах `last_price`, `total_area`, `ceiling_height`."
   ]
  },
  {
   "cell_type": "markdown",
   "metadata": {},
   "source": [
    "<div class=\"alert alert-success\">\n",
    "<b>✔️ Комментарий ревьюера v1:</b> \n",
    "<br>Целью первичного анализа данных является выявление проблем с данными, с которыми нужно будет поработать. Чем больше всего мы найдём в этом шаге, тем лучше сможем построить дальнейший план работы и понять с чем нам стоит работать, а на что можно закрыть глаза. Старайся указывать как можно больше проблем в данных, которые ты найдешь (пропуски, дубликаты, неверный тип данных, странные значения и т.д.)\n",
    "</div>"
   ]
  },
  {
   "cell_type": "markdown",
   "metadata": {},
   "source": [
    "### Предобработка данных"
   ]
  },
  {
   "cell_type": "markdown",
   "metadata": {},
   "source": [
    "#### Работа с пропусками\n",
    "- Разберем каждый столбец, где есть пропуски, как заполнять эти пропуски и стоит ли их заполнять вообще"
   ]
  },
  {
   "cell_type": "code",
   "execution_count": 7,
   "metadata": {
    "scrolled": true
   },
   "outputs": [
    {
     "data": {
      "text/plain": [
       "total_images                0\n",
       "last_price                  0\n",
       "total_area                  0\n",
       "first_day_exposition        0\n",
       "rooms                       0\n",
       "ceiling_height           9195\n",
       "floors_total               86\n",
       "living_area              1903\n",
       "floor                       0\n",
       "is_apartment            20924\n",
       "studio                      0\n",
       "open_plan                   0\n",
       "kitchen_area             2278\n",
       "balcony                 11519\n",
       "locality_name              49\n",
       "airports_nearest         5542\n",
       "cityCenters_nearest      5519\n",
       "parks_around3000         5518\n",
       "parks_nearest           15620\n",
       "ponds_around3000         5518\n",
       "ponds_nearest           14589\n",
       "days_exposition          3181\n",
       "dtype: int64"
      ]
     },
     "execution_count": 7,
     "metadata": {},
     "output_type": "execute_result"
    }
   ],
   "source": [
    "data.isna().sum() # Общее количество пропусков в каждом столбце"
   ]
  },
  {
   "cell_type": "code",
   "execution_count": 8,
   "metadata": {},
   "outputs": [
    {
     "data": {
      "text/plain": [
       "count    14504.000000\n",
       "mean         2.771499\n",
       "std          1.261056\n",
       "min          1.000000\n",
       "25%          2.520000\n",
       "50%          2.650000\n",
       "75%          2.800000\n",
       "max        100.000000\n",
       "Name: ceiling_height, dtype: float64"
      ]
     },
     "execution_count": 8,
     "metadata": {},
     "output_type": "execute_result"
    }
   ],
   "source": [
    "data['ceiling_height'].describe() # для оценки значений столбца `ceiling_height` воспользуемся методом describe()"
   ]
  },
  {
   "cell_type": "markdown",
   "metadata": {},
   "source": [
    "- `ceiling_height` - высота потолков определяется строительными нормами и редко может выбиваться из стандартных значений. Применив метод describe() к столбцу `ceiling_height`, мы получаем, что в 75% случаев высота не превышаает 2,8м. Но поскольку в разных объектах недвижимости высота отличается, пустые строки заполним медианным значением. "
   ]
  },
  {
   "cell_type": "code",
   "execution_count": 9,
   "metadata": {},
   "outputs": [],
   "source": [
    "data['ceiling_height'] = data['ceiling_height'].fillna(data['ceiling_height'].median())"
   ]
  },
  {
   "cell_type": "markdown",
   "metadata": {},
   "source": [
    "<div class=\"alert alert-success\">\n",
    "<b>✔️ Комментарий ревьюера v1:</b> \n",
    "<br>Согласен с таким решением, так как основная часть данных в этом столбце находится в небольшом диапазоне.\n",
    "</div>"
   ]
  },
  {
   "cell_type": "markdown",
   "metadata": {},
   "source": [
    "- `floors_total` - найти значение для заполнения пропусков в данном столбце довольно проблематично, так как данный столбец слабо коррелирует с другими столбцами датафрейма. Заполнять пропуски средним или медианным значением также некорректно и может привести лишь к искажению общей картины. К тому же количество пропусков составляет лишь доли процента от общего числа значений, поэтому данные пропуски оставим без изменений."
   ]
  },
  {
   "cell_type": "markdown",
   "metadata": {},
   "source": [
    "- `living_area` - значения данного столбца напрямую зависят от значений общей площади. В столбце `total_area` пропусков нет, отталкиваясь от этих значений заполним пропуски в столбце `living_area`. Используем отношение медианного значения `living_area` к `total_area` как коэффициент. Произведение `total_area` и этого коэффициента даст нам значение `living_area`.\n",
    "Столбец `living_area` играет существенную роль при анализе рынка недвижимости, поэтому, чтобы убедится в корректности такого метода заполнения пропусков, вызовем метод `describe()` до и после заполнения пропусков."
   ]
  },
  {
   "cell_type": "code",
   "execution_count": 10,
   "metadata": {},
   "outputs": [
    {
     "data": {
      "text/plain": [
       "count    21796.000000\n",
       "mean        34.457852\n",
       "std         22.030445\n",
       "min          2.000000\n",
       "25%         18.600000\n",
       "50%         30.000000\n",
       "75%         42.300000\n",
       "max        409.700000\n",
       "Name: living_area, dtype: float64"
      ]
     },
     "execution_count": 10,
     "metadata": {},
     "output_type": "execute_result"
    }
   ],
   "source": [
    "data['living_area'].describe()"
   ]
  },
  {
   "cell_type": "code",
   "execution_count": 11,
   "metadata": {},
   "outputs": [],
   "source": [
    "data.loc[data['living_area'].isna(), 'living_area'] = \\\n",
    "round(data['total_area']*(data['living_area'].median() / data['total_area'].median()), 2)"
   ]
  },
  {
   "cell_type": "code",
   "execution_count": 12,
   "metadata": {},
   "outputs": [
    {
     "data": {
      "text/plain": [
       "count    23699.000000\n",
       "mean        34.624291\n",
       "std         22.381876\n",
       "min          2.000000\n",
       "25%         19.000000\n",
       "50%         30.000000\n",
       "75%         42.170000\n",
       "max        409.700000\n",
       "Name: living_area, dtype: float64"
      ]
     },
     "execution_count": 12,
     "metadata": {},
     "output_type": "execute_result"
    }
   ],
   "source": [
    "data['living_area'].describe()"
   ]
  },
  {
   "cell_type": "markdown",
   "metadata": {},
   "source": [
    "Сравнивая полученные результаты, видим, что среднее значение и стандартное отклонение изменились на десятые доли, медиана не изменилась. Результат после заполнения пропусков - приемлемый."
   ]
  },
  {
   "cell_type": "markdown",
   "metadata": {},
   "source": [
    "- `is_apartment` - исходя из того, что апартаменты являются специфическим товаром на рынке недвижимости и количество пропусков составляет около 90% - предположим, что по умолчанию значение False (не апартаменты). Выяснить значение в данном столбце, опираясь на данные датафрейма вряд ли получится и может лишь привести к серьёзным ошибкам при анализе."
   ]
  },
  {
   "cell_type": "code",
   "execution_count": 13,
   "metadata": {},
   "outputs": [],
   "source": [
    "data['is_apartment'] = data['is_apartment'].fillna(False)"
   ]
  },
  {
   "cell_type": "markdown",
   "metadata": {},
   "source": [
    "<div class=\"alert alert-success\">\n",
    "<b>✔️ Комментарий ревьюера v1:</b> \n",
    "<br>👌\n",
    "</div>"
   ]
  },
  {
   "cell_type": "markdown",
   "metadata": {},
   "source": [
    "- `kitchen_area` - можно заполнить часть пропусков, опираясь на значения столбца `Studio`. Зная, что это студия, площадь кухни можем указать как ноль. "
   ]
  },
  {
   "cell_type": "code",
   "execution_count": 14,
   "metadata": {
    "scrolled": true
   },
   "outputs": [
    {
     "data": {
      "text/html": [
       "<div>\n",
       "<style scoped>\n",
       "    .dataframe tbody tr th:only-of-type {\n",
       "        vertical-align: middle;\n",
       "    }\n",
       "\n",
       "    .dataframe tbody tr th {\n",
       "        vertical-align: top;\n",
       "    }\n",
       "\n",
       "    .dataframe thead th {\n",
       "        text-align: right;\n",
       "    }\n",
       "</style>\n",
       "<table border=\"1\" class=\"dataframe\">\n",
       "  <thead>\n",
       "    <tr style=\"text-align: right;\">\n",
       "      <th></th>\n",
       "      <th>total_images</th>\n",
       "      <th>last_price</th>\n",
       "      <th>total_area</th>\n",
       "      <th>first_day_exposition</th>\n",
       "      <th>rooms</th>\n",
       "      <th>ceiling_height</th>\n",
       "      <th>floors_total</th>\n",
       "      <th>living_area</th>\n",
       "      <th>floor</th>\n",
       "      <th>is_apartment</th>\n",
       "      <th>studio</th>\n",
       "      <th>open_plan</th>\n",
       "      <th>kitchen_area</th>\n",
       "      <th>balcony</th>\n",
       "      <th>locality_name</th>\n",
       "      <th>airports_nearest</th>\n",
       "      <th>cityCenters_nearest</th>\n",
       "      <th>parks_around3000</th>\n",
       "      <th>parks_nearest</th>\n",
       "      <th>ponds_around3000</th>\n",
       "      <th>ponds_nearest</th>\n",
       "      <th>days_exposition</th>\n",
       "    </tr>\n",
       "  </thead>\n",
       "  <tbody>\n",
       "    <tr>\n",
       "      <th>144</th>\n",
       "      <td>1</td>\n",
       "      <td>2450000.0</td>\n",
       "      <td>27.00</td>\n",
       "      <td>2017-03-30T00:00:00</td>\n",
       "      <td>0</td>\n",
       "      <td>2.65</td>\n",
       "      <td>24.0</td>\n",
       "      <td>15.50</td>\n",
       "      <td>2</td>\n",
       "      <td>False</td>\n",
       "      <td>True</td>\n",
       "      <td>False</td>\n",
       "      <td>NaN</td>\n",
       "      <td>2.0</td>\n",
       "      <td>посёлок Мурино</td>\n",
       "      <td>NaN</td>\n",
       "      <td>NaN</td>\n",
       "      <td>NaN</td>\n",
       "      <td>NaN</td>\n",
       "      <td>NaN</td>\n",
       "      <td>NaN</td>\n",
       "      <td>181.0</td>\n",
       "    </tr>\n",
       "    <tr>\n",
       "      <th>440</th>\n",
       "      <td>8</td>\n",
       "      <td>2480000.0</td>\n",
       "      <td>27.11</td>\n",
       "      <td>2018-03-12T00:00:00</td>\n",
       "      <td>0</td>\n",
       "      <td>2.65</td>\n",
       "      <td>17.0</td>\n",
       "      <td>24.75</td>\n",
       "      <td>4</td>\n",
       "      <td>False</td>\n",
       "      <td>True</td>\n",
       "      <td>False</td>\n",
       "      <td>NaN</td>\n",
       "      <td>2.0</td>\n",
       "      <td>Санкт-Петербург</td>\n",
       "      <td>38171.0</td>\n",
       "      <td>15015.0</td>\n",
       "      <td>0.0</td>\n",
       "      <td>NaN</td>\n",
       "      <td>2.0</td>\n",
       "      <td>982.0</td>\n",
       "      <td>64.0</td>\n",
       "    </tr>\n",
       "    <tr>\n",
       "      <th>608</th>\n",
       "      <td>2</td>\n",
       "      <td>1850000.0</td>\n",
       "      <td>25.00</td>\n",
       "      <td>2019-02-20T00:00:00</td>\n",
       "      <td>0</td>\n",
       "      <td>2.65</td>\n",
       "      <td>10.0</td>\n",
       "      <td>14.42</td>\n",
       "      <td>7</td>\n",
       "      <td>False</td>\n",
       "      <td>True</td>\n",
       "      <td>False</td>\n",
       "      <td>NaN</td>\n",
       "      <td>NaN</td>\n",
       "      <td>посёлок Шушары</td>\n",
       "      <td>NaN</td>\n",
       "      <td>NaN</td>\n",
       "      <td>NaN</td>\n",
       "      <td>NaN</td>\n",
       "      <td>NaN</td>\n",
       "      <td>NaN</td>\n",
       "      <td>29.0</td>\n",
       "    </tr>\n",
       "    <tr>\n",
       "      <th>697</th>\n",
       "      <td>12</td>\n",
       "      <td>2500000.0</td>\n",
       "      <td>24.10</td>\n",
       "      <td>2017-12-01T00:00:00</td>\n",
       "      <td>0</td>\n",
       "      <td>2.75</td>\n",
       "      <td>25.0</td>\n",
       "      <td>17.50</td>\n",
       "      <td>21</td>\n",
       "      <td>False</td>\n",
       "      <td>True</td>\n",
       "      <td>False</td>\n",
       "      <td>NaN</td>\n",
       "      <td>NaN</td>\n",
       "      <td>деревня Кудрово</td>\n",
       "      <td>NaN</td>\n",
       "      <td>NaN</td>\n",
       "      <td>NaN</td>\n",
       "      <td>NaN</td>\n",
       "      <td>NaN</td>\n",
       "      <td>NaN</td>\n",
       "      <td>201.0</td>\n",
       "    </tr>\n",
       "    <tr>\n",
       "      <th>716</th>\n",
       "      <td>5</td>\n",
       "      <td>1500000.0</td>\n",
       "      <td>17.00</td>\n",
       "      <td>2017-06-07T00:00:00</td>\n",
       "      <td>0</td>\n",
       "      <td>2.70</td>\n",
       "      <td>9.0</td>\n",
       "      <td>12.00</td>\n",
       "      <td>1</td>\n",
       "      <td>False</td>\n",
       "      <td>True</td>\n",
       "      <td>False</td>\n",
       "      <td>NaN</td>\n",
       "      <td>0.0</td>\n",
       "      <td>посёлок Шушары</td>\n",
       "      <td>18654.0</td>\n",
       "      <td>29846.0</td>\n",
       "      <td>0.0</td>\n",
       "      <td>NaN</td>\n",
       "      <td>0.0</td>\n",
       "      <td>NaN</td>\n",
       "      <td>40.0</td>\n",
       "    </tr>\n",
       "    <tr>\n",
       "      <th>...</th>\n",
       "      <td>...</td>\n",
       "      <td>...</td>\n",
       "      <td>...</td>\n",
       "      <td>...</td>\n",
       "      <td>...</td>\n",
       "      <td>...</td>\n",
       "      <td>...</td>\n",
       "      <td>...</td>\n",
       "      <td>...</td>\n",
       "      <td>...</td>\n",
       "      <td>...</td>\n",
       "      <td>...</td>\n",
       "      <td>...</td>\n",
       "      <td>...</td>\n",
       "      <td>...</td>\n",
       "      <td>...</td>\n",
       "      <td>...</td>\n",
       "      <td>...</td>\n",
       "      <td>...</td>\n",
       "      <td>...</td>\n",
       "      <td>...</td>\n",
       "      <td>...</td>\n",
       "    </tr>\n",
       "    <tr>\n",
       "      <th>22867</th>\n",
       "      <td>8</td>\n",
       "      <td>3090000.0</td>\n",
       "      <td>30.00</td>\n",
       "      <td>2017-12-17T00:00:00</td>\n",
       "      <td>0</td>\n",
       "      <td>2.65</td>\n",
       "      <td>25.0</td>\n",
       "      <td>18.20</td>\n",
       "      <td>5</td>\n",
       "      <td>False</td>\n",
       "      <td>True</td>\n",
       "      <td>False</td>\n",
       "      <td>NaN</td>\n",
       "      <td>NaN</td>\n",
       "      <td>Санкт-Петербург</td>\n",
       "      <td>35250.0</td>\n",
       "      <td>16414.0</td>\n",
       "      <td>0.0</td>\n",
       "      <td>NaN</td>\n",
       "      <td>1.0</td>\n",
       "      <td>400.0</td>\n",
       "      <td>211.0</td>\n",
       "    </tr>\n",
       "    <tr>\n",
       "      <th>22877</th>\n",
       "      <td>2</td>\n",
       "      <td>4280000.0</td>\n",
       "      <td>28.00</td>\n",
       "      <td>2017-10-26T00:00:00</td>\n",
       "      <td>0</td>\n",
       "      <td>2.70</td>\n",
       "      <td>19.0</td>\n",
       "      <td>18.00</td>\n",
       "      <td>10</td>\n",
       "      <td>False</td>\n",
       "      <td>True</td>\n",
       "      <td>False</td>\n",
       "      <td>NaN</td>\n",
       "      <td>NaN</td>\n",
       "      <td>Санкт-Петербург</td>\n",
       "      <td>18982.0</td>\n",
       "      <td>7206.0</td>\n",
       "      <td>0.0</td>\n",
       "      <td>NaN</td>\n",
       "      <td>1.0</td>\n",
       "      <td>415.0</td>\n",
       "      <td>151.0</td>\n",
       "    </tr>\n",
       "    <tr>\n",
       "      <th>23210</th>\n",
       "      <td>7</td>\n",
       "      <td>3200000.0</td>\n",
       "      <td>26.00</td>\n",
       "      <td>2017-09-01T00:00:00</td>\n",
       "      <td>0</td>\n",
       "      <td>2.65</td>\n",
       "      <td>25.0</td>\n",
       "      <td>18.00</td>\n",
       "      <td>16</td>\n",
       "      <td>False</td>\n",
       "      <td>True</td>\n",
       "      <td>False</td>\n",
       "      <td>NaN</td>\n",
       "      <td>0.0</td>\n",
       "      <td>Санкт-Петербург</td>\n",
       "      <td>11405.0</td>\n",
       "      <td>13222.0</td>\n",
       "      <td>0.0</td>\n",
       "      <td>NaN</td>\n",
       "      <td>1.0</td>\n",
       "      <td>623.0</td>\n",
       "      <td>14.0</td>\n",
       "    </tr>\n",
       "    <tr>\n",
       "      <th>23554</th>\n",
       "      <td>15</td>\n",
       "      <td>3350000.0</td>\n",
       "      <td>26.00</td>\n",
       "      <td>2018-09-07T00:00:00</td>\n",
       "      <td>0</td>\n",
       "      <td>2.65</td>\n",
       "      <td>19.0</td>\n",
       "      <td>15.00</td>\n",
       "      <td>8</td>\n",
       "      <td>False</td>\n",
       "      <td>True</td>\n",
       "      <td>False</td>\n",
       "      <td>NaN</td>\n",
       "      <td>NaN</td>\n",
       "      <td>Санкт-Петербург</td>\n",
       "      <td>18090.0</td>\n",
       "      <td>17092.0</td>\n",
       "      <td>0.0</td>\n",
       "      <td>NaN</td>\n",
       "      <td>2.0</td>\n",
       "      <td>112.0</td>\n",
       "      <td>31.0</td>\n",
       "    </tr>\n",
       "    <tr>\n",
       "      <th>23637</th>\n",
       "      <td>8</td>\n",
       "      <td>2350000.0</td>\n",
       "      <td>26.00</td>\n",
       "      <td>2018-06-26T00:00:00</td>\n",
       "      <td>0</td>\n",
       "      <td>2.65</td>\n",
       "      <td>25.0</td>\n",
       "      <td>17.00</td>\n",
       "      <td>4</td>\n",
       "      <td>False</td>\n",
       "      <td>True</td>\n",
       "      <td>False</td>\n",
       "      <td>NaN</td>\n",
       "      <td>2.0</td>\n",
       "      <td>посёлок Бугры</td>\n",
       "      <td>NaN</td>\n",
       "      <td>NaN</td>\n",
       "      <td>NaN</td>\n",
       "      <td>NaN</td>\n",
       "      <td>NaN</td>\n",
       "      <td>NaN</td>\n",
       "      <td>207.0</td>\n",
       "    </tr>\n",
       "  </tbody>\n",
       "</table>\n",
       "<p>149 rows × 22 columns</p>\n",
       "</div>"
      ],
      "text/plain": [
       "       total_images  last_price  total_area first_day_exposition  rooms  \\\n",
       "144               1   2450000.0       27.00  2017-03-30T00:00:00      0   \n",
       "440               8   2480000.0       27.11  2018-03-12T00:00:00      0   \n",
       "608               2   1850000.0       25.00  2019-02-20T00:00:00      0   \n",
       "697              12   2500000.0       24.10  2017-12-01T00:00:00      0   \n",
       "716               5   1500000.0       17.00  2017-06-07T00:00:00      0   \n",
       "...             ...         ...         ...                  ...    ...   \n",
       "22867             8   3090000.0       30.00  2017-12-17T00:00:00      0   \n",
       "22877             2   4280000.0       28.00  2017-10-26T00:00:00      0   \n",
       "23210             7   3200000.0       26.00  2017-09-01T00:00:00      0   \n",
       "23554            15   3350000.0       26.00  2018-09-07T00:00:00      0   \n",
       "23637             8   2350000.0       26.00  2018-06-26T00:00:00      0   \n",
       "\n",
       "       ceiling_height  floors_total  living_area  floor  is_apartment  studio  \\\n",
       "144              2.65          24.0        15.50      2         False    True   \n",
       "440              2.65          17.0        24.75      4         False    True   \n",
       "608              2.65          10.0        14.42      7         False    True   \n",
       "697              2.75          25.0        17.50     21         False    True   \n",
       "716              2.70           9.0        12.00      1         False    True   \n",
       "...               ...           ...          ...    ...           ...     ...   \n",
       "22867            2.65          25.0        18.20      5         False    True   \n",
       "22877            2.70          19.0        18.00     10         False    True   \n",
       "23210            2.65          25.0        18.00     16         False    True   \n",
       "23554            2.65          19.0        15.00      8         False    True   \n",
       "23637            2.65          25.0        17.00      4         False    True   \n",
       "\n",
       "       open_plan  kitchen_area  balcony    locality_name  airports_nearest  \\\n",
       "144        False           NaN      2.0   посёлок Мурино               NaN   \n",
       "440        False           NaN      2.0  Санкт-Петербург           38171.0   \n",
       "608        False           NaN      NaN   посёлок Шушары               NaN   \n",
       "697        False           NaN      NaN  деревня Кудрово               NaN   \n",
       "716        False           NaN      0.0   посёлок Шушары           18654.0   \n",
       "...          ...           ...      ...              ...               ...   \n",
       "22867      False           NaN      NaN  Санкт-Петербург           35250.0   \n",
       "22877      False           NaN      NaN  Санкт-Петербург           18982.0   \n",
       "23210      False           NaN      0.0  Санкт-Петербург           11405.0   \n",
       "23554      False           NaN      NaN  Санкт-Петербург           18090.0   \n",
       "23637      False           NaN      2.0    посёлок Бугры               NaN   \n",
       "\n",
       "       cityCenters_nearest  parks_around3000  parks_nearest  ponds_around3000  \\\n",
       "144                    NaN               NaN            NaN               NaN   \n",
       "440                15015.0               0.0            NaN               2.0   \n",
       "608                    NaN               NaN            NaN               NaN   \n",
       "697                    NaN               NaN            NaN               NaN   \n",
       "716                29846.0               0.0            NaN               0.0   \n",
       "...                    ...               ...            ...               ...   \n",
       "22867              16414.0               0.0            NaN               1.0   \n",
       "22877               7206.0               0.0            NaN               1.0   \n",
       "23210              13222.0               0.0            NaN               1.0   \n",
       "23554              17092.0               0.0            NaN               2.0   \n",
       "23637                  NaN               NaN            NaN               NaN   \n",
       "\n",
       "       ponds_nearest  days_exposition  \n",
       "144              NaN            181.0  \n",
       "440            982.0             64.0  \n",
       "608              NaN             29.0  \n",
       "697              NaN            201.0  \n",
       "716              NaN             40.0  \n",
       "...              ...              ...  \n",
       "22867          400.0            211.0  \n",
       "22877          415.0            151.0  \n",
       "23210          623.0             14.0  \n",
       "23554          112.0             31.0  \n",
       "23637            NaN            207.0  \n",
       "\n",
       "[149 rows x 22 columns]"
      ]
     },
     "execution_count": 14,
     "metadata": {},
     "output_type": "execute_result"
    }
   ],
   "source": [
    "data.query('studio == True') # смотрим, заполнены ли данные площади кухни в студиях"
   ]
  },
  {
   "cell_type": "code",
   "execution_count": 15,
   "metadata": {},
   "outputs": [],
   "source": [
    "data.loc[data['studio'] == True, 'kitchen_area'] = 0"
   ]
  },
  {
   "cell_type": "code",
   "execution_count": 16,
   "metadata": {},
   "outputs": [
    {
     "data": {
      "text/plain": [
       "2129"
      ]
     },
     "execution_count": 16,
     "metadata": {},
     "output_type": "execute_result"
    }
   ],
   "source": [
    "data['kitchen_area'].isna().sum() # Проверяем, что количество пропусков в столбце 'kitchen_area' уменьшилось "
   ]
  },
  {
   "cell_type": "markdown",
   "metadata": {},
   "source": [
    "- `balcony` - если не указаны данные о количестве балконов, то можно предположить, что их нет. Заполним пропуски нулями."
   ]
  },
  {
   "cell_type": "code",
   "execution_count": 17,
   "metadata": {},
   "outputs": [],
   "source": [
    "data['balcony'] = data['balcony'].fillna(0)"
   ]
  },
  {
   "cell_type": "markdown",
   "metadata": {},
   "source": [
    "<div class=\"alert alert-success\">\n",
    "<b>✔️ Комментарий ревьюера v1:</b> \n",
    "<br>👌\n",
    "</div>"
   ]
  },
  {
   "cell_type": "markdown",
   "metadata": {},
   "source": [
    "- `parks_around3000`, `ponds_around3000` - отсутствие данных в этих двух столбцах может говорить лишь о том, что в радиусе трёх километров нет парка, водоема. Заменим пропуски нулями."
   ]
  },
  {
   "cell_type": "code",
   "execution_count": 18,
   "metadata": {},
   "outputs": [],
   "source": [
    "data['parks_around3000'] = data['parks_around3000'].fillna(0)"
   ]
  },
  {
   "cell_type": "code",
   "execution_count": 19,
   "metadata": {},
   "outputs": [],
   "source": [
    "data['ponds_around3000'] = data['ponds_around3000'].fillna(0)"
   ]
  },
  {
   "cell_type": "markdown",
   "metadata": {},
   "source": [
    "- **столбцы, в которых указаны расстояния до ближайших парка, водоема, аэропорта, центра города.** В каждом из этих столбцов значительное количество пустых строк. Но заполнять эти пропуски одинаковыми значениями не корректно, поскольку квартиры могут находиться в разных частях города. Также, например, в столбце `parks_nearest` пропусков больше половины от всех данных, соответсвенно нельзя найти значение для заполнения по меньшему количеству данных, и среднее, и медиана не подходят для этого. Поэтому столбцы о расстоянии оставим без изменений  "
   ]
  },
  {
   "cell_type": "markdown",
   "metadata": {},
   "source": [
    "<div class=\"alert alert-success\">\n",
    "<b>✔️ Комментарий ревьюера:</b> \n",
    "<br>Очень важно обоснование. Иногда пропуски можно удалить (если их мало), либо вообще не трогать, если у нас нет возможности подобрать аргументированный способ замены. Обращай внимание на то, на сколько сильно ты искажешь данные при заполнении пропусков.\n",
    "</div>"
   ]
  },
  {
   "cell_type": "code",
   "execution_count": 31,
   "metadata": {},
   "outputs": [
    {
     "data": {
      "text/html": [
       "<div>\n",
       "<style scoped>\n",
       "    .dataframe tbody tr th:only-of-type {\n",
       "        vertical-align: middle;\n",
       "    }\n",
       "\n",
       "    .dataframe tbody tr th {\n",
       "        vertical-align: top;\n",
       "    }\n",
       "\n",
       "    .dataframe thead th {\n",
       "        text-align: right;\n",
       "    }\n",
       "</style>\n",
       "<table border=\"1\" class=\"dataframe\">\n",
       "  <thead>\n",
       "    <tr style=\"text-align: right;\">\n",
       "      <th></th>\n",
       "      <th>total_images</th>\n",
       "      <th>last_price</th>\n",
       "      <th>total_area</th>\n",
       "      <th>first_day_exposition</th>\n",
       "      <th>rooms</th>\n",
       "      <th>ceiling_height</th>\n",
       "      <th>floors_total</th>\n",
       "      <th>living_area</th>\n",
       "      <th>floor</th>\n",
       "      <th>is_apartment</th>\n",
       "      <th>studio</th>\n",
       "      <th>open_plan</th>\n",
       "      <th>kitchen_area</th>\n",
       "      <th>balcony</th>\n",
       "      <th>locality_name</th>\n",
       "      <th>airports_nearest</th>\n",
       "      <th>cityCenters_nearest</th>\n",
       "      <th>parks_around3000</th>\n",
       "      <th>parks_nearest</th>\n",
       "      <th>ponds_around3000</th>\n",
       "      <th>ponds_nearest</th>\n",
       "      <th>days_exposition</th>\n",
       "    </tr>\n",
       "  </thead>\n",
       "  <tbody>\n",
       "    <tr>\n",
       "      <th>0</th>\n",
       "      <td>20</td>\n",
       "      <td>13000000.0</td>\n",
       "      <td>108.00</td>\n",
       "      <td>2019-03-07T00:00:00</td>\n",
       "      <td>3</td>\n",
       "      <td>2.70</td>\n",
       "      <td>16.0</td>\n",
       "      <td>51.00</td>\n",
       "      <td>8</td>\n",
       "      <td>False</td>\n",
       "      <td>False</td>\n",
       "      <td>False</td>\n",
       "      <td>25.00</td>\n",
       "      <td>0.0</td>\n",
       "      <td>Санкт-Петербург</td>\n",
       "      <td>18863.0</td>\n",
       "      <td>16028.0</td>\n",
       "      <td>1.0</td>\n",
       "      <td>482.0</td>\n",
       "      <td>2.0</td>\n",
       "      <td>755.0</td>\n",
       "      <td>NaN</td>\n",
       "    </tr>\n",
       "    <tr>\n",
       "      <th>1</th>\n",
       "      <td>7</td>\n",
       "      <td>3350000.0</td>\n",
       "      <td>40.40</td>\n",
       "      <td>2018-12-04T00:00:00</td>\n",
       "      <td>1</td>\n",
       "      <td>2.65</td>\n",
       "      <td>11.0</td>\n",
       "      <td>18.60</td>\n",
       "      <td>1</td>\n",
       "      <td>False</td>\n",
       "      <td>False</td>\n",
       "      <td>False</td>\n",
       "      <td>11.00</td>\n",
       "      <td>2.0</td>\n",
       "      <td>посёлок Шушары</td>\n",
       "      <td>12817.0</td>\n",
       "      <td>18603.0</td>\n",
       "      <td>0.0</td>\n",
       "      <td>NaN</td>\n",
       "      <td>0.0</td>\n",
       "      <td>NaN</td>\n",
       "      <td>81.0</td>\n",
       "    </tr>\n",
       "    <tr>\n",
       "      <th>2</th>\n",
       "      <td>10</td>\n",
       "      <td>5196000.0</td>\n",
       "      <td>56.00</td>\n",
       "      <td>2015-08-20T00:00:00</td>\n",
       "      <td>2</td>\n",
       "      <td>2.65</td>\n",
       "      <td>5.0</td>\n",
       "      <td>34.30</td>\n",
       "      <td>4</td>\n",
       "      <td>False</td>\n",
       "      <td>False</td>\n",
       "      <td>False</td>\n",
       "      <td>8.30</td>\n",
       "      <td>0.0</td>\n",
       "      <td>Санкт-Петербург</td>\n",
       "      <td>21741.0</td>\n",
       "      <td>13933.0</td>\n",
       "      <td>1.0</td>\n",
       "      <td>90.0</td>\n",
       "      <td>2.0</td>\n",
       "      <td>574.0</td>\n",
       "      <td>558.0</td>\n",
       "    </tr>\n",
       "    <tr>\n",
       "      <th>3</th>\n",
       "      <td>0</td>\n",
       "      <td>64900000.0</td>\n",
       "      <td>159.00</td>\n",
       "      <td>2015-07-24T00:00:00</td>\n",
       "      <td>3</td>\n",
       "      <td>2.65</td>\n",
       "      <td>14.0</td>\n",
       "      <td>91.73</td>\n",
       "      <td>9</td>\n",
       "      <td>False</td>\n",
       "      <td>False</td>\n",
       "      <td>False</td>\n",
       "      <td>NaN</td>\n",
       "      <td>0.0</td>\n",
       "      <td>Санкт-Петербург</td>\n",
       "      <td>28098.0</td>\n",
       "      <td>6800.0</td>\n",
       "      <td>2.0</td>\n",
       "      <td>84.0</td>\n",
       "      <td>3.0</td>\n",
       "      <td>234.0</td>\n",
       "      <td>424.0</td>\n",
       "    </tr>\n",
       "    <tr>\n",
       "      <th>4</th>\n",
       "      <td>2</td>\n",
       "      <td>10000000.0</td>\n",
       "      <td>100.00</td>\n",
       "      <td>2018-06-19T00:00:00</td>\n",
       "      <td>2</td>\n",
       "      <td>3.03</td>\n",
       "      <td>14.0</td>\n",
       "      <td>32.00</td>\n",
       "      <td>13</td>\n",
       "      <td>False</td>\n",
       "      <td>False</td>\n",
       "      <td>False</td>\n",
       "      <td>41.00</td>\n",
       "      <td>0.0</td>\n",
       "      <td>Санкт-Петербург</td>\n",
       "      <td>31856.0</td>\n",
       "      <td>8098.0</td>\n",
       "      <td>2.0</td>\n",
       "      <td>112.0</td>\n",
       "      <td>1.0</td>\n",
       "      <td>48.0</td>\n",
       "      <td>121.0</td>\n",
       "    </tr>\n",
       "    <tr>\n",
       "      <th>5</th>\n",
       "      <td>10</td>\n",
       "      <td>2890000.0</td>\n",
       "      <td>30.40</td>\n",
       "      <td>2018-09-10T00:00:00</td>\n",
       "      <td>1</td>\n",
       "      <td>2.65</td>\n",
       "      <td>12.0</td>\n",
       "      <td>14.40</td>\n",
       "      <td>5</td>\n",
       "      <td>False</td>\n",
       "      <td>False</td>\n",
       "      <td>False</td>\n",
       "      <td>9.10</td>\n",
       "      <td>0.0</td>\n",
       "      <td>городской посёлок Янино-1</td>\n",
       "      <td>NaN</td>\n",
       "      <td>NaN</td>\n",
       "      <td>0.0</td>\n",
       "      <td>NaN</td>\n",
       "      <td>0.0</td>\n",
       "      <td>NaN</td>\n",
       "      <td>55.0</td>\n",
       "    </tr>\n",
       "    <tr>\n",
       "      <th>6</th>\n",
       "      <td>6</td>\n",
       "      <td>3700000.0</td>\n",
       "      <td>37.30</td>\n",
       "      <td>2017-11-02T00:00:00</td>\n",
       "      <td>1</td>\n",
       "      <td>2.65</td>\n",
       "      <td>26.0</td>\n",
       "      <td>10.60</td>\n",
       "      <td>6</td>\n",
       "      <td>False</td>\n",
       "      <td>False</td>\n",
       "      <td>False</td>\n",
       "      <td>14.40</td>\n",
       "      <td>1.0</td>\n",
       "      <td>посёлок Парголово</td>\n",
       "      <td>52996.0</td>\n",
       "      <td>19143.0</td>\n",
       "      <td>0.0</td>\n",
       "      <td>NaN</td>\n",
       "      <td>0.0</td>\n",
       "      <td>NaN</td>\n",
       "      <td>155.0</td>\n",
       "    </tr>\n",
       "    <tr>\n",
       "      <th>7</th>\n",
       "      <td>5</td>\n",
       "      <td>7915000.0</td>\n",
       "      <td>71.60</td>\n",
       "      <td>2019-04-18T00:00:00</td>\n",
       "      <td>2</td>\n",
       "      <td>2.65</td>\n",
       "      <td>24.0</td>\n",
       "      <td>41.31</td>\n",
       "      <td>22</td>\n",
       "      <td>False</td>\n",
       "      <td>False</td>\n",
       "      <td>False</td>\n",
       "      <td>18.90</td>\n",
       "      <td>2.0</td>\n",
       "      <td>Санкт-Петербург</td>\n",
       "      <td>23982.0</td>\n",
       "      <td>11634.0</td>\n",
       "      <td>0.0</td>\n",
       "      <td>NaN</td>\n",
       "      <td>0.0</td>\n",
       "      <td>NaN</td>\n",
       "      <td>NaN</td>\n",
       "    </tr>\n",
       "    <tr>\n",
       "      <th>8</th>\n",
       "      <td>20</td>\n",
       "      <td>2900000.0</td>\n",
       "      <td>33.16</td>\n",
       "      <td>2018-05-23T00:00:00</td>\n",
       "      <td>1</td>\n",
       "      <td>2.65</td>\n",
       "      <td>27.0</td>\n",
       "      <td>15.43</td>\n",
       "      <td>26</td>\n",
       "      <td>False</td>\n",
       "      <td>False</td>\n",
       "      <td>False</td>\n",
       "      <td>8.81</td>\n",
       "      <td>0.0</td>\n",
       "      <td>посёлок Мурино</td>\n",
       "      <td>NaN</td>\n",
       "      <td>NaN</td>\n",
       "      <td>0.0</td>\n",
       "      <td>NaN</td>\n",
       "      <td>0.0</td>\n",
       "      <td>NaN</td>\n",
       "      <td>189.0</td>\n",
       "    </tr>\n",
       "    <tr>\n",
       "      <th>9</th>\n",
       "      <td>18</td>\n",
       "      <td>5400000.0</td>\n",
       "      <td>61.00</td>\n",
       "      <td>2017-02-26T00:00:00</td>\n",
       "      <td>3</td>\n",
       "      <td>2.50</td>\n",
       "      <td>9.0</td>\n",
       "      <td>43.60</td>\n",
       "      <td>7</td>\n",
       "      <td>False</td>\n",
       "      <td>False</td>\n",
       "      <td>False</td>\n",
       "      <td>6.50</td>\n",
       "      <td>2.0</td>\n",
       "      <td>Санкт-Петербург</td>\n",
       "      <td>50898.0</td>\n",
       "      <td>15008.0</td>\n",
       "      <td>0.0</td>\n",
       "      <td>NaN</td>\n",
       "      <td>0.0</td>\n",
       "      <td>NaN</td>\n",
       "      <td>289.0</td>\n",
       "    </tr>\n",
       "  </tbody>\n",
       "</table>\n",
       "</div>"
      ],
      "text/plain": [
       "   total_images  last_price  total_area first_day_exposition  rooms  \\\n",
       "0            20  13000000.0      108.00  2019-03-07T00:00:00      3   \n",
       "1             7   3350000.0       40.40  2018-12-04T00:00:00      1   \n",
       "2            10   5196000.0       56.00  2015-08-20T00:00:00      2   \n",
       "3             0  64900000.0      159.00  2015-07-24T00:00:00      3   \n",
       "4             2  10000000.0      100.00  2018-06-19T00:00:00      2   \n",
       "5            10   2890000.0       30.40  2018-09-10T00:00:00      1   \n",
       "6             6   3700000.0       37.30  2017-11-02T00:00:00      1   \n",
       "7             5   7915000.0       71.60  2019-04-18T00:00:00      2   \n",
       "8            20   2900000.0       33.16  2018-05-23T00:00:00      1   \n",
       "9            18   5400000.0       61.00  2017-02-26T00:00:00      3   \n",
       "\n",
       "   ceiling_height  floors_total  living_area  floor  is_apartment  studio  \\\n",
       "0            2.70          16.0        51.00      8         False   False   \n",
       "1            2.65          11.0        18.60      1         False   False   \n",
       "2            2.65           5.0        34.30      4         False   False   \n",
       "3            2.65          14.0        91.73      9         False   False   \n",
       "4            3.03          14.0        32.00     13         False   False   \n",
       "5            2.65          12.0        14.40      5         False   False   \n",
       "6            2.65          26.0        10.60      6         False   False   \n",
       "7            2.65          24.0        41.31     22         False   False   \n",
       "8            2.65          27.0        15.43     26         False   False   \n",
       "9            2.50           9.0        43.60      7         False   False   \n",
       "\n",
       "   open_plan  kitchen_area  balcony              locality_name  \\\n",
       "0      False         25.00      0.0            Санкт-Петербург   \n",
       "1      False         11.00      2.0             посёлок Шушары   \n",
       "2      False          8.30      0.0            Санкт-Петербург   \n",
       "3      False           NaN      0.0            Санкт-Петербург   \n",
       "4      False         41.00      0.0            Санкт-Петербург   \n",
       "5      False          9.10      0.0  городской посёлок Янино-1   \n",
       "6      False         14.40      1.0          посёлок Парголово   \n",
       "7      False         18.90      2.0            Санкт-Петербург   \n",
       "8      False          8.81      0.0             посёлок Мурино   \n",
       "9      False          6.50      2.0            Санкт-Петербург   \n",
       "\n",
       "   airports_nearest  cityCenters_nearest  parks_around3000  parks_nearest  \\\n",
       "0           18863.0              16028.0               1.0          482.0   \n",
       "1           12817.0              18603.0               0.0            NaN   \n",
       "2           21741.0              13933.0               1.0           90.0   \n",
       "3           28098.0               6800.0               2.0           84.0   \n",
       "4           31856.0               8098.0               2.0          112.0   \n",
       "5               NaN                  NaN               0.0            NaN   \n",
       "6           52996.0              19143.0               0.0            NaN   \n",
       "7           23982.0              11634.0               0.0            NaN   \n",
       "8               NaN                  NaN               0.0            NaN   \n",
       "9           50898.0              15008.0               0.0            NaN   \n",
       "\n",
       "   ponds_around3000  ponds_nearest  days_exposition  \n",
       "0               2.0          755.0              NaN  \n",
       "1               0.0            NaN             81.0  \n",
       "2               2.0          574.0            558.0  \n",
       "3               3.0          234.0            424.0  \n",
       "4               1.0           48.0            121.0  \n",
       "5               0.0            NaN             55.0  \n",
       "6               0.0            NaN            155.0  \n",
       "7               0.0            NaN              NaN  \n",
       "8               0.0            NaN            189.0  \n",
       "9               0.0            NaN            289.0  "
      ]
     },
     "execution_count": 31,
     "metadata": {},
     "output_type": "execute_result"
    }
   ],
   "source": [
    "data.head(10) # проверяем изменения в датасете"
   ]
  },
  {
   "cell_type": "markdown",
   "metadata": {},
   "source": [
    "- `locality_name` - название населенного пункта - по сути, это один из ключевых факторов при выборе объекта недвижимости и пропуски здесь недопустимы. Восстановить эти пропуски вряд ли возможно, опираясь на датафрейм. Учитывая, что этих пропусков 0,2% от общего количества значений - удалим эти пропуски."
   ]
  },
  {
   "cell_type": "code",
   "execution_count": 32,
   "metadata": {},
   "outputs": [],
   "source": [
    "data = data.dropna(subset=['locality_name'])"
   ]
  },
  {
   "cell_type": "markdown",
   "metadata": {},
   "source": [
    "Пропуски в столбце `days_exposition` могут говорить лишь о том, что данное объявление еще актульно. Оставим данный столбец без изменений."
   ]
  },
  {
   "cell_type": "code",
   "execution_count": 33,
   "metadata": {},
   "outputs": [
    {
     "data": {
      "text/plain": [
       "total_images                0\n",
       "last_price                  0\n",
       "total_area                  0\n",
       "first_day_exposition        0\n",
       "rooms                       0\n",
       "ceiling_height              0\n",
       "floors_total               85\n",
       "living_area                 0\n",
       "floor                       0\n",
       "is_apartment                0\n",
       "studio                      0\n",
       "open_plan                   0\n",
       "kitchen_area             2120\n",
       "balcony                     0\n",
       "locality_name               0\n",
       "airports_nearest         5534\n",
       "cityCenters_nearest      5511\n",
       "parks_around3000            0\n",
       "parks_nearest           15586\n",
       "ponds_around3000            0\n",
       "ponds_nearest           14565\n",
       "days_exposition          3180\n",
       "dtype: int64"
      ]
     },
     "execution_count": 33,
     "metadata": {},
     "output_type": "execute_result"
    }
   ],
   "source": [
    "data.isna().sum() # Проверяем, в каких столбцах еще остались пропуски"
   ]
  },
  {
   "cell_type": "markdown",
   "metadata": {},
   "source": [
    "**Небольшое резюме по поиску и устранению пропусков в таблице. На данном этапе я руководствовался принципом \"не навреди\", т.е. там где зависимость прослеживается плохо - лучше оставить пропуски. При большом желании можно найти зависимость между данными, даже там где ее нет. Вот только в дальнейшем это может привести к ложным выводам. К тому же, неизвестно, а понадобятся ли нам эти данные в дальнейшем, т.е. можно потратить огромное количество времени на устранение пропусков, а по итогу эти пропуски ни на что не повлияли бы или они отвалятся сами в процессе построения различных выборок или сводных таблиц.**"
   ]
  },
  {
   "cell_type": "markdown",
   "metadata": {},
   "source": [
    "#### Изменение типов данных"
   ]
  },
  {
   "cell_type": "code",
   "execution_count": 34,
   "metadata": {},
   "outputs": [
    {
     "name": "stdout",
     "output_type": "stream",
     "text": [
      "<class 'pandas.core.frame.DataFrame'>\n",
      "Int64Index: 23650 entries, 0 to 23698\n",
      "Data columns (total 22 columns):\n",
      " #   Column                Non-Null Count  Dtype  \n",
      "---  ------                --------------  -----  \n",
      " 0   total_images          23650 non-null  int64  \n",
      " 1   last_price            23650 non-null  float64\n",
      " 2   total_area            23650 non-null  float64\n",
      " 3   first_day_exposition  23650 non-null  object \n",
      " 4   rooms                 23650 non-null  int64  \n",
      " 5   ceiling_height        23650 non-null  float64\n",
      " 6   floors_total          23565 non-null  float64\n",
      " 7   living_area           23650 non-null  float64\n",
      " 8   floor                 23650 non-null  int64  \n",
      " 9   is_apartment          23650 non-null  bool   \n",
      " 10  studio                23650 non-null  bool   \n",
      " 11  open_plan             23650 non-null  bool   \n",
      " 12  kitchen_area          21530 non-null  float64\n",
      " 13  balcony               23650 non-null  float64\n",
      " 14  locality_name         23650 non-null  object \n",
      " 15  airports_nearest      18116 non-null  float64\n",
      " 16  cityCenters_nearest   18139 non-null  float64\n",
      " 17  parks_around3000      23650 non-null  float64\n",
      " 18  parks_nearest         8064 non-null   float64\n",
      " 19  ponds_around3000      23650 non-null  float64\n",
      " 20  ponds_nearest         9085 non-null   float64\n",
      " 21  days_exposition       20470 non-null  float64\n",
      "dtypes: bool(3), float64(14), int64(3), object(2)\n",
      "memory usage: 3.7+ MB\n"
     ]
    }
   ],
   "source": [
    "data.info() # Выведем еще раз общую информацию о датафрейме"
   ]
  },
  {
   "cell_type": "markdown",
   "metadata": {},
   "source": [
    "Из данных видим, что столбцы с числовыми данными имеют тип `int` или `float`, что правильно. Также видим, что столбец `first_day_exposition` - `object`. День размещения объявления, все-таки, должен относится к типу `datetime`. Это необходимо для дальнейшего анализа, если нам понадобится извлечь день, месяц, год - столбец должен быть `datetime`.  Преобразуем данный столбец."
   ]
  },
  {
   "cell_type": "code",
   "execution_count": 35,
   "metadata": {},
   "outputs": [],
   "source": [
    "data['first_day_exposition'] = pd.to_datetime(data['first_day_exposition'], format='%Y-%m-%dT%H:%M:%S')"
   ]
  },
  {
   "cell_type": "code",
   "execution_count": 36,
   "metadata": {},
   "outputs": [
    {
     "data": {
      "text/html": [
       "<div>\n",
       "<style scoped>\n",
       "    .dataframe tbody tr th:only-of-type {\n",
       "        vertical-align: middle;\n",
       "    }\n",
       "\n",
       "    .dataframe tbody tr th {\n",
       "        vertical-align: top;\n",
       "    }\n",
       "\n",
       "    .dataframe thead th {\n",
       "        text-align: right;\n",
       "    }\n",
       "</style>\n",
       "<table border=\"1\" class=\"dataframe\">\n",
       "  <thead>\n",
       "    <tr style=\"text-align: right;\">\n",
       "      <th></th>\n",
       "      <th>total_images</th>\n",
       "      <th>last_price</th>\n",
       "      <th>total_area</th>\n",
       "      <th>first_day_exposition</th>\n",
       "      <th>rooms</th>\n",
       "      <th>ceiling_height</th>\n",
       "      <th>floors_total</th>\n",
       "      <th>living_area</th>\n",
       "      <th>floor</th>\n",
       "      <th>is_apartment</th>\n",
       "      <th>studio</th>\n",
       "      <th>open_plan</th>\n",
       "      <th>kitchen_area</th>\n",
       "      <th>balcony</th>\n",
       "      <th>locality_name</th>\n",
       "      <th>airports_nearest</th>\n",
       "      <th>cityCenters_nearest</th>\n",
       "      <th>parks_around3000</th>\n",
       "      <th>parks_nearest</th>\n",
       "      <th>ponds_around3000</th>\n",
       "      <th>ponds_nearest</th>\n",
       "      <th>days_exposition</th>\n",
       "    </tr>\n",
       "  </thead>\n",
       "  <tbody>\n",
       "    <tr>\n",
       "      <th>0</th>\n",
       "      <td>20</td>\n",
       "      <td>13000000.0</td>\n",
       "      <td>108.0</td>\n",
       "      <td>2019-03-07</td>\n",
       "      <td>3</td>\n",
       "      <td>2.70</td>\n",
       "      <td>16.0</td>\n",
       "      <td>51.00</td>\n",
       "      <td>8</td>\n",
       "      <td>False</td>\n",
       "      <td>False</td>\n",
       "      <td>False</td>\n",
       "      <td>25.0</td>\n",
       "      <td>0.0</td>\n",
       "      <td>Санкт-Петербург</td>\n",
       "      <td>18863.0</td>\n",
       "      <td>16028.0</td>\n",
       "      <td>1.0</td>\n",
       "      <td>482.0</td>\n",
       "      <td>2.0</td>\n",
       "      <td>755.0</td>\n",
       "      <td>NaN</td>\n",
       "    </tr>\n",
       "    <tr>\n",
       "      <th>1</th>\n",
       "      <td>7</td>\n",
       "      <td>3350000.0</td>\n",
       "      <td>40.4</td>\n",
       "      <td>2018-12-04</td>\n",
       "      <td>1</td>\n",
       "      <td>2.65</td>\n",
       "      <td>11.0</td>\n",
       "      <td>18.60</td>\n",
       "      <td>1</td>\n",
       "      <td>False</td>\n",
       "      <td>False</td>\n",
       "      <td>False</td>\n",
       "      <td>11.0</td>\n",
       "      <td>2.0</td>\n",
       "      <td>посёлок Шушары</td>\n",
       "      <td>12817.0</td>\n",
       "      <td>18603.0</td>\n",
       "      <td>0.0</td>\n",
       "      <td>NaN</td>\n",
       "      <td>0.0</td>\n",
       "      <td>NaN</td>\n",
       "      <td>81.0</td>\n",
       "    </tr>\n",
       "    <tr>\n",
       "      <th>2</th>\n",
       "      <td>10</td>\n",
       "      <td>5196000.0</td>\n",
       "      <td>56.0</td>\n",
       "      <td>2015-08-20</td>\n",
       "      <td>2</td>\n",
       "      <td>2.65</td>\n",
       "      <td>5.0</td>\n",
       "      <td>34.30</td>\n",
       "      <td>4</td>\n",
       "      <td>False</td>\n",
       "      <td>False</td>\n",
       "      <td>False</td>\n",
       "      <td>8.3</td>\n",
       "      <td>0.0</td>\n",
       "      <td>Санкт-Петербург</td>\n",
       "      <td>21741.0</td>\n",
       "      <td>13933.0</td>\n",
       "      <td>1.0</td>\n",
       "      <td>90.0</td>\n",
       "      <td>2.0</td>\n",
       "      <td>574.0</td>\n",
       "      <td>558.0</td>\n",
       "    </tr>\n",
       "    <tr>\n",
       "      <th>3</th>\n",
       "      <td>0</td>\n",
       "      <td>64900000.0</td>\n",
       "      <td>159.0</td>\n",
       "      <td>2015-07-24</td>\n",
       "      <td>3</td>\n",
       "      <td>2.65</td>\n",
       "      <td>14.0</td>\n",
       "      <td>91.73</td>\n",
       "      <td>9</td>\n",
       "      <td>False</td>\n",
       "      <td>False</td>\n",
       "      <td>False</td>\n",
       "      <td>NaN</td>\n",
       "      <td>0.0</td>\n",
       "      <td>Санкт-Петербург</td>\n",
       "      <td>28098.0</td>\n",
       "      <td>6800.0</td>\n",
       "      <td>2.0</td>\n",
       "      <td>84.0</td>\n",
       "      <td>3.0</td>\n",
       "      <td>234.0</td>\n",
       "      <td>424.0</td>\n",
       "    </tr>\n",
       "    <tr>\n",
       "      <th>4</th>\n",
       "      <td>2</td>\n",
       "      <td>10000000.0</td>\n",
       "      <td>100.0</td>\n",
       "      <td>2018-06-19</td>\n",
       "      <td>2</td>\n",
       "      <td>3.03</td>\n",
       "      <td>14.0</td>\n",
       "      <td>32.00</td>\n",
       "      <td>13</td>\n",
       "      <td>False</td>\n",
       "      <td>False</td>\n",
       "      <td>False</td>\n",
       "      <td>41.0</td>\n",
       "      <td>0.0</td>\n",
       "      <td>Санкт-Петербург</td>\n",
       "      <td>31856.0</td>\n",
       "      <td>8098.0</td>\n",
       "      <td>2.0</td>\n",
       "      <td>112.0</td>\n",
       "      <td>1.0</td>\n",
       "      <td>48.0</td>\n",
       "      <td>121.0</td>\n",
       "    </tr>\n",
       "  </tbody>\n",
       "</table>\n",
       "</div>"
      ],
      "text/plain": [
       "   total_images  last_price  total_area first_day_exposition  rooms  \\\n",
       "0            20  13000000.0       108.0           2019-03-07      3   \n",
       "1             7   3350000.0        40.4           2018-12-04      1   \n",
       "2            10   5196000.0        56.0           2015-08-20      2   \n",
       "3             0  64900000.0       159.0           2015-07-24      3   \n",
       "4             2  10000000.0       100.0           2018-06-19      2   \n",
       "\n",
       "   ceiling_height  floors_total  living_area  floor  is_apartment  studio  \\\n",
       "0            2.70          16.0        51.00      8         False   False   \n",
       "1            2.65          11.0        18.60      1         False   False   \n",
       "2            2.65           5.0        34.30      4         False   False   \n",
       "3            2.65          14.0        91.73      9         False   False   \n",
       "4            3.03          14.0        32.00     13         False   False   \n",
       "\n",
       "   open_plan  kitchen_area  balcony    locality_name  airports_nearest  \\\n",
       "0      False          25.0      0.0  Санкт-Петербург           18863.0   \n",
       "1      False          11.0      2.0   посёлок Шушары           12817.0   \n",
       "2      False           8.3      0.0  Санкт-Петербург           21741.0   \n",
       "3      False           NaN      0.0  Санкт-Петербург           28098.0   \n",
       "4      False          41.0      0.0  Санкт-Петербург           31856.0   \n",
       "\n",
       "   cityCenters_nearest  parks_around3000  parks_nearest  ponds_around3000  \\\n",
       "0              16028.0               1.0          482.0               2.0   \n",
       "1              18603.0               0.0            NaN               0.0   \n",
       "2              13933.0               1.0           90.0               2.0   \n",
       "3               6800.0               2.0           84.0               3.0   \n",
       "4               8098.0               2.0          112.0               1.0   \n",
       "\n",
       "   ponds_nearest  days_exposition  \n",
       "0          755.0              NaN  \n",
       "1            NaN             81.0  \n",
       "2          574.0            558.0  \n",
       "3          234.0            424.0  \n",
       "4           48.0            121.0  "
      ]
     },
     "execution_count": 36,
     "metadata": {},
     "output_type": "execute_result"
    }
   ],
   "source": [
    "data.head() # Проверяем изменения"
   ]
  },
  {
   "cell_type": "code",
   "execution_count": 37,
   "metadata": {},
   "outputs": [
    {
     "name": "stdout",
     "output_type": "stream",
     "text": [
      "<class 'pandas.core.frame.DataFrame'>\n",
      "Int64Index: 23650 entries, 0 to 23698\n",
      "Data columns (total 22 columns):\n",
      " #   Column                Non-Null Count  Dtype         \n",
      "---  ------                --------------  -----         \n",
      " 0   total_images          23650 non-null  int64         \n",
      " 1   last_price            23650 non-null  float64       \n",
      " 2   total_area            23650 non-null  float64       \n",
      " 3   first_day_exposition  23650 non-null  datetime64[ns]\n",
      " 4   rooms                 23650 non-null  int64         \n",
      " 5   ceiling_height        23650 non-null  float64       \n",
      " 6   floors_total          23565 non-null  float64       \n",
      " 7   living_area           23650 non-null  float64       \n",
      " 8   floor                 23650 non-null  int64         \n",
      " 9   is_apartment          23650 non-null  bool          \n",
      " 10  studio                23650 non-null  bool          \n",
      " 11  open_plan             23650 non-null  bool          \n",
      " 12  kitchen_area          21530 non-null  float64       \n",
      " 13  balcony               23650 non-null  float64       \n",
      " 14  locality_name         23650 non-null  object        \n",
      " 15  airports_nearest      18116 non-null  float64       \n",
      " 16  cityCenters_nearest   18139 non-null  float64       \n",
      " 17  parks_around3000      23650 non-null  float64       \n",
      " 18  parks_nearest         8064 non-null   float64       \n",
      " 19  ponds_around3000      23650 non-null  float64       \n",
      " 20  ponds_nearest         9085 non-null   float64       \n",
      " 21  days_exposition       20470 non-null  float64       \n",
      "dtypes: bool(3), datetime64[ns](1), float64(14), int64(3), object(1)\n",
      "memory usage: 3.7+ MB\n"
     ]
    }
   ],
   "source": [
    "data.info() # Проверяем изменения"
   ]
  },
  {
   "cell_type": "markdown",
   "metadata": {},
   "source": [
    "<div class=\"alert alert-danger\">\n",
    "<b>❌ Комментарий ревьюера v1:</b> \n",
    "<br>Ещё здесь нужно изменить тип данных в столбце balcony\n",
    "</div>"
   ]
  },
  {
   "cell_type": "code",
   "execution_count": 38,
   "metadata": {},
   "outputs": [],
   "source": [
    "data = data.astype({'balcony':'int64'})"
   ]
  },
  {
   "cell_type": "markdown",
   "metadata": {},
   "source": [
    "<div class=\"alert alert-success\">\n",
    "<b>✔️ Комментарий ревьюера v2:</b>\n",
    "<br>В данном случае это ещё и вопрос внешнего вида. 1 балкон смотрится лучше чем 1.0 балкон. Это уменьшает количество отображаемых знаков и делает таблицу проще для восприятия\n",
    "</div>"
   ]
  },
  {
   "cell_type": "code",
   "execution_count": 39,
   "metadata": {},
   "outputs": [
    {
     "name": "stdout",
     "output_type": "stream",
     "text": [
      "<class 'pandas.core.frame.DataFrame'>\n",
      "Int64Index: 23650 entries, 0 to 23698\n",
      "Data columns (total 22 columns):\n",
      " #   Column                Non-Null Count  Dtype         \n",
      "---  ------                --------------  -----         \n",
      " 0   total_images          23650 non-null  int64         \n",
      " 1   last_price            23650 non-null  float64       \n",
      " 2   total_area            23650 non-null  float64       \n",
      " 3   first_day_exposition  23650 non-null  datetime64[ns]\n",
      " 4   rooms                 23650 non-null  int64         \n",
      " 5   ceiling_height        23650 non-null  float64       \n",
      " 6   floors_total          23565 non-null  float64       \n",
      " 7   living_area           23650 non-null  float64       \n",
      " 8   floor                 23650 non-null  int64         \n",
      " 9   is_apartment          23650 non-null  bool          \n",
      " 10  studio                23650 non-null  bool          \n",
      " 11  open_plan             23650 non-null  bool          \n",
      " 12  kitchen_area          21530 non-null  float64       \n",
      " 13  balcony               23650 non-null  int64         \n",
      " 14  locality_name         23650 non-null  object        \n",
      " 15  airports_nearest      18116 non-null  float64       \n",
      " 16  cityCenters_nearest   18139 non-null  float64       \n",
      " 17  parks_around3000      23650 non-null  float64       \n",
      " 18  parks_nearest         8064 non-null   float64       \n",
      " 19  ponds_around3000      23650 non-null  float64       \n",
      " 20  ponds_nearest         9085 non-null   float64       \n",
      " 21  days_exposition       20470 non-null  float64       \n",
      "dtypes: bool(3), datetime64[ns](1), float64(13), int64(4), object(1)\n",
      "memory usage: 3.7+ MB\n"
     ]
    }
   ],
   "source": [
    "data.info() # Проверяем изменения"
   ]
  },
  {
   "cell_type": "markdown",
   "metadata": {},
   "source": [
    "#### Обработка дубликатов"
   ]
  },
  {
   "cell_type": "markdown",
   "metadata": {},
   "source": [
    "**Устранение неявных дубликатов в столбце `locality_name`**"
   ]
  },
  {
   "cell_type": "markdown",
   "metadata": {},
   "source": [
    "Для начала выведем уникальные значения и их количество в столбце `locality_name`, используя методы `unique()` и `count_values()`."
   ]
  },
  {
   "cell_type": "code",
   "execution_count": 40,
   "metadata": {
    "scrolled": true
   },
   "outputs": [
    {
     "data": {
      "text/plain": [
       "array(['Санкт-Петербург', 'посёлок Шушары', 'городской посёлок Янино-1',\n",
       "       'посёлок Парголово', 'посёлок Мурино', 'Ломоносов', 'Сертолово',\n",
       "       'Петергоф', 'Пушкин', 'деревня Кудрово', 'Коммунар', 'Колпино',\n",
       "       'поселок городского типа Красный Бор', 'Гатчина', 'поселок Мурино',\n",
       "       'деревня Фёдоровское', 'Выборг', 'Кронштадт', 'Кировск',\n",
       "       'деревня Новое Девяткино', 'посёлок Металлострой',\n",
       "       'посёлок городского типа Лебяжье',\n",
       "       'посёлок городского типа Сиверский', 'поселок Молодцово',\n",
       "       'поселок городского типа Кузьмоловский',\n",
       "       'садовое товарищество Новая Ропша', 'Павловск',\n",
       "       'деревня Пикколово', 'Всеволожск', 'Волхов', 'Кингисепп',\n",
       "       'Приозерск', 'Сестрорецк', 'деревня Куттузи', 'посёлок Аннино',\n",
       "       'поселок городского типа Ефимовский', 'посёлок Плодовое',\n",
       "       'деревня Заклинье', 'поселок Торковичи', 'поселок Первомайское',\n",
       "       'Красное Село', 'посёлок Понтонный', 'Сясьстрой', 'деревня Старая',\n",
       "       'деревня Лесколово', 'посёлок Новый Свет', 'Сланцы',\n",
       "       'село Путилово', 'Ивангород', 'Мурино', 'Шлиссельбург',\n",
       "       'Никольское', 'Зеленогорск', 'Сосновый Бор', 'поселок Новый Свет',\n",
       "       'деревня Оржицы', 'деревня Кальтино', 'Кудрово',\n",
       "       'поселок Романовка', 'посёлок Бугры', 'поселок Бугры',\n",
       "       'поселок городского типа Рощино', 'Кириши', 'Луга', 'Волосово',\n",
       "       'Отрадное', 'село Павлово', 'поселок Оредеж', 'село Копорье',\n",
       "       'посёлок городского типа Красный Бор', 'посёлок Молодёжное',\n",
       "       'Тихвин', 'посёлок Победа', 'деревня Нурма',\n",
       "       'поселок городского типа Синявино', 'Тосно',\n",
       "       'посёлок городского типа Кузьмоловский', 'посёлок Стрельна',\n",
       "       'Бокситогорск', 'посёлок Александровская', 'деревня Лопухинка',\n",
       "       'Пикалёво', 'поселок Терволово',\n",
       "       'поселок городского типа Советский', 'Подпорожье',\n",
       "       'посёлок Петровское', 'посёлок городского типа Токсово',\n",
       "       'поселок Сельцо', 'посёлок городского типа Вырица',\n",
       "       'деревня Кипень', 'деревня Келози', 'деревня Вартемяги',\n",
       "       'посёлок Тельмана', 'поселок Севастьяново',\n",
       "       'городской поселок Большая Ижора', 'городской посёлок Павлово',\n",
       "       'деревня Агалатово', 'посёлок Новогорелово',\n",
       "       'городской посёлок Лесогорский', 'деревня Лаголово',\n",
       "       'поселок Цвелодубово', 'поселок городского типа Рахья',\n",
       "       'поселок городского типа Вырица', 'деревня Белогорка',\n",
       "       'поселок Заводской', 'городской посёлок Новоселье',\n",
       "       'деревня Большие Колпаны', 'деревня Горбунки', 'деревня Батово',\n",
       "       'деревня Заневка', 'деревня Иссад', 'Приморск',\n",
       "       'городской посёлок Фёдоровское', 'деревня Мистолово',\n",
       "       'Новая Ладога', 'поселок Зимитицы', 'поселок Барышево',\n",
       "       'деревня Разметелево', 'поселок городского типа имени Свердлова',\n",
       "       'деревня Пеники', 'поселок Рябово', 'деревня Пудомяги',\n",
       "       'поселок станции Корнево', 'деревня Низино', 'деревня Бегуницы',\n",
       "       'посёлок Поляны', 'городской посёлок Мга', 'поселок Елизаветино',\n",
       "       'посёлок городского типа Кузнечное', 'деревня Колтуши',\n",
       "       'поселок Запорожское', 'посёлок городского типа Рощино',\n",
       "       'деревня Гостилицы', 'деревня Малое Карлино',\n",
       "       'посёлок Мичуринское', 'посёлок городского типа имени Морозова',\n",
       "       'посёлок Песочный', 'посёлок Сосново', 'деревня Аро',\n",
       "       'поселок Ильичёво', 'посёлок городского типа Тайцы',\n",
       "       'деревня Малое Верево', 'деревня Извара', 'поселок станции Вещево',\n",
       "       'село Паша', 'деревня Калитино',\n",
       "       'посёлок городского типа Ульяновка', 'деревня Чудской Бор',\n",
       "       'поселок городского типа Дубровка', 'деревня Мины',\n",
       "       'поселок Войсковицы', 'посёлок городского типа имени Свердлова',\n",
       "       'деревня Коркино', 'посёлок Ропша',\n",
       "       'поселок городского типа Приладожский', 'посёлок Щеглово',\n",
       "       'посёлок Гаврилово', 'Лодейное Поле', 'деревня Рабитицы',\n",
       "       'поселок городского типа Никольский', 'деревня Кузьмолово',\n",
       "       'деревня Малые Колпаны', 'поселок Тельмана',\n",
       "       'посёлок Петро-Славянка', 'городской посёлок Назия',\n",
       "       'посёлок Репино', 'посёлок Ильичёво', 'поселок Углово',\n",
       "       'поселок Старая Малукса', 'садовое товарищество Рахья',\n",
       "       'поселок Аннино', 'поселок Победа', 'деревня Меньково',\n",
       "       'деревня Старые Бегуницы', 'посёлок Сапёрный', 'поселок Семрино',\n",
       "       'поселок Гаврилово', 'поселок Глажево', 'поселок Кобринское',\n",
       "       'деревня Гарболово', 'деревня Юкки',\n",
       "       'поселок станции Приветнинское', 'деревня Мануйлово',\n",
       "       'деревня Пчева', 'поселок Поляны', 'поселок Цвылёво',\n",
       "       'поселок Мельниково', 'посёлок Пудость', 'посёлок Усть-Луга',\n",
       "       'Светогорск', 'Любань', 'поселок Селезнёво',\n",
       "       'поселок городского типа Рябово', 'Каменногорск', 'деревня Кривко',\n",
       "       'поселок Глебычево', 'деревня Парицы', 'поселок Жилпосёлок',\n",
       "       'посёлок городского типа Мга', 'городской поселок Янино-1',\n",
       "       'посёлок Войскорово', 'село Никольское', 'посёлок Терволово',\n",
       "       'поселок Стеклянный', 'посёлок городского типа Важины',\n",
       "       'посёлок Мыза-Ивановка', 'село Русско-Высоцкое',\n",
       "       'поселок городского типа Лебяжье',\n",
       "       'поселок городского типа Форносово', 'село Старая Ладога',\n",
       "       'поселок Житково', 'городской посёлок Виллози', 'деревня Лампово',\n",
       "       'деревня Шпаньково', 'деревня Лаврики', 'посёлок Сумино',\n",
       "       'посёлок Возрождение', 'деревня Старосиверская',\n",
       "       'посёлок Кикерино', 'поселок Возрождение',\n",
       "       'деревня Старое Хинколово', 'посёлок Пригородный',\n",
       "       'посёлок Торфяное', 'городской посёлок Будогощь',\n",
       "       'поселок Суходолье', 'поселок Красная Долина', 'деревня Хапо-Ое',\n",
       "       'поселок городского типа Дружная Горка', 'поселок Лисий Нос',\n",
       "       'деревня Яльгелево', 'посёлок Стеклянный', 'село Рождествено',\n",
       "       'деревня Старополье', 'посёлок Левашово', 'деревня Сяськелево',\n",
       "       'деревня Камышовка',\n",
       "       'садоводческое некоммерческое товарищество Лесная Поляна',\n",
       "       'деревня Хязельки', 'поселок Жилгородок',\n",
       "       'посёлок городского типа Павлово', 'деревня Ялгино',\n",
       "       'поселок Новый Учхоз', 'городской посёлок Рощино',\n",
       "       'поселок Гончарово', 'поселок Почап', 'посёлок Сапёрное',\n",
       "       'посёлок Платформа 69-й километр', 'поселок Каложицы',\n",
       "       'деревня Фалилеево', 'деревня Пельгора',\n",
       "       'поселок городского типа Лесогорский', 'деревня Торошковичи',\n",
       "       'посёлок Белоостров', 'посёлок Алексеевка', 'поселок Серебрянский',\n",
       "       'поселок Лукаши', 'поселок Петровское', 'деревня Щеглово',\n",
       "       'поселок Мичуринское', 'деревня Тарасово', 'поселок Кингисеппский',\n",
       "       'посёлок при железнодорожной станции Вещево', 'поселок Ушаки',\n",
       "       'деревня Котлы', 'деревня Сижно', 'деревня Торосово',\n",
       "       'посёлок Форт Красная Горка', 'поселок городского типа Токсово',\n",
       "       'деревня Новолисино', 'посёлок станции Громово', 'деревня Глинка',\n",
       "       'посёлок Мельниково', 'поселок городского типа Назия',\n",
       "       'деревня Старая Пустошь', 'поселок Коммунары', 'поселок Починок',\n",
       "       'посёлок городского типа Вознесенье', 'деревня Разбегаево',\n",
       "       'посёлок городского типа Рябово', 'поселок Гладкое',\n",
       "       'посёлок при железнодорожной станции Приветнинское',\n",
       "       'поселок Тёсово-4', 'посёлок Жилгородок', 'деревня Бор',\n",
       "       'посёлок Коробицыно', 'деревня Большая Вруда', 'деревня Курковицы',\n",
       "       'посёлок Лисий Нос', 'городской посёлок Советский',\n",
       "       'посёлок Кобралово', 'деревня Суоранда', 'поселок Кобралово',\n",
       "       'поселок городского типа Кондратьево',\n",
       "       'коттеджный поселок Счастье', 'поселок Любань', 'деревня Реброво',\n",
       "       'деревня Зимитицы', 'деревня Тойворово', 'поселок Семиозерье',\n",
       "       'поселок Лесное', 'поселок Совхозный', 'поселок Усть-Луга',\n",
       "       'посёлок Ленинское', 'посёлок Суйда',\n",
       "       'посёлок городского типа Форносово', 'деревня Нижние Осельки',\n",
       "       'посёлок станции Свирь', 'поселок Перово', 'Высоцк',\n",
       "       'поселок Гарболово', 'село Шум', 'поселок Котельский',\n",
       "       'поселок станции Лужайка', 'деревня Большая Пустомержа',\n",
       "       'поселок Красносельское', 'деревня Вахнова Кара', 'деревня Пижма',\n",
       "       'коттеджный поселок Кивеннапа Север', 'поселок Коробицыно',\n",
       "       'поселок Ромашки', 'посёлок Перово', 'деревня Каськово',\n",
       "       'деревня Куровицы', 'посёлок Плоское', 'поселок Сумино',\n",
       "       'поселок городского типа Большая Ижора', 'поселок Кирпичное',\n",
       "       'деревня Ям-Тесово', 'деревня Раздолье', 'деревня Терпилицы',\n",
       "       'посёлок Шугозеро', 'деревня Ваганово', 'поселок Пушное',\n",
       "       'садовое товарищество Садко', 'посёлок Усть-Ижора',\n",
       "       'деревня Выскатка', 'городской посёлок Свирьстрой',\n",
       "       'поселок Громово', 'деревня Кисельня', 'посёлок Старая Малукса',\n",
       "       'деревня Трубников Бор', 'поселок Калитино',\n",
       "       'посёлок Высокоключевой', 'садовое товарищество Приладожский',\n",
       "       'посёлок Пансионат Зелёный Бор', 'деревня Ненимяки',\n",
       "       'поселок Пансионат Зелёный Бор', 'деревня Снегирёвка',\n",
       "       'деревня Рапполово', 'деревня Пустынка', 'поселок Рабитицы',\n",
       "       'деревня Большой Сабск', 'деревня Русско', 'деревня Лупполово',\n",
       "       'деревня Большое Рейзино', 'деревня Малая Романовка',\n",
       "       'поселок Дружноселье', 'поселок Пчевжа', 'поселок Володарское',\n",
       "       'деревня Нижняя', 'коттеджный посёлок Лесное', 'деревня Тихковицы',\n",
       "       'деревня Борисова Грива', 'посёлок Дзержинского'], dtype=object)"
      ]
     },
     "execution_count": 40,
     "metadata": {},
     "output_type": "execute_result"
    }
   ],
   "source": [
    "data['locality_name'].unique()"
   ]
  },
  {
   "cell_type": "code",
   "execution_count": 41,
   "metadata": {
    "scrolled": true
   },
   "outputs": [
    {
     "data": {
      "text/plain": [
       "Санкт-Петербург               15721\n",
       "посёлок Мурино                  522\n",
       "посёлок Шушары                  440\n",
       "Всеволожск                      398\n",
       "Пушкин                          369\n",
       "                              ...  \n",
       "садовое товарищество Рахья        1\n",
       "поселок Жилпосёлок                1\n",
       "деревня Сижно                     1\n",
       "деревня Лаврики                   1\n",
       "посёлок Петро-Славянка            1\n",
       "Name: locality_name, Length: 364, dtype: int64"
      ]
     },
     "execution_count": 41,
     "metadata": {},
     "output_type": "execute_result"
    }
   ],
   "source": [
    "data['locality_name'].value_counts()"
   ]
  },
  {
   "cell_type": "markdown",
   "metadata": {},
   "source": [
    "Изучив полученные данные, выполним следующее:\n",
    "- приведем все данные в нижний регистр, чтобы выглядели одинаково - на случай если название населенного пунткта написали с маленькой буквы или же его тип с большой;\n",
    "- из списка значений видно, что использование букв ё/е искажает картину. Приведем к одному типу - заменим \"ё\" на \"е\";\n",
    "- название одного и того же населенного пункта указано и как \"поселок городского типа\" и как \"городской поселок\". (Рябово, Большая Ижора, Павлово - как примеры). Укажем их просто как \"поселок\"\n",
    "- Мурино также указан как поселок Мурино, Кудрово также указан как деревня Кудрово. Википедия говорит, что данные населенные пункты относятся к городским поселениям. Доля объявлений из Кудрово и Мурино довольна существенная и такие данные могут привести к искажениям. Изменим данные в столбце на Кудрово и Мурино.\n"
   ]
  },
  {
   "cell_type": "markdown",
   "metadata": {},
   "source": [
    "Для измененых значений создадим новый столбец `locality_name_new`"
   ]
  },
  {
   "cell_type": "code",
   "execution_count": 42,
   "metadata": {},
   "outputs": [],
   "source": [
    "data['locality_name_new'] = data['locality_name'].str.lower()"
   ]
  },
  {
   "cell_type": "code",
   "execution_count": 43,
   "metadata": {},
   "outputs": [],
   "source": [
    "data['locality_name_new'] = data['locality_name_new'].str.replace(\"ё\", \"е\")"
   ]
  },
  {
   "cell_type": "code",
   "execution_count": 44,
   "metadata": {},
   "outputs": [],
   "source": [
    "data['locality_name_new'] = \\\n",
    "data['locality_name_new'].replace([r\"\\городской поселок\",  r\"\\поселок городского типа\"], [\"поселок\", \"поселок\"], regex=True)"
   ]
  },
  {
   "cell_type": "code",
   "execution_count": 45,
   "metadata": {},
   "outputs": [],
   "source": [
    "data = data.replace({'locality_name_new':{\"поселок мурино\":\"мурино\", \"деревня кудрово\":\"кудрово\"}})"
   ]
  },
  {
   "cell_type": "code",
   "execution_count": 46,
   "metadata": {},
   "outputs": [
    {
     "data": {
      "text/plain": [
       "санкт-петербург          15721\n",
       "мурино                     590\n",
       "кудрово                    472\n",
       "поселок шушары             440\n",
       "всеволожск                 398\n",
       "                         ...  \n",
       "поселок ромашки              1\n",
       "поселок дзержинского         1\n",
       "деревня большой сабск        1\n",
       "деревня ялгино               1\n",
       "деревня хязельки             1\n",
       "Name: locality_name_new, Length: 320, dtype: int64"
      ]
     },
     "execution_count": 46,
     "metadata": {},
     "output_type": "execute_result"
    }
   ],
   "source": [
    "data['locality_name_new'].value_counts() # проверяем изменения в столбце"
   ]
  },
  {
   "cell_type": "markdown",
   "metadata": {},
   "source": [
    "Проверив изменения в датафрейме можно заметить, что изначально было 364 уникальных значений в столбце. После изменений их стало 320"
   ]
  },
  {
   "cell_type": "code",
   "execution_count": 47,
   "metadata": {
    "scrolled": false
   },
   "outputs": [
    {
     "data": {
      "text/plain": [
       "array(['бокситогорск', 'волосово', 'волхов', 'всеволожск', 'выборг',\n",
       "       'высоцк', 'гатчина', 'деревня агалатово', 'деревня аро',\n",
       "       'деревня батово', 'деревня бегуницы', 'деревня белогорка',\n",
       "       'деревня большая вруда', 'деревня большая пустомержа',\n",
       "       'деревня большие колпаны', 'деревня большое рейзино',\n",
       "       'деревня большой сабск', 'деревня бор', 'деревня борисова грива',\n",
       "       'деревня ваганово', 'деревня вартемяги', 'деревня вахнова кара',\n",
       "       'деревня выскатка', 'деревня гарболово', 'деревня глинка',\n",
       "       'деревня горбунки', 'деревня гостилицы', 'деревня заклинье',\n",
       "       'деревня заневка', 'деревня зимитицы', 'деревня извара',\n",
       "       'деревня иссад', 'деревня калитино', 'деревня кальтино',\n",
       "       'деревня камышовка', 'деревня каськово', 'деревня келози',\n",
       "       'деревня кипень', 'деревня кисельня', 'деревня колтуши',\n",
       "       'деревня коркино', 'деревня котлы', 'деревня кривко',\n",
       "       'деревня кузьмолово', 'деревня курковицы', 'деревня куровицы',\n",
       "       'деревня куттузи', 'деревня лаврики', 'деревня лаголово',\n",
       "       'деревня лампово', 'деревня лесколово', 'деревня лопухинка',\n",
       "       'деревня лупполово', 'деревня малая романовка',\n",
       "       'деревня малое верево', 'деревня малое карлино',\n",
       "       'деревня малые колпаны', 'деревня мануйлово', 'деревня меньково',\n",
       "       'деревня мины', 'деревня мистолово', 'деревня ненимяки',\n",
       "       'деревня нижние осельки', 'деревня нижняя', 'деревня низино',\n",
       "       'деревня новое девяткино', 'деревня новолисино', 'деревня нурма',\n",
       "       'деревня оржицы', 'деревня парицы', 'деревня пельгора',\n",
       "       'деревня пеники', 'деревня пижма', 'деревня пикколово',\n",
       "       'деревня пудомяги', 'деревня пустынка', 'деревня пчева',\n",
       "       'деревня рабитицы', 'деревня разбегаево', 'деревня раздолье',\n",
       "       'деревня разметелево', 'деревня рапполово', 'деревня реброво',\n",
       "       'деревня русско', 'деревня сижно', 'деревня снегиревка',\n",
       "       'деревня старая', 'деревня старая пустошь',\n",
       "       'деревня старое хинколово', 'деревня старополье',\n",
       "       'деревня старосиверская', 'деревня старые бегуницы',\n",
       "       'деревня суоранда', 'деревня сяськелево', 'деревня тарасово',\n",
       "       'деревня терпилицы', 'деревня тихковицы', 'деревня тойворово',\n",
       "       'деревня торосово', 'деревня торошковичи', 'деревня трубников бор',\n",
       "       'деревня фалилеево', 'деревня федоровское', 'деревня хапо-ое',\n",
       "       'деревня хязельки', 'деревня чудской бор', 'деревня шпаньково',\n",
       "       'деревня щеглово', 'деревня юкки', 'деревня ялгино',\n",
       "       'деревня яльгелево', 'деревня ям-тесово', 'зеленогорск',\n",
       "       'ивангород', 'каменногорск', 'кингисепп', 'кириши', 'кировск',\n",
       "       'колпино', 'коммунар', 'коттеджный поселок кивеннапа север',\n",
       "       'коттеджный поселок лесное', 'коттеджный поселок счастье',\n",
       "       'красное село', 'кронштадт', 'кудрово', 'лодейное поле',\n",
       "       'ломоносов', 'луга', 'любань', 'мурино', 'никольское',\n",
       "       'новая ладога', 'отрадное', 'павловск', 'петергоф', 'пикалево',\n",
       "       'подпорожье', 'поселок александровская', 'поселок алексеевка',\n",
       "       'поселок аннино', 'поселок барышево', 'поселок белоостров',\n",
       "       'поселок большая ижора', 'поселок бугры', 'поселок будогощь',\n",
       "       'поселок важины', 'поселок виллози', 'поселок вознесенье',\n",
       "       'поселок возрождение', 'поселок войсковицы', 'поселок войскорово',\n",
       "       'поселок володарское', 'поселок вырица', 'поселок высокоключевой',\n",
       "       'поселок гаврилово', 'поселок гарболово', 'поселок гладкое',\n",
       "       'поселок глажево', 'поселок глебычево', 'поселок гончарово',\n",
       "       'поселок громово', 'поселок дзержинского', 'поселок дружная горка',\n",
       "       'поселок дружноселье', 'поселок дубровка', 'поселок елизаветино',\n",
       "       'поселок ефимовский', 'поселок жилгородок', 'поселок жилпоселок',\n",
       "       'поселок житково', 'поселок заводской', 'поселок запорожское',\n",
       "       'поселок зимитицы', 'поселок ильичево', 'поселок имени морозова',\n",
       "       'поселок имени свердлова', 'поселок калитино', 'поселок каложицы',\n",
       "       'поселок кикерино', 'поселок кингисеппский', 'поселок кирпичное',\n",
       "       'поселок кобралово', 'поселок кобринское', 'поселок коммунары',\n",
       "       'поселок кондратьево', 'поселок коробицыно', 'поселок котельский',\n",
       "       'поселок красная долина', 'поселок красносельское',\n",
       "       'поселок красный бор', 'поселок кузнечное',\n",
       "       'поселок кузьмоловский', 'поселок лебяжье', 'поселок левашово',\n",
       "       'поселок ленинское', 'поселок лесное', 'поселок лесогорский',\n",
       "       'поселок лисий нос', 'поселок лукаши', 'поселок любань',\n",
       "       'поселок мга', 'поселок мельниково', 'поселок металлострой',\n",
       "       'поселок мичуринское', 'поселок молодежное', 'поселок молодцово',\n",
       "       'поселок мыза-ивановка', 'поселок назия', 'поселок никольский',\n",
       "       'поселок новогорелово', 'поселок новоселье', 'поселок новый свет',\n",
       "       'поселок новый учхоз', 'поселок оредеж', 'поселок павлово',\n",
       "       'поселок пансионат зеленый бор', 'поселок парголово',\n",
       "       'поселок первомайское', 'поселок перово', 'поселок песочный',\n",
       "       'поселок петро-славянка', 'поселок петровское',\n",
       "       'поселок платформа 69-й километр', 'поселок плодовое',\n",
       "       'поселок плоское', 'поселок победа', 'поселок поляны',\n",
       "       'поселок понтонный', 'поселок почап', 'поселок починок',\n",
       "       'поселок при железнодорожной станции вещево',\n",
       "       'поселок при железнодорожной станции приветнинское',\n",
       "       'поселок пригородный', 'поселок приладожский', 'поселок пудость',\n",
       "       'поселок пушное', 'поселок пчевжа', 'поселок рабитицы',\n",
       "       'поселок рахья', 'поселок репино', 'поселок романовка',\n",
       "       'поселок ромашки', 'поселок ропша', 'поселок рощино',\n",
       "       'поселок рябово', 'поселок саперное', 'поселок саперный',\n",
       "       'поселок свирьстрой', 'поселок севастьяново', 'поселок селезнево',\n",
       "       'поселок сельцо', 'поселок семиозерье', 'поселок семрино',\n",
       "       'поселок серебрянский', 'поселок сиверский', 'поселок синявино',\n",
       "       'поселок советский', 'поселок совхозный', 'поселок сосново',\n",
       "       'поселок станции вещево', 'поселок станции громово',\n",
       "       'поселок станции корнево', 'поселок станции лужайка',\n",
       "       'поселок станции приветнинское', 'поселок станции свирь',\n",
       "       'поселок старая малукса', 'поселок стеклянный', 'поселок стрельна',\n",
       "       'поселок суйда', 'поселок сумино', 'поселок суходолье',\n",
       "       'поселок тайцы', 'поселок тельмана', 'поселок терволово',\n",
       "       'поселок тесово-4', 'поселок токсово', 'поселок торковичи',\n",
       "       'поселок торфяное', 'поселок углово', 'поселок ульяновка',\n",
       "       'поселок усть-ижора', 'поселок усть-луга', 'поселок ушаки',\n",
       "       'поселок федоровское', 'поселок форносово',\n",
       "       'поселок форт красная горка', 'поселок цвелодубово',\n",
       "       'поселок цвылево', 'поселок шугозеро', 'поселок шушары',\n",
       "       'поселок щеглово', 'поселок янино-1', 'приморск', 'приозерск',\n",
       "       'пушкин',\n",
       "       'садоводческое некоммерческое товарищество лесная поляна',\n",
       "       'садовое товарищество новая ропша',\n",
       "       'садовое товарищество приладожский', 'садовое товарищество рахья',\n",
       "       'садовое товарищество садко', 'санкт-петербург', 'светогорск',\n",
       "       'село копорье', 'село никольское', 'село павлово', 'село паша',\n",
       "       'село путилово', 'село рождествено', 'село русско-высоцкое',\n",
       "       'село старая ладога', 'село шум', 'сертолово', 'сестрорецк',\n",
       "       'сланцы', 'сосновый бор', 'сясьстрой', 'тихвин', 'тосно',\n",
       "       'шлиссельбург'], dtype=object)"
      ]
     },
     "execution_count": 47,
     "metadata": {},
     "output_type": "execute_result"
    }
   ],
   "source": [
    "data['locality_name_new'].sort_values().unique()"
   ]
  },
  {
   "cell_type": "markdown",
   "metadata": {},
   "source": [
    "<div class=\"alert alert-success\">\n",
    "<b>✔️ Комментарий ревьюера v1:</b> \n",
    "<br>Супер! Здесь всё верно)\n",
    "</div>"
   ]
  },
  {
   "cell_type": "markdown",
   "metadata": {},
   "source": [
    "#### Поиск и устранение редких и выбивающихся значений"
   ]
  },
  {
   "cell_type": "markdown",
   "metadata": {},
   "source": [
    "Для поиска и устранеия редких и выбивающихся значений обратимся к уже построенным гистаграммам, по которым можно определить столбцы, в которых явно присутствуют выбросы. К таковым можно отнести: `last_price`, `total_area`, `rooms`,`ceiling_height`, `floors_total`, `living_area`, `kitchen_area`, `balcony`."
   ]
  },
  {
   "cell_type": "code",
   "execution_count": 48,
   "metadata": {},
   "outputs": [
    {
     "data": {
      "image/png": "[encoded data removed]",
      "text/plain": [
       "<Figure size 1080x1440 with 20 Axes>"
      ]
     },
     "metadata": {
      "needs_background": "light"
     },
     "output_type": "display_data"
    }
   ],
   "source": [
    "data.hist(figsize=(15, 20));"
   ]
  },
  {
   "cell_type": "markdown",
   "metadata": {},
   "source": [
    "Для начала рассмотрим столбцы датафрейма с выбивающимися значениями, где могли быть допущены ошибки при вводе дааных. К таковым может относиться `ceiling_height`. На гистограмме видно, что значения идут к 100м. - трудно представить себе такой потолок. Для начала выведем список уникальных значений столбца."
   ]
  },
  {
   "cell_type": "code",
   "execution_count": 49,
   "metadata": {},
   "outputs": [
    {
     "data": {
      "text/plain": [
       "array([  1.  ,   1.2 ,   1.75,   2.  ,   2.2 ,   2.25,   2.3 ,   2.34,\n",
       "         2.4 ,   2.45,   2.46,   2.47,   2.48,   2.49,   2.5 ,   2.51,\n",
       "         2.52,   2.53,   2.54,   2.55,   2.56,   2.57,   2.58,   2.59,\n",
       "         2.6 ,   2.61,   2.62,   2.63,   2.64,   2.65,   2.66,   2.67,\n",
       "         2.68,   2.69,   2.7 ,   2.71,   2.72,   2.73,   2.74,   2.75,\n",
       "         2.76,   2.77,   2.78,   2.79,   2.8 ,   2.81,   2.82,   2.83,\n",
       "         2.84,   2.85,   2.86,   2.87,   2.88,   2.89,   2.9 ,   2.91,\n",
       "         2.92,   2.93,   2.94,   2.95,   2.96,   2.97,   2.98,   2.99,\n",
       "         3.  ,   3.01,   3.02,   3.03,   3.04,   3.05,   3.06,   3.07,\n",
       "         3.08,   3.09,   3.1 ,   3.11,   3.12,   3.13,   3.14,   3.15,\n",
       "         3.16,   3.17,   3.18,   3.2 ,   3.21,   3.22,   3.23,   3.24,\n",
       "         3.25,   3.26,   3.27,   3.28,   3.29,   3.3 ,   3.31,   3.32,\n",
       "         3.33,   3.34,   3.35,   3.36,   3.37,   3.38,   3.39,   3.4 ,\n",
       "         3.42,   3.43,   3.44,   3.45,   3.46,   3.47,   3.48,   3.49,\n",
       "         3.5 ,   3.51,   3.52,   3.53,   3.54,   3.55,   3.56,   3.57,\n",
       "         3.58,   3.59,   3.6 ,   3.62,   3.63,   3.65,   3.66,   3.67,\n",
       "         3.68,   3.69,   3.7 ,   3.75,   3.76,   3.78,   3.8 ,   3.82,\n",
       "         3.83,   3.84,   3.85,   3.86,   3.87,   3.88,   3.9 ,   3.93,\n",
       "         3.95,   3.98,   4.  ,   4.06,   4.1 ,   4.14,   4.15,   4.19,\n",
       "         4.2 ,   4.25,   4.3 ,   4.37,   4.4 ,   4.45,   4.5 ,   4.65,\n",
       "         4.7 ,   4.8 ,   4.9 ,   5.  ,   5.2 ,   5.3 ,   5.5 ,   5.6 ,\n",
       "         5.8 ,   6.  ,   8.  ,   8.3 ,  10.3 ,  14.  ,  20.  ,  22.6 ,\n",
       "        24.  ,  25.  ,  26.  ,  27.  ,  27.5 ,  32.  , 100.  ])"
      ]
     },
     "execution_count": 49,
     "metadata": {},
     "output_type": "execute_result"
    }
   ],
   "source": [
    "data['ceiling_height'].sort_values().unique()"
   ]
  },
  {
   "cell_type": "markdown",
   "metadata": {},
   "source": [
    "Учитывая значения 32м., 26м., 24м, можно предположить ошибку при вводе данных и это 3,2м, 2,6м., 2,4м. Для исправления этой ошибки сделаем выборку, в которой значения превышают 20м. и разделим на 10."
   ]
  },
  {
   "cell_type": "markdown",
   "metadata": {},
   "source": [
    "Кроме слишком высоких потолков, можно заметить и слишком низкие - 1м., 1.2м. Найдем количество объявлений, где высота потолков меньше 2м."
   ]
  },
  {
   "cell_type": "code",
   "execution_count": 50,
   "metadata": {},
   "outputs": [
    {
     "data": {
      "text/plain": [
       "3"
      ]
     },
     "execution_count": 50,
     "metadata": {},
     "output_type": "execute_result"
    }
   ],
   "source": [
    "len(data.loc[data['ceiling_height'] < 2, 'ceiling_height'])"
   ]
  },
  {
   "cell_type": "markdown",
   "metadata": {},
   "source": [
    "Объявлений со слишком низкими потолками всего 3. Удаление этих данных не изменит общей картины при анализе. (сложно определить вероятную причину появления подобных данных)"
   ]
  },
  {
   "cell_type": "markdown",
   "metadata": {},
   "source": [
    "Далее изменим выбивающиеся значения, такие как 32м. и 25м. и избавимся от объявлений с потолками ниже 2м."
   ]
  },
  {
   "cell_type": "code",
   "execution_count": 51,
   "metadata": {},
   "outputs": [],
   "source": [
    "data.loc[data['ceiling_height'] >= 20, 'ceiling_height'] = data['ceiling_height']/10"
   ]
  },
  {
   "cell_type": "code",
   "execution_count": 52,
   "metadata": {},
   "outputs": [],
   "source": [
    "data = data.query('ceiling_height >= 2')"
   ]
  },
  {
   "cell_type": "code",
   "execution_count": 53,
   "metadata": {},
   "outputs": [
    {
     "data": {
      "text/plain": [
       "Series([], Name: ceiling_height, dtype: float64)"
      ]
     },
     "execution_count": 53,
     "metadata": {},
     "output_type": "execute_result"
    }
   ],
   "source": [
    "data.loc[(data['ceiling_height'] < 2) & (data['ceiling_height'] >= 20), 'ceiling_height'] \n",
    "# Потолков ниже 2м. и выше 20м. в таблице больше нет"
   ]
  },
  {
   "cell_type": "markdown",
   "metadata": {},
   "source": [
    "Определить по гистограммам аналогичные ошибки в других столбцах проблематично. Например, `living_area` также имеет выбивающиеся значения. Можно посмотреть подробнее и выяснить нет ли там ошибок. Для этого возьмем жилую площадь более 80 м2, и выведем данные об общей площади, чтобы убедиться, не превышает ли жилая площадь общую площадь помещения и данные правдоподобны."
   ]
  },
  {
   "cell_type": "code",
   "execution_count": 54,
   "metadata": {},
   "outputs": [
    {
     "data": {
      "text/plain": [
       "3        159.0\n",
       "35       149.0\n",
       "42       161.8\n",
       "52       136.0\n",
       "121      180.0\n",
       "         ...  \n",
       "23448    180.0\n",
       "23491    250.0\n",
       "23514    136.5\n",
       "23516    139.5\n",
       "23622    114.0\n",
       "Name: total_area, Length: 797, dtype: float64"
      ]
     },
     "execution_count": 54,
     "metadata": {},
     "output_type": "execute_result"
    }
   ],
   "source": [
    "data.loc[data['living_area'] >= 80, 'total_area']"
   ]
  },
  {
   "cell_type": "markdown",
   "metadata": {},
   "source": [
    "В целом, данные выглядят правдоподобно, но здесь стоит посмотреть на общее количество данных в выборке - от общего числа строк датафрейма это около 3 процентов. По сути мы можем отнести эти данные к выбросам. Для подтверждения построим диаграмму размаха."
   ]
  },
  {
   "cell_type": "code",
   "execution_count": 55,
   "metadata": {},
   "outputs": [
    {
     "data": {
      "text/plain": [
       "(0.0, 100.0)"
      ]
     },
     "execution_count": 55,
     "metadata": {},
     "output_type": "execute_result"
    },
    {
     "data": {
      "image/png": "[encoded data removed]",
      "text/plain": [
       "<Figure size 432x288 with 1 Axes>"
      ]
     },
     "metadata": {
      "needs_background": "light"
     },
     "output_type": "display_data"
    }
   ],
   "source": [
    "plt.boxplot(x=data['living_area'])\n",
    "plt.ylim(0,100)"
   ]
  },
  {
   "cell_type": "markdown",
   "metadata": {},
   "source": [
    "Из диаграммы видно, что данные выше 80 уже можно отнести к выбросам. Аналогично посмотрим данные об общей площади."
   ]
  },
  {
   "cell_type": "code",
   "execution_count": 56,
   "metadata": {},
   "outputs": [
    {
     "data": {
      "text/plain": [
       "(0.0, 150.0)"
      ]
     },
     "execution_count": 56,
     "metadata": {},
     "output_type": "execute_result"
    },
    {
     "data": {
      "image/png": "[encoded data removed]",
      "text/plain": [
       "<Figure size 432x288 with 1 Axes>"
      ]
     },
     "metadata": {
      "needs_background": "light"
     },
     "output_type": "display_data"
    }
   ],
   "source": [
    "plt.boxplot(x=data['total_area'])\n",
    "plt.ylim(0,150)"
   ]
  },
  {
   "cell_type": "markdown",
   "metadata": {},
   "source": [
    "Все что выше 120 можно относить к выбросам."
   ]
  },
  {
   "cell_type": "markdown",
   "metadata": {},
   "source": [
    "Теперь, чтобы не избавиться от слишком большого количества данных, определим столбцы, в которых выбросы существенно могут повлиять на анализ данных. В первую очередь это цена объекта недвижимости, также площади: общая, жилая и кухня и количество комнат."
   ]
  },
  {
   "cell_type": "markdown",
   "metadata": {},
   "source": [
    "Наблюдение можно считать выбросом, если оно больше, чем значение верхнего квартиля плюс 1.5 межквартильного размаха. Воспользуемся данным определением, чтобы избавиться от выбросов в датафрейме. Функция ниже находит значение для столбца, за пределами которого данные в этом столбце будут относится к выбросам.  "
   ]
  },
  {
   "cell_type": "code",
   "execution_count": 57,
   "metadata": {},
   "outputs": [],
   "source": [
    "def too_much(column):\n",
    "    x = 1.5*(column.quantile(0.75) - column.quantile(0.25)) + column.quantile(0.75)\n",
    "    return x"
   ]
  },
  {
   "cell_type": "markdown",
   "metadata": {},
   "source": [
    "Используя эту функцию, удалим значения в датафрейме, не удовлетворяющие данным условиям"
   ]
  },
  {
   "cell_type": "code",
   "execution_count": 58,
   "metadata": {},
   "outputs": [],
   "source": [
    "data = (\n",
    "data.loc[(data['last_price'] < too_much(data['last_price'])) &\n",
    "         (data['total_area'] < too_much(data['total_area'])) &\n",
    "         (data['living_area'] < too_much(data['living_area'])) &\n",
    "         (data['kitchen_area'] < too_much(data['kitchen_area'])) &\n",
    "         (data['rooms'] < too_much(data['rooms']))]    \n",
    ")"
   ]
  },
  {
   "cell_type": "code",
   "execution_count": 59,
   "metadata": {},
   "outputs": [
    {
     "data": {
      "image/png": "[encoded data removed]",
      "text/plain": [
       "<Figure size 648x864 with 6 Axes>"
      ]
     },
     "metadata": {
      "needs_background": "light"
     },
     "output_type": "display_data"
    }
   ],
   "source": [
    "data.loc[:,['last_price', 'total_area', 'living_area', 'kitchen_area', 'rooms']].hist(figsize=(9,12));\n",
    "# Построение гистограмм для столбцов, в которых были удалены выбросы "
   ]
  },
  {
   "cell_type": "markdown",
   "metadata": {},
   "source": [
    "Построив гистограммы после удаления выбросов, можно увидеть изменения в распределении значений - данные стремятся к нормальному распределению."
   ]
  },
  {
   "cell_type": "markdown",
   "metadata": {},
   "source": [
    "<div class=\"alert alert-success\">\n",
    "<b>✔️ Комментарий ревьюера v1:</b>\n",
    "<br>Диапазоны для аномальных значений подобраны и удалены верно!\n",
    "</div>"
   ]
  },
  {
   "cell_type": "markdown",
   "metadata": {},
   "source": [
    "### Посчитайте и добавьте в таблицу новые столбцы"
   ]
  },
  {
   "cell_type": "code",
   "execution_count": 60,
   "metadata": {},
   "outputs": [],
   "source": [
    "data['sq_m_price'] = round(data['last_price'] / data['total_area'], 0)\n",
    "# Создаем столбец, в котором указана цена квадратного метра объекта недвижимости"
   ]
  },
  {
   "cell_type": "code",
   "execution_count": 61,
   "metadata": {},
   "outputs": [],
   "source": [
    "data['day_exposition'] = data['first_day_exposition'].dt.weekday\n",
    "# Создаем столбец, в котором указан день недели, когда было размещено объявление"
   ]
  },
  {
   "cell_type": "code",
   "execution_count": 62,
   "metadata": {},
   "outputs": [],
   "source": [
    "data['month_exposition'] = pd.DatetimeIndex(data['first_day_exposition']).month\n",
    "# Создаем столбец, в котором указан месяц, когда было размещено объявление"
   ]
  },
  {
   "cell_type": "code",
   "execution_count": 63,
   "metadata": {},
   "outputs": [],
   "source": [
    "data['year_exposition'] = pd.DatetimeIndex(data['first_day_exposition']).year\n",
    "# Создаем столбец, в котором указан год размещения объявления"
   ]
  },
  {
   "cell_type": "code",
   "execution_count": 64,
   "metadata": {},
   "outputs": [],
   "source": [
    "def floor_type(row):\n",
    "    floor = row['floor']\n",
    "    total = row['floors_total']\n",
    "    if floor == 1:\n",
    "        return 'первый'\n",
    "    if floor == total:\n",
    "        return 'последний'\n",
    "    return 'другой'"
   ]
  },
  {
   "cell_type": "markdown",
   "metadata": {},
   "source": [
    "Написанная выше функция ` floor_type` возвращает тип этажа (первый, последний, другой). Аргумент функции `row` - строка датафрейма целиком, переменными `floor` и `total` обращаемся к конкретным столбцам. Далее создаем новый столбец `floor_type`, куда будут записываться результаты и применяем метод `apply` к датафрейму. Параметром `axis=1` указываем, что на вход нужно отправить строки датафрейма. "
   ]
  },
  {
   "cell_type": "code",
   "execution_count": 65,
   "metadata": {},
   "outputs": [],
   "source": [
    "data['floor_type'] = data.apply(floor_type, axis=1)"
   ]
  },
  {
   "cell_type": "code",
   "execution_count": 66,
   "metadata": {},
   "outputs": [],
   "source": [
    "data['km_to_cityCenter'] = round(data['cityCenters_nearest'] / 1000, 0)\n",
    "# Создаем столбец, в котором указано расстояние до центра города в километрах"
   ]
  },
  {
   "cell_type": "code",
   "execution_count": 67,
   "metadata": {},
   "outputs": [
    {
     "data": {
      "text/html": [
       "<div>\n",
       "<style scoped>\n",
       "    .dataframe tbody tr th:only-of-type {\n",
       "        vertical-align: middle;\n",
       "    }\n",
       "\n",
       "    .dataframe tbody tr th {\n",
       "        vertical-align: top;\n",
       "    }\n",
       "\n",
       "    .dataframe thead th {\n",
       "        text-align: right;\n",
       "    }\n",
       "</style>\n",
       "<table border=\"1\" class=\"dataframe\">\n",
       "  <thead>\n",
       "    <tr style=\"text-align: right;\">\n",
       "      <th></th>\n",
       "      <th>total_images</th>\n",
       "      <th>last_price</th>\n",
       "      <th>total_area</th>\n",
       "      <th>first_day_exposition</th>\n",
       "      <th>rooms</th>\n",
       "      <th>ceiling_height</th>\n",
       "      <th>floors_total</th>\n",
       "      <th>living_area</th>\n",
       "      <th>floor</th>\n",
       "      <th>is_apartment</th>\n",
       "      <th>studio</th>\n",
       "      <th>open_plan</th>\n",
       "      <th>kitchen_area</th>\n",
       "      <th>balcony</th>\n",
       "      <th>locality_name</th>\n",
       "      <th>airports_nearest</th>\n",
       "      <th>cityCenters_nearest</th>\n",
       "      <th>parks_around3000</th>\n",
       "      <th>parks_nearest</th>\n",
       "      <th>ponds_around3000</th>\n",
       "      <th>ponds_nearest</th>\n",
       "      <th>days_exposition</th>\n",
       "      <th>locality_name_new</th>\n",
       "      <th>sq_m_price</th>\n",
       "      <th>day_exposition</th>\n",
       "      <th>month_exposition</th>\n",
       "      <th>year_exposition</th>\n",
       "      <th>floor_type</th>\n",
       "      <th>km_to_cityCenter</th>\n",
       "    </tr>\n",
       "  </thead>\n",
       "  <tbody>\n",
       "    <tr>\n",
       "      <th>1</th>\n",
       "      <td>7</td>\n",
       "      <td>3350000.0</td>\n",
       "      <td>40.40</td>\n",
       "      <td>2018-12-04</td>\n",
       "      <td>1</td>\n",
       "      <td>2.65</td>\n",
       "      <td>11.0</td>\n",
       "      <td>18.60</td>\n",
       "      <td>1</td>\n",
       "      <td>False</td>\n",
       "      <td>False</td>\n",
       "      <td>False</td>\n",
       "      <td>11.00</td>\n",
       "      <td>2</td>\n",
       "      <td>посёлок Шушары</td>\n",
       "      <td>12817.0</td>\n",
       "      <td>18603.0</td>\n",
       "      <td>0.0</td>\n",
       "      <td>NaN</td>\n",
       "      <td>0.0</td>\n",
       "      <td>NaN</td>\n",
       "      <td>81.0</td>\n",
       "      <td>поселок шушары</td>\n",
       "      <td>82921.0</td>\n",
       "      <td>1</td>\n",
       "      <td>12</td>\n",
       "      <td>2018</td>\n",
       "      <td>первый</td>\n",
       "      <td>19.0</td>\n",
       "    </tr>\n",
       "    <tr>\n",
       "      <th>2</th>\n",
       "      <td>10</td>\n",
       "      <td>5196000.0</td>\n",
       "      <td>56.00</td>\n",
       "      <td>2015-08-20</td>\n",
       "      <td>2</td>\n",
       "      <td>2.65</td>\n",
       "      <td>5.0</td>\n",
       "      <td>34.30</td>\n",
       "      <td>4</td>\n",
       "      <td>False</td>\n",
       "      <td>False</td>\n",
       "      <td>False</td>\n",
       "      <td>8.30</td>\n",
       "      <td>0</td>\n",
       "      <td>Санкт-Петербург</td>\n",
       "      <td>21741.0</td>\n",
       "      <td>13933.0</td>\n",
       "      <td>1.0</td>\n",
       "      <td>90.0</td>\n",
       "      <td>2.0</td>\n",
       "      <td>574.0</td>\n",
       "      <td>558.0</td>\n",
       "      <td>санкт-петербург</td>\n",
       "      <td>92786.0</td>\n",
       "      <td>3</td>\n",
       "      <td>8</td>\n",
       "      <td>2015</td>\n",
       "      <td>другой</td>\n",
       "      <td>14.0</td>\n",
       "    </tr>\n",
       "    <tr>\n",
       "      <th>5</th>\n",
       "      <td>10</td>\n",
       "      <td>2890000.0</td>\n",
       "      <td>30.40</td>\n",
       "      <td>2018-09-10</td>\n",
       "      <td>1</td>\n",
       "      <td>2.65</td>\n",
       "      <td>12.0</td>\n",
       "      <td>14.40</td>\n",
       "      <td>5</td>\n",
       "      <td>False</td>\n",
       "      <td>False</td>\n",
       "      <td>False</td>\n",
       "      <td>9.10</td>\n",
       "      <td>0</td>\n",
       "      <td>городской посёлок Янино-1</td>\n",
       "      <td>NaN</td>\n",
       "      <td>NaN</td>\n",
       "      <td>0.0</td>\n",
       "      <td>NaN</td>\n",
       "      <td>0.0</td>\n",
       "      <td>NaN</td>\n",
       "      <td>55.0</td>\n",
       "      <td>поселок янино-1</td>\n",
       "      <td>95066.0</td>\n",
       "      <td>0</td>\n",
       "      <td>9</td>\n",
       "      <td>2018</td>\n",
       "      <td>другой</td>\n",
       "      <td>NaN</td>\n",
       "    </tr>\n",
       "    <tr>\n",
       "      <th>6</th>\n",
       "      <td>6</td>\n",
       "      <td>3700000.0</td>\n",
       "      <td>37.30</td>\n",
       "      <td>2017-11-02</td>\n",
       "      <td>1</td>\n",
       "      <td>2.65</td>\n",
       "      <td>26.0</td>\n",
       "      <td>10.60</td>\n",
       "      <td>6</td>\n",
       "      <td>False</td>\n",
       "      <td>False</td>\n",
       "      <td>False</td>\n",
       "      <td>14.40</td>\n",
       "      <td>1</td>\n",
       "      <td>посёлок Парголово</td>\n",
       "      <td>52996.0</td>\n",
       "      <td>19143.0</td>\n",
       "      <td>0.0</td>\n",
       "      <td>NaN</td>\n",
       "      <td>0.0</td>\n",
       "      <td>NaN</td>\n",
       "      <td>155.0</td>\n",
       "      <td>поселок парголово</td>\n",
       "      <td>99196.0</td>\n",
       "      <td>3</td>\n",
       "      <td>11</td>\n",
       "      <td>2017</td>\n",
       "      <td>другой</td>\n",
       "      <td>19.0</td>\n",
       "    </tr>\n",
       "    <tr>\n",
       "      <th>7</th>\n",
       "      <td>5</td>\n",
       "      <td>7915000.0</td>\n",
       "      <td>71.60</td>\n",
       "      <td>2019-04-18</td>\n",
       "      <td>2</td>\n",
       "      <td>2.65</td>\n",
       "      <td>24.0</td>\n",
       "      <td>41.31</td>\n",
       "      <td>22</td>\n",
       "      <td>False</td>\n",
       "      <td>False</td>\n",
       "      <td>False</td>\n",
       "      <td>18.90</td>\n",
       "      <td>2</td>\n",
       "      <td>Санкт-Петербург</td>\n",
       "      <td>23982.0</td>\n",
       "      <td>11634.0</td>\n",
       "      <td>0.0</td>\n",
       "      <td>NaN</td>\n",
       "      <td>0.0</td>\n",
       "      <td>NaN</td>\n",
       "      <td>NaN</td>\n",
       "      <td>санкт-петербург</td>\n",
       "      <td>110545.0</td>\n",
       "      <td>3</td>\n",
       "      <td>4</td>\n",
       "      <td>2019</td>\n",
       "      <td>другой</td>\n",
       "      <td>12.0</td>\n",
       "    </tr>\n",
       "    <tr>\n",
       "      <th>8</th>\n",
       "      <td>20</td>\n",
       "      <td>2900000.0</td>\n",
       "      <td>33.16</td>\n",
       "      <td>2018-05-23</td>\n",
       "      <td>1</td>\n",
       "      <td>2.65</td>\n",
       "      <td>27.0</td>\n",
       "      <td>15.43</td>\n",
       "      <td>26</td>\n",
       "      <td>False</td>\n",
       "      <td>False</td>\n",
       "      <td>False</td>\n",
       "      <td>8.81</td>\n",
       "      <td>0</td>\n",
       "      <td>посёлок Мурино</td>\n",
       "      <td>NaN</td>\n",
       "      <td>NaN</td>\n",
       "      <td>0.0</td>\n",
       "      <td>NaN</td>\n",
       "      <td>0.0</td>\n",
       "      <td>NaN</td>\n",
       "      <td>189.0</td>\n",
       "      <td>мурино</td>\n",
       "      <td>87455.0</td>\n",
       "      <td>2</td>\n",
       "      <td>5</td>\n",
       "      <td>2018</td>\n",
       "      <td>другой</td>\n",
       "      <td>NaN</td>\n",
       "    </tr>\n",
       "    <tr>\n",
       "      <th>9</th>\n",
       "      <td>18</td>\n",
       "      <td>5400000.0</td>\n",
       "      <td>61.00</td>\n",
       "      <td>2017-02-26</td>\n",
       "      <td>3</td>\n",
       "      <td>2.50</td>\n",
       "      <td>9.0</td>\n",
       "      <td>43.60</td>\n",
       "      <td>7</td>\n",
       "      <td>False</td>\n",
       "      <td>False</td>\n",
       "      <td>False</td>\n",
       "      <td>6.50</td>\n",
       "      <td>2</td>\n",
       "      <td>Санкт-Петербург</td>\n",
       "      <td>50898.0</td>\n",
       "      <td>15008.0</td>\n",
       "      <td>0.0</td>\n",
       "      <td>NaN</td>\n",
       "      <td>0.0</td>\n",
       "      <td>NaN</td>\n",
       "      <td>289.0</td>\n",
       "      <td>санкт-петербург</td>\n",
       "      <td>88525.0</td>\n",
       "      <td>6</td>\n",
       "      <td>2</td>\n",
       "      <td>2017</td>\n",
       "      <td>другой</td>\n",
       "      <td>15.0</td>\n",
       "    </tr>\n",
       "    <tr>\n",
       "      <th>10</th>\n",
       "      <td>5</td>\n",
       "      <td>5050000.0</td>\n",
       "      <td>39.60</td>\n",
       "      <td>2017-11-16</td>\n",
       "      <td>1</td>\n",
       "      <td>2.67</td>\n",
       "      <td>12.0</td>\n",
       "      <td>20.30</td>\n",
       "      <td>3</td>\n",
       "      <td>False</td>\n",
       "      <td>False</td>\n",
       "      <td>False</td>\n",
       "      <td>8.50</td>\n",
       "      <td>0</td>\n",
       "      <td>Санкт-Петербург</td>\n",
       "      <td>38357.0</td>\n",
       "      <td>13878.0</td>\n",
       "      <td>1.0</td>\n",
       "      <td>310.0</td>\n",
       "      <td>2.0</td>\n",
       "      <td>553.0</td>\n",
       "      <td>137.0</td>\n",
       "      <td>санкт-петербург</td>\n",
       "      <td>127525.0</td>\n",
       "      <td>3</td>\n",
       "      <td>11</td>\n",
       "      <td>2017</td>\n",
       "      <td>другой</td>\n",
       "      <td>14.0</td>\n",
       "    </tr>\n",
       "    <tr>\n",
       "      <th>11</th>\n",
       "      <td>9</td>\n",
       "      <td>3300000.0</td>\n",
       "      <td>44.00</td>\n",
       "      <td>2018-08-27</td>\n",
       "      <td>2</td>\n",
       "      <td>2.65</td>\n",
       "      <td>5.0</td>\n",
       "      <td>31.00</td>\n",
       "      <td>4</td>\n",
       "      <td>False</td>\n",
       "      <td>False</td>\n",
       "      <td>False</td>\n",
       "      <td>6.00</td>\n",
       "      <td>1</td>\n",
       "      <td>Ломоносов</td>\n",
       "      <td>48252.0</td>\n",
       "      <td>51677.0</td>\n",
       "      <td>0.0</td>\n",
       "      <td>NaN</td>\n",
       "      <td>0.0</td>\n",
       "      <td>NaN</td>\n",
       "      <td>7.0</td>\n",
       "      <td>ломоносов</td>\n",
       "      <td>75000.0</td>\n",
       "      <td>0</td>\n",
       "      <td>8</td>\n",
       "      <td>2018</td>\n",
       "      <td>другой</td>\n",
       "      <td>52.0</td>\n",
       "    </tr>\n",
       "    <tr>\n",
       "      <th>12</th>\n",
       "      <td>10</td>\n",
       "      <td>3890000.0</td>\n",
       "      <td>54.00</td>\n",
       "      <td>2016-06-30</td>\n",
       "      <td>2</td>\n",
       "      <td>2.65</td>\n",
       "      <td>5.0</td>\n",
       "      <td>30.00</td>\n",
       "      <td>5</td>\n",
       "      <td>False</td>\n",
       "      <td>False</td>\n",
       "      <td>False</td>\n",
       "      <td>9.00</td>\n",
       "      <td>0</td>\n",
       "      <td>Сертолово</td>\n",
       "      <td>NaN</td>\n",
       "      <td>NaN</td>\n",
       "      <td>0.0</td>\n",
       "      <td>NaN</td>\n",
       "      <td>0.0</td>\n",
       "      <td>NaN</td>\n",
       "      <td>90.0</td>\n",
       "      <td>сертолово</td>\n",
       "      <td>72037.0</td>\n",
       "      <td>3</td>\n",
       "      <td>6</td>\n",
       "      <td>2016</td>\n",
       "      <td>последний</td>\n",
       "      <td>NaN</td>\n",
       "    </tr>\n",
       "  </tbody>\n",
       "</table>\n",
       "</div>"
      ],
      "text/plain": [
       "    total_images  last_price  total_area first_day_exposition  rooms  \\\n",
       "1              7   3350000.0       40.40           2018-12-04      1   \n",
       "2             10   5196000.0       56.00           2015-08-20      2   \n",
       "5             10   2890000.0       30.40           2018-09-10      1   \n",
       "6              6   3700000.0       37.30           2017-11-02      1   \n",
       "7              5   7915000.0       71.60           2019-04-18      2   \n",
       "8             20   2900000.0       33.16           2018-05-23      1   \n",
       "9             18   5400000.0       61.00           2017-02-26      3   \n",
       "10             5   5050000.0       39.60           2017-11-16      1   \n",
       "11             9   3300000.0       44.00           2018-08-27      2   \n",
       "12            10   3890000.0       54.00           2016-06-30      2   \n",
       "\n",
       "    ceiling_height  floors_total  living_area  floor  is_apartment  studio  \\\n",
       "1             2.65          11.0        18.60      1         False   False   \n",
       "2             2.65           5.0        34.30      4         False   False   \n",
       "5             2.65          12.0        14.40      5         False   False   \n",
       "6             2.65          26.0        10.60      6         False   False   \n",
       "7             2.65          24.0        41.31     22         False   False   \n",
       "8             2.65          27.0        15.43     26         False   False   \n",
       "9             2.50           9.0        43.60      7         False   False   \n",
       "10            2.67          12.0        20.30      3         False   False   \n",
       "11            2.65           5.0        31.00      4         False   False   \n",
       "12            2.65           5.0        30.00      5         False   False   \n",
       "\n",
       "    open_plan  kitchen_area  balcony              locality_name  \\\n",
       "1       False         11.00        2             посёлок Шушары   \n",
       "2       False          8.30        0            Санкт-Петербург   \n",
       "5       False          9.10        0  городской посёлок Янино-1   \n",
       "6       False         14.40        1          посёлок Парголово   \n",
       "7       False         18.90        2            Санкт-Петербург   \n",
       "8       False          8.81        0             посёлок Мурино   \n",
       "9       False          6.50        2            Санкт-Петербург   \n",
       "10      False          8.50        0            Санкт-Петербург   \n",
       "11      False          6.00        1                  Ломоносов   \n",
       "12      False          9.00        0                  Сертолово   \n",
       "\n",
       "    airports_nearest  cityCenters_nearest  parks_around3000  parks_nearest  \\\n",
       "1            12817.0              18603.0               0.0            NaN   \n",
       "2            21741.0              13933.0               1.0           90.0   \n",
       "5                NaN                  NaN               0.0            NaN   \n",
       "6            52996.0              19143.0               0.0            NaN   \n",
       "7            23982.0              11634.0               0.0            NaN   \n",
       "8                NaN                  NaN               0.0            NaN   \n",
       "9            50898.0              15008.0               0.0            NaN   \n",
       "10           38357.0              13878.0               1.0          310.0   \n",
       "11           48252.0              51677.0               0.0            NaN   \n",
       "12               NaN                  NaN               0.0            NaN   \n",
       "\n",
       "    ponds_around3000  ponds_nearest  days_exposition  locality_name_new  \\\n",
       "1                0.0            NaN             81.0     поселок шушары   \n",
       "2                2.0          574.0            558.0    санкт-петербург   \n",
       "5                0.0            NaN             55.0    поселок янино-1   \n",
       "6                0.0            NaN            155.0  поселок парголово   \n",
       "7                0.0            NaN              NaN    санкт-петербург   \n",
       "8                0.0            NaN            189.0             мурино   \n",
       "9                0.0            NaN            289.0    санкт-петербург   \n",
       "10               2.0          553.0            137.0    санкт-петербург   \n",
       "11               0.0            NaN              7.0          ломоносов   \n",
       "12               0.0            NaN             90.0          сертолово   \n",
       "\n",
       "    sq_m_price  day_exposition  month_exposition  year_exposition floor_type  \\\n",
       "1      82921.0               1                12             2018     первый   \n",
       "2      92786.0               3                 8             2015     другой   \n",
       "5      95066.0               0                 9             2018     другой   \n",
       "6      99196.0               3                11             2017     другой   \n",
       "7     110545.0               3                 4             2019     другой   \n",
       "8      87455.0               2                 5             2018     другой   \n",
       "9      88525.0               6                 2             2017     другой   \n",
       "10    127525.0               3                11             2017     другой   \n",
       "11     75000.0               0                 8             2018     другой   \n",
       "12     72037.0               3                 6             2016  последний   \n",
       "\n",
       "    km_to_cityCenter  \n",
       "1               19.0  \n",
       "2               14.0  \n",
       "5                NaN  \n",
       "6               19.0  \n",
       "7               12.0  \n",
       "8                NaN  \n",
       "9               15.0  \n",
       "10              14.0  \n",
       "11              52.0  \n",
       "12               NaN  "
      ]
     },
     "execution_count": 67,
     "metadata": {},
     "output_type": "execute_result"
    }
   ],
   "source": [
    "data.head(10) # Выводим первые 10 строк датафрейма для проверки"
   ]
  },
  {
   "cell_type": "markdown",
   "metadata": {},
   "source": [
    "<div class=\"alert alert-success\">\n",
    "<b>✔️ Комментарий ревьюера v1:</b> \n",
    "<br>Все необходимые колонки добавлены. Идём дальше)\n",
    "</div>"
   ]
  },
  {
   "cell_type": "markdown",
   "metadata": {},
   "source": [
    "### Проведите исследовательский анализ данных"
   ]
  },
  {
   "cell_type": "markdown",
   "metadata": {},
   "source": [
    "#### Изучение отдельных данных датасета"
   ]
  },
  {
   "cell_type": "code",
   "execution_count": 68,
   "metadata": {},
   "outputs": [
    {
     "data": {
      "image/png": "[encoded data removed]",
      "text/plain": [
       "<Figure size 504x576 with 4 Axes>"
      ]
     },
     "metadata": {
      "needs_background": "light"
     },
     "output_type": "display_data"
    }
   ],
   "source": [
    "data.loc[:,['total_area', 'living_area', 'kitchen_area']].hist(figsize=(7,8));\n",
    "# гистограмыы для общей площади, жилой площади и площади кухни"
   ]
  },
  {
   "cell_type": "markdown",
   "metadata": {},
   "source": [
    "Полученные гистограммы можно описать как тяготеющие к нормальным. То, что гистограммы имеют резкий рост значений - пик - и более плавный спад, можно объяснить, что площадь имеет какие-то минимальные значения, т.е. крайне редко встречаются жилые помещения меньше 25 кв.м. общей площади или 10 кв.м. жилой. На каждой гистограмме можно увидеть пик наиболее часто встречающихся значений. Чаще всего продается недвижимость с общей площадью около 40 кв.м., жилой площадью 20 кв.м. и площадью кухни около 9 кв.м. Площадь кухни равная нулю говорит о количестве студий среди объявлений."
   ]
  },
  {
   "cell_type": "code",
   "execution_count": 69,
   "metadata": {},
   "outputs": [
    {
     "data": {
      "image/png": "[encoded data removed]",
      "text/plain": [
       "<Figure size 504x432 with 4 Axes>"
      ]
     },
     "metadata": {
      "needs_background": "light"
     },
     "output_type": "display_data"
    }
   ],
   "source": [
    "data.loc[:,['last_price', 'rooms', 'ceiling_height']].hist(figsize=(7,6));\n",
    "# гистограммы для окончательной цены недвижимости, количества комнат и высоты потолков"
   ]
  },
  {
   "cell_type": "markdown",
   "metadata": {},
   "source": [
    "Гистограмма, отображающая цену указывает, что в большинстве объявлений цена указана в районе 4 млн., найти что-то дешевле 2.5 млн. будет проблематично. Также на рынке есть редкие объекты с ценой выше 10 млн. В абсолютном большинстве случаев это 1-2х комнатные помещения. Для высоты потолков построим отдельную гистограмму, т.к. в датафрейме остались уникальные объекты с 10-метровыми потолками."
   ]
  },
  {
   "cell_type": "code",
   "execution_count": 70,
   "metadata": {},
   "outputs": [
    {
     "data": {
      "text/plain": [
       "<AxesSubplot:>"
      ]
     },
     "execution_count": 70,
     "metadata": {},
     "output_type": "execute_result"
    },
    {
     "data": {
      "image/png": "[encoded data removed]",
      "text/plain": [
       "<Figure size 432x288 with 1 Axes>"
      ]
     },
     "metadata": {
      "needs_background": "light"
     },
     "output_type": "display_data"
    }
   ],
   "source": [
    "data['ceiling_height'].hist(range=(2, 4))"
   ]
  },
  {
   "cell_type": "markdown",
   "metadata": {},
   "source": [
    "Большинство помещений с потолками высотой в районе 2.6 - 2.7 метра."
   ]
  },
  {
   "cell_type": "code",
   "execution_count": 71,
   "metadata": {},
   "outputs": [
    {
     "data": {
      "image/png": "[encoded data removed]",
      "text/plain": [
       "<Figure size 504x432 with 4 Axes>"
      ]
     },
     "metadata": {
      "needs_background": "light"
     },
     "output_type": "display_data"
    }
   ],
   "source": [
    "data.loc[:,['cityCenters_nearest', 'airports_nearest', 'parks_nearest']].hist(figsize=(7,6));\n",
    "# гистограммы для расстояния до центра города, расстояния до аэропорта, расстояния до ближайшего парка"
   ]
  },
  {
   "cell_type": "markdown",
   "metadata": {},
   "source": [
    "Для анализа построенных выше гистограмм нужно помнить, что в этих столбцах указаны большие значения взамен пустых строк, как обозначения, что эти объекты очень далеко. Т.е. в большинстве объявлений нет поблизости парка. До аэропорта в значительной части объявлений также довольно далеко и это, кстати, коррелирует с гистограммой о расстоянии до центра города, где в большинстве объявлений указано расстояние до 25 км., т.е. чем ближе к центру города, тем дальше до аэропорта."
   ]
  },
  {
   "cell_type": "code",
   "execution_count": 72,
   "metadata": {},
   "outputs": [
    {
     "data": {
      "image/png": "[encoded data removed]",
      "text/plain": [
       "<Figure size 432x288 with 1 Axes>"
      ]
     },
     "metadata": {
      "needs_background": "light"
     },
     "output_type": "display_data"
    },
    {
     "data": {
      "text/plain": [
       "<AxesSubplot:>"
      ]
     },
     "execution_count": 72,
     "metadata": {},
     "output_type": "execute_result"
    },
    {
     "data": {
      "image/png": "[encoded data removed]",
      "text/plain": [
       "<Figure size 432x288 with 1 Axes>"
      ]
     },
     "metadata": {
      "needs_background": "light"
     },
     "output_type": "display_data"
    }
   ],
   "source": [
    "data['parks_nearest'].hist(bins=20, range=(0,3000))\n",
    "plt.show()\n",
    "data['cityCenters_nearest'].hist(range=(0,30000))"
   ]
  },
  {
   "cell_type": "markdown",
   "metadata": {},
   "source": [
    "Построив гистограммы с количеством объектов непосредственно рядом с парками или недалеко от центра города, можно увидеть, что в целом таких объектов не так много."
   ]
  },
  {
   "cell_type": "code",
   "execution_count": 73,
   "metadata": {},
   "outputs": [
    {
     "data": {
      "image/png": "[encoded data removed]",
      "text/plain": [
       "<Figure size 576x288 with 2 Axes>"
      ]
     },
     "metadata": {
      "needs_background": "light"
     },
     "output_type": "display_data"
    },
    {
     "data": {
      "text/plain": [
       "<AxesSubplot:>"
      ]
     },
     "execution_count": 73,
     "metadata": {},
     "output_type": "execute_result"
    },
    {
     "data": {
      "image/png": "[encoded data removed]",
      "text/plain": [
       "<Figure size 216x216 with 1 Axes>"
      ]
     },
     "metadata": {
      "needs_background": "light"
     },
     "output_type": "display_data"
    }
   ],
   "source": [
    "data.loc[:,['floor', 'floors_total']].hist(bins=20, figsize=(8,4))\n",
    "# гистограммы для описания, на каком этаже находятся квартиры и общее количество этажей в доме\n",
    "plt.show()\n",
    "data['floor_type'].hist(figsize=(3,3)) # гистограмма, отображающая тип этажа"
   ]
  },
  {
   "cell_type": "markdown",
   "metadata": {},
   "source": [
    "Построенные выше гистограммы указывают, что среди объявлений лидирую дома с этажностью менее 10, сами объекты распределены в основном между 2 и 5 этажами."
   ]
  },
  {
   "cell_type": "code",
   "execution_count": 74,
   "metadata": {},
   "outputs": [
    {
     "data": {
      "image/png": "[encoded data removed]",
      "text/plain": [
       "<Figure size 576x288 with 2 Axes>"
      ]
     },
     "metadata": {
      "needs_background": "light"
     },
     "output_type": "display_data"
    }
   ],
   "source": [
    "data.loc[:,['day_exposition', 'month_exposition']].hist(bins=12,figsize=(8,4));\n",
    "# гистограммы, отображающие день и месяц размещения объявления"
   ]
  },
  {
   "cell_type": "markdown",
   "metadata": {},
   "source": [
    "На гистограммах выше четко видно, что большинство объявлений размещается в будние дни. Относительно календарного года - чаще всего это в период февраль-апрель. Провал в мае можно объяснить праздниками и длинными выходными, когда люди включаются в садово-огородный сезон. Декабрь и январь - новый год, подготовка и отдых - также не самый популярный период для размещения объявлений "
   ]
  },
  {
   "cell_type": "markdown",
   "metadata": {},
   "source": [
    "<div class=\"alert alert-success\">\n",
    "<b>✔️ Комментарий ревьюера v1:</b> \n",
    "<br>Ты корректно подбираешь основные диапазоны, а также верно читаешь графики! \n",
    "</div>\n"
   ]
  },
  {
   "cell_type": "markdown",
   "metadata": {},
   "source": [
    "#### Длительность размещения объявления"
   ]
  },
  {
   "cell_type": "markdown",
   "metadata": {},
   "source": [
    "Далее проанализируем, сколько в среднем размещены объявления о продаже - построим гистограмму и найдем среднее значение и медиану."
   ]
  },
  {
   "cell_type": "code",
   "execution_count": 75,
   "metadata": {},
   "outputs": [
    {
     "data": {
      "image/png": "[encoded data removed]",
      "text/plain": [
       "<Figure size 432x288 with 1 Axes>"
      ]
     },
     "metadata": {
      "needs_background": "light"
     },
     "output_type": "display_data"
    }
   ],
   "source": [
    "data['days_exposition'].hist(bins=30); # гистограмма, отображающая сколько дней были размещены объявления"
   ]
  },
  {
   "cell_type": "code",
   "execution_count": 76,
   "metadata": {},
   "outputs": [
    {
     "data": {
      "text/plain": [
       "count    16645.000000\n",
       "mean       175.758486\n",
       "std        212.609561\n",
       "min          1.000000\n",
       "25%         42.000000\n",
       "50%         95.000000\n",
       "75%        224.000000\n",
       "max       1580.000000\n",
       "Name: days_exposition, dtype: float64"
      ]
     },
     "execution_count": 76,
     "metadata": {},
     "output_type": "execute_result"
    }
   ],
   "source": [
    "data['days_exposition'].describe()"
   ]
  },
  {
   "cell_type": "markdown",
   "metadata": {},
   "source": [
    "По гистограмме можно увидеть, что абсолютное большинство объявлений удаляются через полгола после размещения. После вызова метода `describe()` можно увидеть среднее значение и медиану и насколько они отличаются. В данном случае оценивать по среднему будет не корректно, поскольку мы также видим, что минимальное заначение - 1, и трудно сказать, было ли объявление удалено из-за быстрой продажи или по другим причинам. Аналогично с максимальным значением - более 4 лет, и возможно объект был продан быстрее, но объявление забыли удалить. Поэтому оценим по медиане - 95 дней. Меньшие значения можно отнести к необычайно быстрым продажам. Что касается необычайно долгих продаж, здесь можно вернуться к гистограмме и сказать, что это все, что более полугода. И, подводя итог, можно сказать, что в среднем объявление размещено 3-6 месяцев."
   ]
  },
  {
   "cell_type": "markdown",
   "metadata": {},
   "source": [
    "#### Поиск зависимости стоимости недвижимости от различных факторов"
   ]
  },
  {
   "cell_type": "markdown",
   "metadata": {},
   "source": [
    "Проведем анализ зависимости цены от площади помещений (общей, жилой, кухни), сколько комнат, на каком этаже находится объект, когда разместили объявление. "
   ]
  },
  {
   "cell_type": "code",
   "execution_count": 77,
   "metadata": {},
   "outputs": [
    {
     "data": {
      "text/html": [
       "<div>\n",
       "<style scoped>\n",
       "    .dataframe tbody tr th:only-of-type {\n",
       "        vertical-align: middle;\n",
       "    }\n",
       "\n",
       "    .dataframe tbody tr th {\n",
       "        vertical-align: top;\n",
       "    }\n",
       "\n",
       "    .dataframe thead th {\n",
       "        text-align: right;\n",
       "    }\n",
       "</style>\n",
       "<table border=\"1\" class=\"dataframe\">\n",
       "  <thead>\n",
       "    <tr style=\"text-align: right;\">\n",
       "      <th></th>\n",
       "      <th>kitchen_area</th>\n",
       "      <th>living_area</th>\n",
       "      <th>total_area</th>\n",
       "    </tr>\n",
       "    <tr>\n",
       "      <th>last_price</th>\n",
       "      <th></th>\n",
       "      <th></th>\n",
       "      <th></th>\n",
       "    </tr>\n",
       "  </thead>\n",
       "  <tbody>\n",
       "    <tr>\n",
       "      <th>430000.0</th>\n",
       "      <td>6.00</td>\n",
       "      <td>16.000000</td>\n",
       "      <td>30.400000</td>\n",
       "    </tr>\n",
       "    <tr>\n",
       "      <th>450000.0</th>\n",
       "      <td>6.60</td>\n",
       "      <td>23.533333</td>\n",
       "      <td>40.633333</td>\n",
       "    </tr>\n",
       "    <tr>\n",
       "      <th>470000.0</th>\n",
       "      <td>8.25</td>\n",
       "      <td>30.000000</td>\n",
       "      <td>42.750000</td>\n",
       "    </tr>\n",
       "    <tr>\n",
       "      <th>490000.0</th>\n",
       "      <td>5.50</td>\n",
       "      <td>17.000000</td>\n",
       "      <td>29.100000</td>\n",
       "    </tr>\n",
       "    <tr>\n",
       "      <th>500000.0</th>\n",
       "      <td>7.80</td>\n",
       "      <td>21.033333</td>\n",
       "      <td>38.900000</td>\n",
       "    </tr>\n",
       "    <tr>\n",
       "      <th>...</th>\n",
       "      <td>...</td>\n",
       "      <td>...</td>\n",
       "      <td>...</td>\n",
       "    </tr>\n",
       "    <tr>\n",
       "      <th>11858000.0</th>\n",
       "      <td>13.80</td>\n",
       "      <td>36.200000</td>\n",
       "      <td>76.100000</td>\n",
       "    </tr>\n",
       "    <tr>\n",
       "      <th>11866860.0</th>\n",
       "      <td>10.90</td>\n",
       "      <td>67.800000</td>\n",
       "      <td>107.800000</td>\n",
       "    </tr>\n",
       "    <tr>\n",
       "      <th>11879250.0</th>\n",
       "      <td>12.35</td>\n",
       "      <td>36.150000</td>\n",
       "      <td>70.500000</td>\n",
       "    </tr>\n",
       "    <tr>\n",
       "      <th>11880000.0</th>\n",
       "      <td>15.20</td>\n",
       "      <td>51.500000</td>\n",
       "      <td>92.800000</td>\n",
       "    </tr>\n",
       "    <tr>\n",
       "      <th>11894400.0</th>\n",
       "      <td>10.63</td>\n",
       "      <td>38.400000</td>\n",
       "      <td>70.800000</td>\n",
       "    </tr>\n",
       "  </tbody>\n",
       "</table>\n",
       "<p>1929 rows × 3 columns</p>\n",
       "</div>"
      ],
      "text/plain": [
       "            kitchen_area  living_area  total_area\n",
       "last_price                                       \n",
       "430000.0            6.00    16.000000   30.400000\n",
       "450000.0            6.60    23.533333   40.633333\n",
       "470000.0            8.25    30.000000   42.750000\n",
       "490000.0            5.50    17.000000   29.100000\n",
       "500000.0            7.80    21.033333   38.900000\n",
       "...                  ...          ...         ...\n",
       "11858000.0         13.80    36.200000   76.100000\n",
       "11866860.0         10.90    67.800000  107.800000\n",
       "11879250.0         12.35    36.150000   70.500000\n",
       "11880000.0         15.20    51.500000   92.800000\n",
       "11894400.0         10.63    38.400000   70.800000\n",
       "\n",
       "[1929 rows x 3 columns]"
      ]
     },
     "execution_count": 77,
     "metadata": {},
     "output_type": "execute_result"
    }
   ],
   "source": [
    "data.pivot_table(index='last_price', values=['total_area', 'living_area', 'kitchen_area'])"
   ]
  },
  {
   "cell_type": "markdown",
   "metadata": {},
   "source": [
    "Из сводной таблицы выше сложно провести адекватный анализ - мы получили около 2000 строк, и сложно проанализировать их между собой. Но даже сейчас можно заметить, что не всегда цена выше у объектов с большей площадью (как пример 4 строка, 4.9 млн.). Это может говорить о влиянии других факторов - например близость к центру города. Но все же для более удобного анализа разобъем объявления на категории, в зависимости от цены объекта. И построенная ранее гистограмма показывает, на какие группы стоит разделить объявления. "
   ]
  },
  {
   "cell_type": "code",
   "execution_count": 78,
   "metadata": {},
   "outputs": [],
   "source": [
    "def price_cat(col):\n",
    "    if col < 3000000:\n",
    "        return '0 - 3 млн'\n",
    "    if col > 3000000 and col < 4000000:\n",
    "        return '03 - 4 млн'\n",
    "    if col > 4000000 and col < 5000000:\n",
    "        return '04 - 5 млн'\n",
    "    if col > 5000000 and col < 6000000:\n",
    "        return '05 - 6 млн'\n",
    "    if col > 6000000 and col < 8000000:\n",
    "        return '06 - 8 млн'\n",
    "    if col > 8000000 and col < 10000000:\n",
    "        return '08 - 10 млн'\n",
    "    if col > 10000000 and col < 12000000:\n",
    "        return '10 - 12 млн'\n",
    "    return 'Более 12 млн'"
   ]
  },
  {
   "cell_type": "markdown",
   "metadata": {},
   "source": [
    "Функция `price_cat` делит объявления на категории, в зависимости от стоимости объекта. После чего создаем новый столбец, куда помещаем полученные результаты, применив эту функцию к столбцу `last_price`"
   ]
  },
  {
   "cell_type": "code",
   "execution_count": 79,
   "metadata": {},
   "outputs": [],
   "source": [
    "data['price_cat'] = data['last_price'].apply(price_cat)"
   ]
  },
  {
   "cell_type": "markdown",
   "metadata": {},
   "source": [
    "Далее создадим сводную таблицу по новому столбцу и построим график к этой таблице"
   ]
  },
  {
   "cell_type": "code",
   "execution_count": 80,
   "metadata": {},
   "outputs": [],
   "source": [
    "price_tab = data.pivot_table(index='price_cat', values=['total_area', 'living_area', 'kitchen_area'])"
   ]
  },
  {
   "cell_type": "code",
   "execution_count": 81,
   "metadata": {},
   "outputs": [
    {
     "data": {
      "text/html": [
       "<div>\n",
       "<style scoped>\n",
       "    .dataframe tbody tr th:only-of-type {\n",
       "        vertical-align: middle;\n",
       "    }\n",
       "\n",
       "    .dataframe tbody tr th {\n",
       "        vertical-align: top;\n",
       "    }\n",
       "\n",
       "    .dataframe thead th {\n",
       "        text-align: right;\n",
       "    }\n",
       "</style>\n",
       "<table border=\"1\" class=\"dataframe\">\n",
       "  <thead>\n",
       "    <tr style=\"text-align: right;\">\n",
       "      <th></th>\n",
       "      <th>kitchen_area</th>\n",
       "      <th>living_area</th>\n",
       "      <th>total_area</th>\n",
       "    </tr>\n",
       "    <tr>\n",
       "      <th>price_cat</th>\n",
       "      <th></th>\n",
       "      <th></th>\n",
       "      <th></th>\n",
       "    </tr>\n",
       "  </thead>\n",
       "  <tbody>\n",
       "    <tr>\n",
       "      <th>0 - 3 млн</th>\n",
       "      <td>7.356806</td>\n",
       "      <td>24.000277</td>\n",
       "      <td>41.400975</td>\n",
       "    </tr>\n",
       "    <tr>\n",
       "      <th>03 - 4 млн</th>\n",
       "      <td>8.255015</td>\n",
       "      <td>23.256072</td>\n",
       "      <td>41.963235</td>\n",
       "    </tr>\n",
       "    <tr>\n",
       "      <th>04 - 5 млн</th>\n",
       "      <td>8.963654</td>\n",
       "      <td>28.313363</td>\n",
       "      <td>49.504818</td>\n",
       "    </tr>\n",
       "    <tr>\n",
       "      <th>05 - 6 млн</th>\n",
       "      <td>9.630103</td>\n",
       "      <td>33.703165</td>\n",
       "      <td>57.522431</td>\n",
       "    </tr>\n",
       "    <tr>\n",
       "      <th>06 - 8 млн</th>\n",
       "      <td>10.727313</td>\n",
       "      <td>38.403475</td>\n",
       "      <td>66.037585</td>\n",
       "    </tr>\n",
       "    <tr>\n",
       "      <th>08 - 10 млн</th>\n",
       "      <td>11.907531</td>\n",
       "      <td>45.359180</td>\n",
       "      <td>77.474407</td>\n",
       "    </tr>\n",
       "    <tr>\n",
       "      <th>10 - 12 млн</th>\n",
       "      <td>13.039934</td>\n",
       "      <td>49.103560</td>\n",
       "      <td>84.807516</td>\n",
       "    </tr>\n",
       "    <tr>\n",
       "      <th>Более 12 млн</th>\n",
       "      <td>9.154911</td>\n",
       "      <td>30.846399</td>\n",
       "      <td>53.004357</td>\n",
       "    </tr>\n",
       "  </tbody>\n",
       "</table>\n",
       "</div>"
      ],
      "text/plain": [
       "              kitchen_area  living_area  total_area\n",
       "price_cat                                          \n",
       "0 - 3 млн         7.356806    24.000277   41.400975\n",
       "03 - 4 млн        8.255015    23.256072   41.963235\n",
       "04 - 5 млн        8.963654    28.313363   49.504818\n",
       "05 - 6 млн        9.630103    33.703165   57.522431\n",
       "06 - 8 млн       10.727313    38.403475   66.037585\n",
       "08 - 10 млн      11.907531    45.359180   77.474407\n",
       "10 - 12 млн      13.039934    49.103560   84.807516\n",
       "Более 12 млн      9.154911    30.846399   53.004357"
      ]
     },
     "execution_count": 81,
     "metadata": {},
     "output_type": "execute_result"
    }
   ],
   "source": [
    "price_tab"
   ]
  },
  {
   "cell_type": "code",
   "execution_count": 82,
   "metadata": {},
   "outputs": [
    {
     "data": {
      "image/png": "[encoded data removed]",
      "text/plain": [
       "<Figure size 720x576 with 1 Axes>"
      ]
     },
     "metadata": {
      "needs_background": "light"
     },
     "output_type": "display_data"
    }
   ],
   "source": [
    "price_tab.plot(style='o-', grid=True, figsize=(10,8));"
   ]
  },
  {
   "cell_type": "markdown",
   "metadata": {},
   "source": [
    "На графике хорошо видна зависимость цены от площади в интервале от 4 до 12 млн., причем  наибольший коэффициент этой линейной зависимости у кривой общей площади, наименьший - у кривой площади кухни (т.е. цена слабо зависит от площади кухни). В первом интервале (до 3 млн - 3-4 млн) можно увидеть, что с ростом цены площадь увеличивается слабо, а в случае с жилой площадью даже немного падает. То есть в ценовом сегменте до 4 млн., увеличение стоимости не говорит об обязательном увеличении площади помещения, здесь больше влияют какие-то другие факторы - где находится объект, близость инфраструктуры. Причем что-то похожее мы видим и со стоимостью более 12 млн. Когда с ростом цены, площадь начинает резко падать. По сути 12 млн - как отсечка для рынка недвижимости. Если до этого цена зависела непосредственно от самого объекта недвижимости, его площади, то после 12 млн гораздо больше влияют какие-то третьи факторы, например, близость к центру, или даже какие-то субъективные факторы (элитный район, дом, подъезд...)"
   ]
  },
  {
   "cell_type": "markdown",
   "metadata": {},
   "source": [
    "<div class=\"alert alert-info\">\n",
    "<b>Комментарий студента:</b>\n",
    "<br> В дополнение к графику, найдем числовые эквиваленты взаимосвязи между ценой и общей площадью, жилой и площадью кухни. Рассчитаем коэффициенты корреляции для каждой пары.\n",
    "</div>"
   ]
  },
  {
   "cell_type": "code",
   "execution_count": 83,
   "metadata": {},
   "outputs": [
    {
     "data": {
      "text/plain": [
       "0.689230270459117"
      ]
     },
     "execution_count": 83,
     "metadata": {},
     "output_type": "execute_result"
    }
   ],
   "source": [
    "data['last_price'].corr(data['total_area'])"
   ]
  },
  {
   "cell_type": "code",
   "execution_count": 84,
   "metadata": {},
   "outputs": [
    {
     "data": {
      "text/plain": [
       "0.569266843631126"
      ]
     },
     "execution_count": 84,
     "metadata": {},
     "output_type": "execute_result"
    }
   ],
   "source": [
    "data['last_price'].corr(data['living_area'])"
   ]
  },
  {
   "cell_type": "code",
   "execution_count": 85,
   "metadata": {},
   "outputs": [
    {
     "data": {
      "text/plain": [
       "0.4786216962401706"
      ]
     },
     "execution_count": 85,
     "metadata": {},
     "output_type": "execute_result"
    }
   ],
   "source": [
    "data['last_price'].corr(data['kitchen_area'])"
   ]
  },
  {
   "cell_type": "markdown",
   "metadata": {},
   "source": [
    "Рассчитанные коэффициенты корреляции как подтверждение вышесказанного - между ценой и площадью есть прямая зависимость. Чем больше площадь - выше стоимость. Наибольшая взаимосвязь между ценой и общей площадью помещения. Наименьшая - между ценой и площадью кухни."
   ]
  },
  {
   "cell_type": "code",
   "execution_count": 86,
   "metadata": {
    "scrolled": false
   },
   "outputs": [
    {
     "data": {
      "image/png": "[encoded data removed]",
      "text/plain": [
       "<Figure size 288x216 with 1 Axes>"
      ]
     },
     "metadata": {
      "needs_background": "light"
     },
     "output_type": "display_data"
    }
   ],
   "source": [
    "data.pivot_table(index='rooms', values='last_price').plot(style='o-', grid=True, figsize=(4,3));"
   ]
  },
  {
   "cell_type": "markdown",
   "metadata": {},
   "source": [
    "Построив график зависимости стоимости от количества комнат, можно увидеть практически линейную зависимость - с увеличение количества комнат, растет и стоимость."
   ]
  },
  {
   "cell_type": "code",
   "execution_count": 87,
   "metadata": {},
   "outputs": [
    {
     "data": {
      "text/plain": [
       "0.43474549714305655"
      ]
     },
     "execution_count": 87,
     "metadata": {},
     "output_type": "execute_result"
    }
   ],
   "source": [
    "data['last_price'].corr(data['rooms'])"
   ]
  },
  {
   "cell_type": "markdown",
   "metadata": {},
   "source": [
    "Рассчитанный коэффициент корреляции подтверждает описанный график - с ростом числа комнат растет и стоимость. Но здесь стоит также отметить - из-за графика может сложиться ложное впечатление, что стоимость растет прямо пропорционально увеличению количества комнат, и двухкомнатная квартира будет в два раза дороже однокомнатной. Коэффициент корреляции же нам говорит - зависимость безусловно есть, но, скажем так, средняя. "
   ]
  },
  {
   "cell_type": "markdown",
   "metadata": {},
   "source": [
    "<div class=\"alert alert-danger\">\n",
    "<b>❌ Комментарий ревьюера v1:</b> \n",
    "<br>Давай ещё добавим расчет корреляции для общей цены, общей площади, жилой площади, площади кухни и количества комнат используя .corr()\n",
    "</div>"
   ]
  },
  {
   "cell_type": "code",
   "execution_count": 88,
   "metadata": {},
   "outputs": [
    {
     "data": {
      "image/png": "[encoded data removed]",
      "text/plain": [
       "<Figure size 288x216 with 1 Axes>"
      ]
     },
     "metadata": {
      "needs_background": "light"
     },
     "output_type": "display_data"
    }
   ],
   "source": [
    "data.pivot_table(index='floor_type', values='last_price').plot(kind='bar', figsize=(4,3));"
   ]
  },
  {
   "cell_type": "markdown",
   "metadata": {},
   "source": [
    "При сравнении стоимости на разных типах этажей, получаем, что дешевле всего покупать недвижимость на первом этаже. На последнем также дешевле, чем недвижимость между первым и последним этажами."
   ]
  },
  {
   "cell_type": "markdown",
   "metadata": {},
   "source": [
    "Далее оценим, зависит ли цена от даты размещения объявления. Для этого построим три гистограммы - зависимость стоимости от дня недели, месяца, года."
   ]
  },
  {
   "cell_type": "code",
   "execution_count": 89,
   "metadata": {
    "scrolled": true
   },
   "outputs": [
    {
     "data": {
      "image/png": "[encoded data removed]",
      "text/plain": [
       "<Figure size 360x288 with 1 Axes>"
      ]
     },
     "metadata": {
      "needs_background": "light"
     },
     "output_type": "display_data"
    }
   ],
   "source": [
    "data.pivot_table(index='day_exposition', values='last_price').plot(kind='bar', figsize=(5,4));"
   ]
  },
  {
   "cell_type": "markdown",
   "metadata": {},
   "source": [
    "Из гистограммы видим, что день недели слабо влияет на цену недвижимости."
   ]
  },
  {
   "cell_type": "code",
   "execution_count": 90,
   "metadata": {},
   "outputs": [
    {
     "data": {
      "image/png": "[encoded data removed]",
      "text/plain": [
       "<Figure size 360x288 with 1 Axes>"
      ]
     },
     "metadata": {
      "needs_background": "light"
     },
     "output_type": "display_data"
    }
   ],
   "source": [
    "data.pivot_table(index='month_exposition', values='last_price').plot(kind='bar', figsize=(5,4));"
   ]
  },
  {
   "cell_type": "markdown",
   "metadata": {},
   "source": [
    "Месяц, как и день недели, не оказывает существенное влияние на ценообразование на рынке недвижимости."
   ]
  },
  {
   "cell_type": "code",
   "execution_count": 91,
   "metadata": {
    "scrolled": false
   },
   "outputs": [
    {
     "data": {
      "image/png": "[encoded data removed]",
      "text/plain": [
       "<Figure size 360x288 with 1 Axes>"
      ]
     },
     "metadata": {
      "needs_background": "light"
     },
     "output_type": "display_data"
    }
   ],
   "source": [
    "data.pivot_table(index='year_exposition', values='last_price').plot(kind='bar', figsize=(5,4));"
   ]
  },
  {
   "cell_type": "markdown",
   "metadata": {},
   "source": [
    "Гистограмма зависимости цены от года размещения объявления дала интересный результат. Вопреки популярному мнению, что цена на недвижимость неуклонно растет и это удачный вариант для инвестиций - после 2014 года цены падали следующие 2 года и даже спустя пять лет, в 2019 году не достигли уровня 2014 года."
   ]
  },
  {
   "cell_type": "markdown",
   "metadata": {},
   "source": [
    "#### Средняя цена одного квадратного метра в 10 населённых пунктах с наибольшим числом объявлений."
   ]
  },
  {
   "cell_type": "markdown",
   "metadata": {},
   "source": [
    "Создадим сводную таблицу по населенным пунктам, где укажем количество объявлений в этом населенном пункте и среднюю цену квадратного метра там."
   ]
  },
  {
   "cell_type": "code",
   "execution_count": 92,
   "metadata": {},
   "outputs": [],
   "source": [
    "sq_m_compare = data.pivot_table(index='locality_name_new', values=['sq_m_price'], aggfunc=['count', 'mean'])"
   ]
  },
  {
   "cell_type": "code",
   "execution_count": 93,
   "metadata": {},
   "outputs": [],
   "source": [
    "sq_m_compare.columns=['Количество объявлений', 'Средняя цена кв.м.'] # переименовываем названия столбцов для надлежащего вида"
   ]
  },
  {
   "cell_type": "code",
   "execution_count": 94,
   "metadata": {},
   "outputs": [
    {
     "data": {
      "text/html": [
       "<div>\n",
       "<style scoped>\n",
       "    .dataframe tbody tr th:only-of-type {\n",
       "        vertical-align: middle;\n",
       "    }\n",
       "\n",
       "    .dataframe tbody tr th {\n",
       "        vertical-align: top;\n",
       "    }\n",
       "\n",
       "    .dataframe thead th {\n",
       "        text-align: right;\n",
       "    }\n",
       "</style>\n",
       "<table border=\"1\" class=\"dataframe\">\n",
       "  <thead>\n",
       "    <tr style=\"text-align: right;\">\n",
       "      <th></th>\n",
       "      <th>Количество объявлений</th>\n",
       "      <th>Средняя цена кв.м.</th>\n",
       "    </tr>\n",
       "    <tr>\n",
       "      <th>locality_name_new</th>\n",
       "      <th></th>\n",
       "      <th></th>\n",
       "    </tr>\n",
       "  </thead>\n",
       "  <tbody>\n",
       "    <tr>\n",
       "      <th>санкт-петербург</th>\n",
       "      <td>12176</td>\n",
       "      <td>105197.308640</td>\n",
       "    </tr>\n",
       "    <tr>\n",
       "      <th>мурино</th>\n",
       "      <td>492</td>\n",
       "      <td>86380.546748</td>\n",
       "    </tr>\n",
       "    <tr>\n",
       "      <th>поселок шушары</th>\n",
       "      <td>395</td>\n",
       "      <td>78882.331646</td>\n",
       "    </tr>\n",
       "    <tr>\n",
       "      <th>кудрово</th>\n",
       "      <td>374</td>\n",
       "      <td>95699.334225</td>\n",
       "    </tr>\n",
       "    <tr>\n",
       "      <th>всеволожск</th>\n",
       "      <td>352</td>\n",
       "      <td>67206.738636</td>\n",
       "    </tr>\n",
       "    <tr>\n",
       "      <th>колпино</th>\n",
       "      <td>315</td>\n",
       "      <td>75025.657143</td>\n",
       "    </tr>\n",
       "    <tr>\n",
       "      <th>пушкин</th>\n",
       "      <td>296</td>\n",
       "      <td>100196.648649</td>\n",
       "    </tr>\n",
       "    <tr>\n",
       "      <th>поселок парголово</th>\n",
       "      <td>287</td>\n",
       "      <td>90451.111498</td>\n",
       "    </tr>\n",
       "    <tr>\n",
       "      <th>гатчина</th>\n",
       "      <td>287</td>\n",
       "      <td>68481.393728</td>\n",
       "    </tr>\n",
       "    <tr>\n",
       "      <th>выборг</th>\n",
       "      <td>187</td>\n",
       "      <td>58242.925134</td>\n",
       "    </tr>\n",
       "  </tbody>\n",
       "</table>\n",
       "</div>"
      ],
      "text/plain": [
       "                   Количество объявлений  Средняя цена кв.м.\n",
       "locality_name_new                                           \n",
       "санкт-петербург                    12176       105197.308640\n",
       "мурино                               492        86380.546748\n",
       "поселок шушары                       395        78882.331646\n",
       "кудрово                              374        95699.334225\n",
       "всеволожск                           352        67206.738636\n",
       "колпино                              315        75025.657143\n",
       "пушкин                               296       100196.648649\n",
       "поселок парголово                    287        90451.111498\n",
       "гатчина                              287        68481.393728\n",
       "выборг                               187        58242.925134"
      ]
     },
     "execution_count": 94,
     "metadata": {},
     "output_type": "execute_result"
    }
   ],
   "source": [
    "sq_m_compare.sort_values('Количество объявлений', ascending=False).head(10)\n",
    "# выводим первые десять населенных пунктов с наибольшим количеством объявлений"
   ]
  },
  {
   "cell_type": "markdown",
   "metadata": {},
   "source": [
    "Из таблицы выше получаем, что Санкт-Петербург лидирует как по количеству объявлений, так и по стоимости одного квадратного метра. Самый дешевый квадратный метр недвижимости, среди этой десятки - в Выборге."
   ]
  },
  {
   "cell_type": "markdown",
   "metadata": {},
   "source": [
    "#### Стоимость каждого километра до центра Санкт-Петербурга при формировании цены на недвижимость"
   ]
  },
  {
   "cell_type": "markdown",
   "metadata": {},
   "source": [
    "В дополнение к ранее найденному расстоянию до центра в километрах, теперь необходимо выделить квартиры в Санкт-Петербурге с помощью столбца `locality_name` и вычислить среднюю цену каждого километра."
   ]
  },
  {
   "cell_type": "code",
   "execution_count": 99,
   "metadata": {},
   "outputs": [],
   "source": [
    "s_pb = data.query('locality_name_new == \"санкт-петербург\"')"
   ]
  },
  {
   "cell_type": "code",
   "execution_count": 100,
   "metadata": {},
   "outputs": [],
   "source": [
    "s_pb_pivot = s_pb.pivot_table(index='km_to_cityCenter', values='sq_m_price')"
   ]
  },
  {
   "cell_type": "code",
   "execution_count": 101,
   "metadata": {},
   "outputs": [
    {
     "data": {
      "text/html": [
       "<div>\n",
       "<style scoped>\n",
       "    .dataframe tbody tr th:only-of-type {\n",
       "        vertical-align: middle;\n",
       "    }\n",
       "\n",
       "    .dataframe tbody tr th {\n",
       "        vertical-align: top;\n",
       "    }\n",
       "\n",
       "    .dataframe thead th {\n",
       "        text-align: right;\n",
       "    }\n",
       "</style>\n",
       "<table border=\"1\" class=\"dataframe\">\n",
       "  <thead>\n",
       "    <tr style=\"text-align: right;\">\n",
       "      <th></th>\n",
       "      <th>sq_m_price</th>\n",
       "    </tr>\n",
       "    <tr>\n",
       "      <th>km_to_cityCenter</th>\n",
       "      <th></th>\n",
       "    </tr>\n",
       "  </thead>\n",
       "  <tbody>\n",
       "    <tr>\n",
       "      <th>0.0</th>\n",
       "      <td>126848.000000</td>\n",
       "    </tr>\n",
       "    <tr>\n",
       "      <th>1.0</th>\n",
       "      <td>120564.636364</td>\n",
       "    </tr>\n",
       "    <tr>\n",
       "      <th>2.0</th>\n",
       "      <td>114690.541353</td>\n",
       "    </tr>\n",
       "    <tr>\n",
       "      <th>3.0</th>\n",
       "      <td>109992.292308</td>\n",
       "    </tr>\n",
       "    <tr>\n",
       "      <th>4.0</th>\n",
       "      <td>115955.245383</td>\n",
       "    </tr>\n",
       "    <tr>\n",
       "      <th>5.0</th>\n",
       "      <td>121742.565130</td>\n",
       "    </tr>\n",
       "    <tr>\n",
       "      <th>6.0</th>\n",
       "      <td>120860.029326</td>\n",
       "    </tr>\n",
       "    <tr>\n",
       "      <th>7.0</th>\n",
       "      <td>116333.606299</td>\n",
       "    </tr>\n",
       "    <tr>\n",
       "      <th>8.0</th>\n",
       "      <td>115913.911548</td>\n",
       "    </tr>\n",
       "    <tr>\n",
       "      <th>9.0</th>\n",
       "      <td>105753.140998</td>\n",
       "    </tr>\n",
       "  </tbody>\n",
       "</table>\n",
       "</div>"
      ],
      "text/plain": [
       "                     sq_m_price\n",
       "km_to_cityCenter               \n",
       "0.0               126848.000000\n",
       "1.0               120564.636364\n",
       "2.0               114690.541353\n",
       "3.0               109992.292308\n",
       "4.0               115955.245383\n",
       "5.0               121742.565130\n",
       "6.0               120860.029326\n",
       "7.0               116333.606299\n",
       "8.0               115913.911548\n",
       "9.0               105753.140998"
      ]
     },
     "execution_count": 101,
     "metadata": {},
     "output_type": "execute_result"
    }
   ],
   "source": [
    "s_pb_pivot.head(10)"
   ]
  },
  {
   "cell_type": "markdown",
   "metadata": {},
   "source": [
    "<div class=\"alert alert-success\">\n",
    "<b>✔️ Комментарий ревьюера v2:</b> \n",
    "<br>Всё верно, но лучше вывести все данные, а не ограничивать первыми 10 км\n",
    "</div>"
   ]
  },
  {
   "cell_type": "code",
   "execution_count": 102,
   "metadata": {},
   "outputs": [
    {
     "data": {
      "text/html": [
       "<div>\n",
       "<style scoped>\n",
       "    .dataframe tbody tr th:only-of-type {\n",
       "        vertical-align: middle;\n",
       "    }\n",
       "\n",
       "    .dataframe tbody tr th {\n",
       "        vertical-align: top;\n",
       "    }\n",
       "\n",
       "    .dataframe thead th {\n",
       "        text-align: right;\n",
       "    }\n",
       "</style>\n",
       "<table border=\"1\" class=\"dataframe\">\n",
       "  <thead>\n",
       "    <tr style=\"text-align: right;\">\n",
       "      <th></th>\n",
       "      <th>sq_m_price</th>\n",
       "    </tr>\n",
       "  </thead>\n",
       "  <tbody>\n",
       "    <tr>\n",
       "      <th>count</th>\n",
       "      <td>30.000000</td>\n",
       "    </tr>\n",
       "    <tr>\n",
       "      <th>mean</th>\n",
       "      <td>101582.752001</td>\n",
       "    </tr>\n",
       "    <tr>\n",
       "      <th>std</th>\n",
       "      <td>14228.349250</td>\n",
       "    </tr>\n",
       "    <tr>\n",
       "      <th>min</th>\n",
       "      <td>70312.000000</td>\n",
       "    </tr>\n",
       "    <tr>\n",
       "      <th>25%</th>\n",
       "      <td>92639.800021</td>\n",
       "    </tr>\n",
       "    <tr>\n",
       "      <th>50%</th>\n",
       "      <td>102776.190711</td>\n",
       "    </tr>\n",
       "    <tr>\n",
       "      <th>75%</th>\n",
       "      <td>113515.979092</td>\n",
       "    </tr>\n",
       "    <tr>\n",
       "      <th>max</th>\n",
       "      <td>126848.000000</td>\n",
       "    </tr>\n",
       "  </tbody>\n",
       "</table>\n",
       "</div>"
      ],
      "text/plain": [
       "          sq_m_price\n",
       "count      30.000000\n",
       "mean   101582.752001\n",
       "std     14228.349250\n",
       "min     70312.000000\n",
       "25%     92639.800021\n",
       "50%    102776.190711\n",
       "75%    113515.979092\n",
       "max    126848.000000"
      ]
     },
     "execution_count": 102,
     "metadata": {},
     "output_type": "execute_result"
    }
   ],
   "source": [
    "s_pb_pivot.describe()"
   ]
  },
  {
   "cell_type": "markdown",
   "metadata": {},
   "source": [
    "Из сводной таблицы можно увидеть, что с увеличением расстояния от центра города, стоимость недвижимости падает. В центре города цена квадратного метра - 127 тысяч, на окраине же минимльная цена -70 тысяч. Используя метод describe() находим среднее значение квадратного метра - 101,5 тысячи. При этом можно обратить внимание, что медиана и среднее практически равны, что говорит о том, что в целом по всей выборке нет каких-либо резко выбивающихся значений."
   ]
  },
  {
   "cell_type": "markdown",
   "metadata": {},
   "source": [
    "### Общий вывод"
   ]
  },
  {
   "cell_type": "markdown",
   "metadata": {},
   "source": [
    "<div> Цель данного проекта - анализ данных о продаже квартир в Санкт-Петербурге и соседних населенных пунктах. В ходе работы, на начальном этапе был проведен первичный анализ полученного датасета - выведена таблица для оценки хранящихся данных, выведена общая информация (количество столбцов, их названия, количество строк в каждом столбце, тип данных) Также построены гистограммы для всех числовых столбцов датасета. Результаты первичного анализа:\n",
    "<br>- были обнаружены пропуски в столбцах датасета (в некоторых из них, как в `parks_nearest` и `is_apartment` число пропусков составляло более половины от общего числа строк)\n",
    "<br>- в числовых столбцах присутствуют выбросы, искажающие общую картину\n",
    "<br> Далее была выполнена предобработка данных. Для заполнения пропусков было выполнено следующее:\n",
    "<br>- где было возможно выявить зависимость между данными датасета, данные были заполнены в соотвествии с этой зависимостью (столбец `living_area`)\n",
    "<br>- была выдвинута гепотеза, что незаполненные данные говорят об отсутсвии таких параметров. Например, в столбцах о балконах или наличии парка в радиусе 3000м - если пропуск, значит этого нет, можно менять на ноль.\n",
    "<br>- столбцы `cityCenters_nearest`, `airports_nearest`, `parks_nearest`, `ponds_nearest` остались без изменений. Заполнение пропусков могло привести к искажению результатов при анализе.\n",
    "<br>- в столбцах `kitchen_area`, `total_floors` пропуски составляли незначительную долю, столбцы остались без изменений. Пропуски в столбце `days_exposition` означают, что объявление еще не снято, поэтому были оставлены без изменений.\n",
    "<br>Также была проведена работа по устранению неявных дубликатов. В результате, в  столбце с названиями населенных пунктов количество уникальных значений сократилось с 365 до 320. Измененные названия населенных пунктов добавлены в новый столбец `locality_name_new`.\n",
    "<br> Была проведена работа с аномалиями и выбивающимися значениями в столбцах. Опираясь на данные диаграммы размаха были удалены выбросы в столбцах `last_price`, `total_area`, `living_area`, `kitchen_area`.\n",
    "<br> Далее, для последующего анализа, в таблицу были добавлены следующие столбцы:\n",
    "<br>- цена одного квадратного метра недвижимости;\n",
    "<br>- день публикации объявления (0 - понедельник, 1 - вторник и т.д.);\n",
    "<br>- месяц публикации объявления;\n",
    "<br>- год публикации объявления;\n",
    "<br>- тип этажа квартиры (значения — «первый», «последний», «другой»);\n",
    "<br>- посчитано и добавлено в таблицу: расстояние в км до центра города;\n",
    "<br> Далее был выполнен исследовательский анализ данных, по результатам которого можно сделать следующие выводы:\n",
    "<br>1. Среди продаваемых квартир, наиболее часто встречаются одно-двухкомнатные квартиры, с общей площадью в интервале 40 - 50 кв.м., жилой площадью около 20 кв.м. и площадью кухни 8 кв.м., с высотой потолка около 2,75м. В основном цены варьируются в интервале 4-5 млн. Наиболее часто встречающаяся этажность домов - менее десяти, квартиры преимущественно расположены не на первом и последнем этажах. Доля квартир с близлежащими парками (в радиусе 3 км) - не более трети от всех объявлений, в половине случаев удаленность от центра - более 20 км, т.е. объекты расположены на окраине или за пределами Санкт-Петербурга.\n",
    "<br>2. Объявления в большинстве случаев выкладывают в будние дни. Относительно календарного года, меньше всего новых объявлений появляется в январе, мае и декабре, больше всего - февраль-апрель.\n",
    "<br>3. Что касается продолжительности размещения объявления - медианное значение составляет 95 дней, в среднем можно говорить, что объявление висит 3-6 месяцев.\n",
    "<br>4. При поиске зависимости цены от различных факторов, было обнаружено следующее:\n",
    "<br>4.1. Зависимость цены от площади явно проявляется в ценовом сегменте  от 4 млн. до 12 млн. - когда цена растет с увеличением площади квартиры. Также, был обнаружен интересный факт по объектам дороже 12 млн - цена перестает зависеть непосредственно от самого объекта - его площади. Начинают больше влиять какие-то третьи факторы, например, близость к центру, или даже какие-то субъективные факторы (элитный район, дом, подъезд...). Что касается \"дешевых\" квартир, также было замечено, что все что до 4 млн - также больше формируются больше как субъективная оценка хозяина недвижимости и зависимость от площади квартиры низкая.\n",
    "<br>4.2. Количество комнат напрямую влияет на цену - с ростом количества комнат растет и цена квартиры\n",
    "<br>4.3. Квартиры на первом этаже уступают в цене квартирам, расположенным на верхних этажах\n",
    "<br>4.4. Влияние дня недели или месяца, в котором выкладывалось объявление не оказывает существенной роли на цену. При этом было замечено общее падение цен после 2014 года.\n",
    "<br>5. Были найдены первые десять населенных пунктов по количеству объявлений. Лидирует Санкт-Петербург, где доля объявлений составляет около 50% от общего числа. В первых 10 населенных пунктах по количеству объявлений, дороже всего квадратный метр квартиры стоит в Санкт-Петрбурге - 105197, дешевле всего в Выборге - 58243.\n",
    "<br>6. Чем ближе квартира к центру города, тем выше стоимость квадратного метра. Максимальная стоимость квадратного метра, то есть непосредственно в центре города, составляет 127 тысяч, в среднем же цена равна 101,5 тысячи \n",
    "    <div>"
   ]
  },
  {
   "cell_type": "markdown",
   "metadata": {},
   "source": [
    "<div class=\"alert alert-success\">\n",
    "<b>✔️ Итоговый комментарий ревьюера v2:</b>\n",
    "<br>Хорошей практикой является написание в общем выводе всех твоих действий (кратко) по проекту. А после этого нужно написать общий вывод использую информацию из промежуточных выводов после каждого раздела. Твой вывод раскрывает для заказчика всю твою проделанную работу и за что он платит деньги, даже если ему не интересен весь процесс исследования, то в отчёт он заглянет обязательно. \n",
    "    \n",
    "<br>Я рад был поработать над проверкой твоей работы) В качестве дополнительного материала для изучения могу порекомендовать следующий ресурс:\n",
    "\n",
    "\thttps://www.python-graph-gallery.com/\n",
    "<br>В нем содержится большая библиотека графиков с готовым кодом, который можно использовать при работе.\n",
    "<br>Поздравляю со сдачей проекта и желаю удачи в дальнейшем обучении! 😉    \n",
    "</div>"
   ]
  }
 ],
 "metadata": {
  "ExecuteTimeLog": [
   {
    "duration": 854,
    "start_time": "2023-01-09T12:51:53.367Z"
   },
   {
    "duration": 85,
    "start_time": "2023-01-09T12:51:54.223Z"
   },
   {
    "duration": 16,
    "start_time": "2023-01-09T12:51:54.310Z"
   },
   {
    "duration": 2201,
    "start_time": "2023-01-09T12:51:54.328Z"
   },
   {
    "duration": 13,
    "start_time": "2023-01-09T12:51:56.532Z"
   },
   {
    "duration": 40,
    "start_time": "2023-01-09T12:51:56.547Z"
   },
   {
    "duration": 5,
    "start_time": "2023-01-09T12:51:56.589Z"
   },
   {
    "duration": 18,
    "start_time": "2023-01-09T12:51:56.597Z"
   },
   {
    "duration": 9,
    "start_time": "2023-01-09T12:51:56.678Z"
   },
   {
    "duration": 13,
    "start_time": "2023-01-09T12:51:56.689Z"
   },
   {
    "duration": 7,
    "start_time": "2023-01-09T12:51:56.704Z"
   },
   {
    "duration": 106,
    "start_time": "2023-01-09T12:51:56.713Z"
   },
   {
    "duration": 6,
    "start_time": "2023-01-09T12:51:56.878Z"
   },
   {
    "duration": 8,
    "start_time": "2023-01-09T12:51:56.888Z"
   },
   {
    "duration": 6,
    "start_time": "2023-01-09T12:51:56.897Z"
   },
   {
    "duration": 7,
    "start_time": "2023-01-09T12:51:56.905Z"
   },
   {
    "duration": 65,
    "start_time": "2023-01-09T12:51:56.913Z"
   },
   {
    "duration": 12,
    "start_time": "2023-01-09T12:51:56.980Z"
   },
   {
    "duration": 14,
    "start_time": "2023-01-09T12:51:56.994Z"
   },
   {
    "duration": 69,
    "start_time": "2023-01-09T12:51:57.010Z"
   },
   {
    "duration": 5,
    "start_time": "2023-01-09T12:51:57.081Z"
   },
   {
    "duration": 9,
    "start_time": "2023-01-09T12:51:57.088Z"
   },
   {
    "duration": 7,
    "start_time": "2023-01-09T12:51:57.099Z"
   },
   {
    "duration": 8,
    "start_time": "2023-01-09T12:51:57.107Z"
   },
   {
    "duration": 5,
    "start_time": "2023-01-09T12:51:57.178Z"
   },
   {
    "duration": 8,
    "start_time": "2023-01-09T12:51:57.184Z"
   },
   {
    "duration": 6,
    "start_time": "2023-01-09T12:51:57.194Z"
   },
   {
    "duration": 7,
    "start_time": "2023-01-09T12:51:57.201Z"
   },
   {
    "duration": 109,
    "start_time": "2023-01-09T12:51:57.210Z"
   },
   {
    "duration": 69,
    "start_time": "2023-01-09T12:51:57.321Z"
   },
   {
    "duration": 12,
    "start_time": "2023-01-09T12:51:57.392Z"
   },
   {
    "duration": 79,
    "start_time": "2023-01-09T12:51:57.406Z"
   },
   {
    "duration": 12,
    "start_time": "2023-01-09T12:51:57.487Z"
   },
   {
    "duration": 95,
    "start_time": "2023-01-09T12:51:57.502Z"
   },
   {
    "duration": 17,
    "start_time": "2023-01-09T12:51:57.599Z"
   },
   {
    "duration": 7,
    "start_time": "2023-01-09T12:51:57.618Z"
   },
   {
    "duration": 11,
    "start_time": "2023-01-09T12:51:57.626Z"
   },
   {
    "duration": 44,
    "start_time": "2023-01-09T12:51:57.638Z"
   },
   {
    "duration": 19,
    "start_time": "2023-01-09T12:51:57.684Z"
   },
   {
    "duration": 77,
    "start_time": "2023-01-09T12:51:57.705Z"
   },
   {
    "duration": 13,
    "start_time": "2023-01-09T12:51:57.786Z"
   },
   {
    "duration": 11,
    "start_time": "2023-01-09T12:51:57.801Z"
   },
   {
    "duration": 83,
    "start_time": "2023-01-09T12:51:57.814Z"
   },
   {
    "duration": 2460,
    "start_time": "2023-01-09T12:51:57.899Z"
   },
   {
    "duration": 22,
    "start_time": "2023-01-09T12:52:00.362Z"
   },
   {
    "duration": 11,
    "start_time": "2023-01-09T12:52:00.387Z"
   },
   {
    "duration": 24,
    "start_time": "2023-01-09T12:52:00.401Z"
   },
   {
    "duration": 22,
    "start_time": "2023-01-09T12:52:00.428Z"
   },
   {
    "duration": 19,
    "start_time": "2023-01-09T12:52:00.452Z"
   },
   {
    "duration": 26,
    "start_time": "2023-01-09T12:52:00.473Z"
   },
   {
    "duration": 116,
    "start_time": "2023-01-09T12:52:00.501Z"
   },
   {
    "duration": 123,
    "start_time": "2023-01-09T12:52:00.619Z"
   },
   {
    "duration": 4,
    "start_time": "2023-01-09T12:52:00.744Z"
   },
   {
    "duration": 43,
    "start_time": "2023-01-09T12:52:00.749Z"
   },
   {
    "duration": 618,
    "start_time": "2023-01-09T12:52:00.794Z"
   },
   {
    "duration": 6,
    "start_time": "2023-01-09T12:52:01.414Z"
   },
   {
    "duration": 41,
    "start_time": "2023-01-09T12:52:01.422Z"
   },
   {
    "duration": 37,
    "start_time": "2023-01-09T12:52:01.465Z"
   },
   {
    "duration": 41,
    "start_time": "2023-01-09T12:52:01.504Z"
   },
   {
    "duration": 32,
    "start_time": "2023-01-09T12:52:01.547Z"
   },
   {
    "duration": 411,
    "start_time": "2023-01-09T12:52:01.582Z"
   },
   {
    "duration": 5,
    "start_time": "2023-01-09T12:52:01.995Z"
   },
   {
    "duration": 55,
    "start_time": "2023-01-09T12:52:02.001Z"
   },
   {
    "duration": 370,
    "start_time": "2023-01-09T12:52:02.058Z"
   },
   {
    "duration": 336,
    "start_time": "2023-01-09T12:52:02.431Z"
   },
   {
    "duration": 169,
    "start_time": "2023-01-09T12:52:02.769Z"
   },
   {
    "duration": 355,
    "start_time": "2023-01-09T12:52:02.940Z"
   },
   {
    "duration": 313,
    "start_time": "2023-01-09T12:52:03.297Z"
   },
   {
    "duration": 478,
    "start_time": "2023-01-09T12:52:03.612Z"
   },
   {
    "duration": 256,
    "start_time": "2023-01-09T12:52:04.092Z"
   },
   {
    "duration": 165,
    "start_time": "2023-01-09T12:52:04.350Z"
   },
   {
    "duration": 10,
    "start_time": "2023-01-09T12:52:04.517Z"
   },
   {
    "duration": 35,
    "start_time": "2023-01-09T12:52:04.529Z"
   },
   {
    "duration": 12,
    "start_time": "2023-01-09T12:52:04.567Z"
   },
   {
    "duration": 42,
    "start_time": "2023-01-09T12:52:04.581Z"
   },
   {
    "duration": 50,
    "start_time": "2023-01-09T12:52:04.625Z"
   },
   {
    "duration": 30,
    "start_time": "2023-01-09T12:52:04.677Z"
   },
   {
    "duration": 272,
    "start_time": "2023-01-09T12:52:04.709Z"
   },
   {
    "duration": 151,
    "start_time": "2023-01-09T12:52:04.984Z"
   },
   {
    "duration": 130,
    "start_time": "2023-01-09T12:52:05.137Z"
   },
   {
    "duration": 156,
    "start_time": "2023-01-09T12:52:05.268Z"
   },
   {
    "duration": 201,
    "start_time": "2023-01-09T12:52:05.425Z"
   },
   {
    "duration": 241,
    "start_time": "2023-01-09T12:52:05.628Z"
   },
   {
    "duration": 25,
    "start_time": "2023-01-09T12:52:05.871Z"
   },
   {
    "duration": 7,
    "start_time": "2023-01-09T12:52:05.898Z"
   },
   {
    "duration": 38,
    "start_time": "2023-01-09T12:52:05.907Z"
   },
   {
    "duration": 11,
    "start_time": "2023-01-09T12:52:05.947Z"
   },
   {
    "duration": 41,
    "start_time": "2023-01-09T12:52:05.960Z"
   },
   {
    "duration": 35,
    "start_time": "2023-01-09T12:52:06.003Z"
   },
   {
    "duration": 36,
    "start_time": "2023-01-09T12:52:06.041Z"
   },
   {
    "duration": 19,
    "start_time": "2023-01-09T12:59:51.020Z"
   },
   {
    "duration": 86,
    "start_time": "2023-01-09T12:59:54.159Z"
   },
   {
    "duration": 8,
    "start_time": "2023-01-09T13:00:10.359Z"
   },
   {
    "duration": 46,
    "start_time": "2023-01-10T05:59:44.107Z"
   },
   {
    "duration": 735,
    "start_time": "2023-01-10T05:59:48.749Z"
   },
   {
    "duration": 322,
    "start_time": "2023-01-10T05:59:49.488Z"
   },
   {
    "duration": 3,
    "start_time": "2023-01-10T06:03:31.855Z"
   },
   {
    "duration": 219,
    "start_time": "2023-01-10T06:03:31.860Z"
   },
   {
    "duration": 3,
    "start_time": "2023-01-10T06:03:32.080Z"
   },
   {
    "duration": 650,
    "start_time": "2023-01-10T06:03:56.388Z"
   },
   {
    "duration": 157,
    "start_time": "2023-01-10T06:03:57.040Z"
   },
   {
    "duration": 3,
    "start_time": "2023-01-10T06:03:57.199Z"
   },
   {
    "duration": 103,
    "start_time": "2023-01-10T06:03:57.204Z"
   },
   {
    "duration": 20,
    "start_time": "2023-01-10T06:03:57.308Z"
   },
   {
    "duration": 2028,
    "start_time": "2023-01-10T06:03:57.336Z"
   },
   {
    "duration": 9,
    "start_time": "2023-01-10T06:03:59.365Z"
   },
   {
    "duration": 14,
    "start_time": "2023-01-10T06:03:59.376Z"
   },
   {
    "duration": 12,
    "start_time": "2023-01-10T06:03:59.392Z"
   },
   {
    "duration": 47,
    "start_time": "2023-01-10T06:03:59.406Z"
   },
   {
    "duration": 13,
    "start_time": "2023-01-10T06:03:59.455Z"
   },
   {
    "duration": 23,
    "start_time": "2023-01-10T06:03:59.470Z"
   },
   {
    "duration": 13,
    "start_time": "2023-01-10T06:03:59.495Z"
   },
   {
    "duration": 79,
    "start_time": "2023-01-10T06:03:59.509Z"
   },
   {
    "duration": 4,
    "start_time": "2023-01-10T06:03:59.590Z"
   },
   {
    "duration": 12,
    "start_time": "2023-01-10T06:03:59.595Z"
   },
   {
    "duration": 43,
    "start_time": "2023-01-10T06:03:59.608Z"
   },
   {
    "duration": 22,
    "start_time": "2023-01-10T06:03:59.652Z"
   },
   {
    "duration": 14,
    "start_time": "2023-01-10T06:03:59.676Z"
   },
   {
    "duration": 20,
    "start_time": "2023-01-10T06:03:59.691Z"
   },
   {
    "duration": 40,
    "start_time": "2023-01-10T06:03:59.713Z"
   },
   {
    "duration": 18,
    "start_time": "2023-01-10T06:03:59.755Z"
   },
   {
    "duration": 5,
    "start_time": "2023-01-10T06:03:59.774Z"
   },
   {
    "duration": 11,
    "start_time": "2023-01-10T06:03:59.781Z"
   },
   {
    "duration": 13,
    "start_time": "2023-01-10T06:03:59.793Z"
   },
   {
    "duration": 15,
    "start_time": "2023-01-10T06:03:59.808Z"
   },
   {
    "duration": 39,
    "start_time": "2023-01-10T06:03:59.824Z"
   },
   {
    "duration": 19,
    "start_time": "2023-01-10T06:03:59.867Z"
   },
   {
    "duration": 19,
    "start_time": "2023-01-10T06:03:59.887Z"
   },
   {
    "duration": 37,
    "start_time": "2023-01-10T06:03:59.907Z"
   },
   {
    "duration": 28,
    "start_time": "2023-01-10T06:03:59.950Z"
   },
   {
    "duration": 33,
    "start_time": "2023-01-10T06:03:59.980Z"
   },
   {
    "duration": 54,
    "start_time": "2023-01-10T06:04:00.015Z"
   },
   {
    "duration": 35,
    "start_time": "2023-01-10T06:04:00.071Z"
   },
   {
    "duration": 31,
    "start_time": "2023-01-10T06:04:00.107Z"
   },
   {
    "duration": 54,
    "start_time": "2023-01-10T06:04:00.147Z"
   },
   {
    "duration": 17,
    "start_time": "2023-01-10T06:04:00.203Z"
   },
   {
    "duration": 24,
    "start_time": "2023-01-10T06:04:00.228Z"
   },
   {
    "duration": 24,
    "start_time": "2023-01-10T06:04:00.254Z"
   },
   {
    "duration": 47,
    "start_time": "2023-01-10T06:04:00.279Z"
   },
   {
    "duration": 51,
    "start_time": "2023-01-10T06:04:00.327Z"
   },
   {
    "duration": 78,
    "start_time": "2023-01-10T06:04:00.380Z"
   },
   {
    "duration": 11,
    "start_time": "2023-01-10T06:04:00.459Z"
   },
   {
    "duration": 35,
    "start_time": "2023-01-10T06:04:00.472Z"
   },
   {
    "duration": 133,
    "start_time": "2023-01-10T06:04:00.509Z"
   },
   {
    "duration": 2442,
    "start_time": "2023-01-10T06:04:00.644Z"
   },
   {
    "duration": 10,
    "start_time": "2023-01-10T06:04:03.088Z"
   },
   {
    "duration": 36,
    "start_time": "2023-01-10T06:04:03.100Z"
   },
   {
    "duration": 26,
    "start_time": "2023-01-10T06:04:03.141Z"
   },
   {
    "duration": 11,
    "start_time": "2023-01-10T06:04:03.168Z"
   },
   {
    "duration": 7,
    "start_time": "2023-01-10T06:04:03.181Z"
   },
   {
    "duration": 7,
    "start_time": "2023-01-10T06:04:03.190Z"
   },
   {
    "duration": 96,
    "start_time": "2023-01-10T06:04:03.198Z"
   },
   {
    "duration": 116,
    "start_time": "2023-01-10T06:04:03.295Z"
   },
   {
    "duration": 3,
    "start_time": "2023-01-10T06:04:03.413Z"
   },
   {
    "duration": 55,
    "start_time": "2023-01-10T06:04:03.424Z"
   },
   {
    "duration": 598,
    "start_time": "2023-01-10T06:04:03.481Z"
   },
   {
    "duration": 5,
    "start_time": "2023-01-10T06:04:04.080Z"
   },
   {
    "duration": 13,
    "start_time": "2023-01-10T06:04:04.086Z"
   },
   {
    "duration": 5,
    "start_time": "2023-01-10T06:04:04.101Z"
   },
   {
    "duration": 19,
    "start_time": "2023-01-10T06:04:04.108Z"
   },
   {
    "duration": 23,
    "start_time": "2023-01-10T06:04:04.135Z"
   },
   {
    "duration": 340,
    "start_time": "2023-01-10T06:04:04.160Z"
   },
   {
    "duration": 4,
    "start_time": "2023-01-10T06:04:04.502Z"
   },
   {
    "duration": 46,
    "start_time": "2023-01-10T06:04:04.508Z"
   },
   {
    "duration": 364,
    "start_time": "2023-01-10T06:04:04.556Z"
   },
   {
    "duration": 330,
    "start_time": "2023-01-10T06:04:04.928Z"
   },
   {
    "duration": 192,
    "start_time": "2023-01-10T06:04:05.260Z"
   },
   {
    "duration": 341,
    "start_time": "2023-01-10T06:04:05.461Z"
   },
   {
    "duration": 301,
    "start_time": "2023-01-10T06:04:05.804Z"
   },
   {
    "duration": 454,
    "start_time": "2023-01-10T06:04:06.107Z"
   },
   {
    "duration": 290,
    "start_time": "2023-01-10T06:04:06.563Z"
   },
   {
    "duration": 157,
    "start_time": "2023-01-10T06:04:06.854Z"
   },
   {
    "duration": 14,
    "start_time": "2023-01-10T06:04:07.013Z"
   },
   {
    "duration": 40,
    "start_time": "2023-01-10T06:04:07.028Z"
   },
   {
    "duration": 4,
    "start_time": "2023-01-10T06:04:07.070Z"
   },
   {
    "duration": 15,
    "start_time": "2023-01-10T06:04:07.075Z"
   },
   {
    "duration": 11,
    "start_time": "2023-01-10T06:04:07.091Z"
   },
   {
    "duration": 7,
    "start_time": "2023-01-10T06:04:07.104Z"
   },
   {
    "duration": 196,
    "start_time": "2023-01-10T06:04:07.113Z"
   },
   {
    "duration": 144,
    "start_time": "2023-01-10T06:04:07.312Z"
   },
   {
    "duration": 130,
    "start_time": "2023-01-10T06:04:07.461Z"
   },
   {
    "duration": 162,
    "start_time": "2023-01-10T06:04:07.592Z"
   },
   {
    "duration": 172,
    "start_time": "2023-01-10T06:04:07.759Z"
   },
   {
    "duration": 210,
    "start_time": "2023-01-10T06:04:07.934Z"
   },
   {
    "duration": 22,
    "start_time": "2023-01-10T06:04:08.145Z"
   },
   {
    "duration": 3,
    "start_time": "2023-01-10T06:04:08.168Z"
   },
   {
    "duration": 13,
    "start_time": "2023-01-10T06:04:08.173Z"
   },
   {
    "duration": 6,
    "start_time": "2023-01-10T06:04:08.188Z"
   },
   {
    "duration": 14,
    "start_time": "2023-01-10T06:04:08.195Z"
   },
   {
    "duration": 15,
    "start_time": "2023-01-10T06:04:08.225Z"
   },
   {
    "duration": 17,
    "start_time": "2023-01-10T06:04:08.248Z"
   },
   {
    "duration": 7,
    "start_time": "2023-01-10T06:22:44.419Z"
   },
   {
    "duration": 16,
    "start_time": "2023-01-10T06:23:22.301Z"
   },
   {
    "duration": 10,
    "start_time": "2023-01-10T06:27:03.855Z"
   },
   {
    "duration": 15,
    "start_time": "2023-01-10T06:27:07.209Z"
   },
   {
    "duration": 10,
    "start_time": "2023-01-10T06:27:47.739Z"
   },
   {
    "duration": 15,
    "start_time": "2023-01-10T06:27:48.681Z"
   },
   {
    "duration": 8,
    "start_time": "2023-01-10T06:37:02.615Z"
   },
   {
    "duration": 6,
    "start_time": "2023-01-10T06:39:12.439Z"
   },
   {
    "duration": 878,
    "start_time": "2023-01-10T06:40:10.408Z"
   },
   {
    "duration": 20,
    "start_time": "2023-01-10T06:44:01.815Z"
   },
   {
    "duration": 5,
    "start_time": "2023-01-10T06:50:45.762Z"
   },
   {
    "duration": 5,
    "start_time": "2023-01-10T06:51:08.486Z"
   },
   {
    "duration": 4,
    "start_time": "2023-01-10T06:51:36.524Z"
   },
   {
    "duration": 5,
    "start_time": "2023-01-10T06:58:57.640Z"
   },
   {
    "duration": 8,
    "start_time": "2023-01-10T07:19:16.285Z"
   },
   {
    "duration": 10,
    "start_time": "2023-01-10T07:19:27.503Z"
   },
   {
    "duration": 635,
    "start_time": "2023-01-10T07:19:55.733Z"
   },
   {
    "duration": 274,
    "start_time": "2023-01-10T07:19:56.370Z"
   },
   {
    "duration": 3,
    "start_time": "2023-01-10T07:19:56.645Z"
   },
   {
    "duration": 60,
    "start_time": "2023-01-10T07:19:56.649Z"
   },
   {
    "duration": 26,
    "start_time": "2023-01-10T07:19:56.711Z"
   },
   {
    "duration": 1958,
    "start_time": "2023-01-10T07:19:56.738Z"
   },
   {
    "duration": 12,
    "start_time": "2023-01-10T07:19:58.698Z"
   },
   {
    "duration": 22,
    "start_time": "2023-01-10T07:19:58.712Z"
   },
   {
    "duration": 8,
    "start_time": "2023-01-10T07:19:58.736Z"
   },
   {
    "duration": 12,
    "start_time": "2023-01-10T07:19:58.746Z"
   },
   {
    "duration": 9,
    "start_time": "2023-01-10T07:19:58.760Z"
   },
   {
    "duration": 7,
    "start_time": "2023-01-10T07:19:58.771Z"
   },
   {
    "duration": 12,
    "start_time": "2023-01-10T07:19:58.780Z"
   },
   {
    "duration": 44,
    "start_time": "2023-01-10T07:19:58.795Z"
   },
   {
    "duration": 4,
    "start_time": "2023-01-10T07:19:58.840Z"
   },
   {
    "duration": 7,
    "start_time": "2023-01-10T07:19:58.845Z"
   },
   {
    "duration": 6,
    "start_time": "2023-01-10T07:19:58.854Z"
   },
   {
    "duration": 8,
    "start_time": "2023-01-10T07:19:58.861Z"
   },
   {
    "duration": 8,
    "start_time": "2023-01-10T07:19:58.870Z"
   },
   {
    "duration": 7,
    "start_time": "2023-01-10T07:19:58.879Z"
   },
   {
    "duration": 5,
    "start_time": "2023-01-10T07:19:58.888Z"
   },
   {
    "duration": 40,
    "start_time": "2023-01-10T07:19:58.894Z"
   },
   {
    "duration": 4,
    "start_time": "2023-01-10T07:19:58.936Z"
   },
   {
    "duration": 7,
    "start_time": "2023-01-10T07:19:58.941Z"
   },
   {
    "duration": 7,
    "start_time": "2023-01-10T07:19:58.949Z"
   },
   {
    "duration": 5,
    "start_time": "2023-01-10T07:19:58.957Z"
   },
   {
    "duration": 4,
    "start_time": "2023-01-10T07:19:58.963Z"
   },
   {
    "duration": 4,
    "start_time": "2023-01-10T07:19:58.969Z"
   },
   {
    "duration": 4,
    "start_time": "2023-01-10T07:19:58.975Z"
   },
   {
    "duration": 10,
    "start_time": "2023-01-10T07:19:58.980Z"
   },
   {
    "duration": 52,
    "start_time": "2023-01-10T07:19:58.991Z"
   },
   {
    "duration": 9,
    "start_time": "2023-01-10T07:19:59.044Z"
   },
   {
    "duration": 8,
    "start_time": "2023-01-10T07:19:59.054Z"
   },
   {
    "duration": 13,
    "start_time": "2023-01-10T07:19:59.063Z"
   },
   {
    "duration": 7,
    "start_time": "2023-01-10T07:19:59.078Z"
   },
   {
    "duration": 45,
    "start_time": "2023-01-10T07:19:59.086Z"
   },
   {
    "duration": 24,
    "start_time": "2023-01-10T07:19:59.134Z"
   },
   {
    "duration": 10,
    "start_time": "2023-01-10T07:19:59.159Z"
   },
   {
    "duration": 11,
    "start_time": "2023-01-10T07:19:59.171Z"
   },
   {
    "duration": 5,
    "start_time": "2023-01-10T07:19:59.184Z"
   },
   {
    "duration": 7,
    "start_time": "2023-01-10T07:19:59.194Z"
   },
   {
    "duration": 24,
    "start_time": "2023-01-10T07:19:59.221Z"
   },
   {
    "duration": 10,
    "start_time": "2023-01-10T07:19:59.247Z"
   },
   {
    "duration": 49,
    "start_time": "2023-01-10T07:19:59.259Z"
   },
   {
    "duration": 23,
    "start_time": "2023-01-10T07:19:59.310Z"
   },
   {
    "duration": 14,
    "start_time": "2023-01-10T07:19:59.334Z"
   },
   {
    "duration": 29,
    "start_time": "2023-01-10T07:19:59.349Z"
   },
   {
    "duration": 2335,
    "start_time": "2023-01-10T07:19:59.380Z"
   },
   {
    "duration": 12,
    "start_time": "2023-01-10T07:20:01.716Z"
   },
   {
    "duration": 40,
    "start_time": "2023-01-10T07:20:01.732Z"
   },
   {
    "duration": 30,
    "start_time": "2023-01-10T07:20:01.774Z"
   },
   {
    "duration": 14,
    "start_time": "2023-01-10T07:20:01.806Z"
   },
   {
    "duration": 45,
    "start_time": "2023-01-10T07:20:01.823Z"
   },
   {
    "duration": 22,
    "start_time": "2023-01-10T07:20:01.870Z"
   },
   {
    "duration": 115,
    "start_time": "2023-01-10T07:20:01.894Z"
   },
   {
    "duration": 116,
    "start_time": "2023-01-10T07:20:02.011Z"
   },
   {
    "duration": 4,
    "start_time": "2023-01-10T07:20:02.131Z"
   },
   {
    "duration": 42,
    "start_time": "2023-01-10T07:20:02.136Z"
   },
   {
    "duration": 594,
    "start_time": "2023-01-10T07:20:02.180Z"
   },
   {
    "duration": 5,
    "start_time": "2023-01-10T07:20:02.776Z"
   },
   {
    "duration": 15,
    "start_time": "2023-01-10T07:20:02.783Z"
   },
   {
    "duration": 7,
    "start_time": "2023-01-10T07:20:02.800Z"
   },
   {
    "duration": 16,
    "start_time": "2023-01-10T07:20:02.809Z"
   },
   {
    "duration": 35,
    "start_time": "2023-01-10T07:20:02.827Z"
   },
   {
    "duration": 378,
    "start_time": "2023-01-10T07:20:02.865Z"
   },
   {
    "duration": 6,
    "start_time": "2023-01-10T07:20:03.245Z"
   },
   {
    "duration": 35,
    "start_time": "2023-01-10T07:20:03.253Z"
   },
   {
    "duration": 372,
    "start_time": "2023-01-10T07:20:03.289Z"
   },
   {
    "duration": 334,
    "start_time": "2023-01-10T07:20:03.662Z"
   },
   {
    "duration": 164,
    "start_time": "2023-01-10T07:20:03.997Z"
   },
   {
    "duration": 337,
    "start_time": "2023-01-10T07:20:04.163Z"
   },
   {
    "duration": 323,
    "start_time": "2023-01-10T07:20:04.501Z"
   },
   {
    "duration": 473,
    "start_time": "2023-01-10T07:20:04.826Z"
   },
   {
    "duration": 351,
    "start_time": "2023-01-10T07:20:05.301Z"
   },
   {
    "duration": 158,
    "start_time": "2023-01-10T07:20:05.654Z"
   },
   {
    "duration": 16,
    "start_time": "2023-01-10T07:20:05.813Z"
   },
   {
    "duration": 39,
    "start_time": "2023-01-10T07:20:05.832Z"
   },
   {
    "duration": 3,
    "start_time": "2023-01-10T07:20:05.873Z"
   },
   {
    "duration": 15,
    "start_time": "2023-01-10T07:20:05.878Z"
   },
   {
    "duration": 12,
    "start_time": "2023-01-10T07:20:05.894Z"
   },
   {
    "duration": 14,
    "start_time": "2023-01-10T07:20:05.908Z"
   },
   {
    "duration": 225,
    "start_time": "2023-01-10T07:20:05.933Z"
   },
   {
    "duration": 6,
    "start_time": "2023-01-10T07:20:06.159Z"
   },
   {
    "duration": 8,
    "start_time": "2023-01-10T07:20:06.166Z"
   },
   {
    "duration": 6,
    "start_time": "2023-01-10T07:20:06.175Z"
   },
   {
    "duration": 140,
    "start_time": "2023-01-10T07:20:06.183Z"
   },
   {
    "duration": 7,
    "start_time": "2023-01-10T07:20:06.324Z"
   },
   {
    "duration": 140,
    "start_time": "2023-01-10T07:20:06.333Z"
   },
   {
    "duration": 148,
    "start_time": "2023-01-10T07:20:06.475Z"
   },
   {
    "duration": 181,
    "start_time": "2023-01-10T07:20:06.627Z"
   },
   {
    "duration": 233,
    "start_time": "2023-01-10T07:20:06.809Z"
   },
   {
    "duration": 22,
    "start_time": "2023-01-10T07:20:07.045Z"
   },
   {
    "duration": 3,
    "start_time": "2023-01-10T07:20:07.068Z"
   },
   {
    "duration": 11,
    "start_time": "2023-01-10T07:20:07.073Z"
   },
   {
    "duration": 9,
    "start_time": "2023-01-10T07:20:07.085Z"
   },
   {
    "duration": 12,
    "start_time": "2023-01-10T07:20:07.096Z"
   },
   {
    "duration": 24,
    "start_time": "2023-01-10T07:20:07.110Z"
   },
   {
    "duration": 33,
    "start_time": "2023-01-10T07:20:07.139Z"
   },
   {
    "duration": 14,
    "start_time": "2023-01-10T07:20:07.173Z"
   },
   {
    "duration": 12,
    "start_time": "2023-01-10T07:20:07.189Z"
   },
   {
    "duration": 7,
    "start_time": "2023-01-10T07:23:40.168Z"
   },
   {
    "duration": 11,
    "start_time": "2023-01-10T07:24:05.790Z"
   },
   {
    "duration": 861,
    "start_time": "2023-01-10T09:00:52.830Z"
   },
   {
    "duration": 132,
    "start_time": "2023-01-10T09:01:11.971Z"
   },
   {
    "duration": 160,
    "start_time": "2023-01-10T09:01:27.721Z"
   },
   {
    "duration": 128,
    "start_time": "2023-01-10T09:01:33.745Z"
   },
   {
    "duration": 136,
    "start_time": "2023-01-10T09:01:38.267Z"
   },
   {
    "duration": 8,
    "start_time": "2023-01-10T09:23:06.928Z"
   },
   {
    "duration": 8,
    "start_time": "2023-01-10T09:23:08.456Z"
   },
   {
    "duration": 8,
    "start_time": "2023-01-10T09:23:09.596Z"
   },
   {
    "duration": 11,
    "start_time": "2023-01-10T09:23:18.722Z"
   },
   {
    "duration": 9,
    "start_time": "2023-01-10T09:23:37.808Z"
   },
   {
    "duration": 7,
    "start_time": "2023-01-10T09:23:47.733Z"
   },
   {
    "duration": 11,
    "start_time": "2023-01-10T09:23:52.647Z"
   },
   {
    "duration": 8,
    "start_time": "2023-01-10T09:24:04.131Z"
   },
   {
    "duration": 7,
    "start_time": "2023-01-10T09:34:04.060Z"
   },
   {
    "duration": 9,
    "start_time": "2023-01-10T09:34:04.947Z"
   },
   {
    "duration": 9,
    "start_time": "2023-01-10T09:34:05.758Z"
   },
   {
    "duration": 11,
    "start_time": "2023-01-10T09:34:16.609Z"
   },
   {
    "duration": 8,
    "start_time": "2023-01-10T09:37:04.390Z"
   },
   {
    "duration": 637,
    "start_time": "2023-01-10T10:52:59.973Z"
   },
   {
    "duration": 176,
    "start_time": "2023-01-10T10:53:00.611Z"
   },
   {
    "duration": 3,
    "start_time": "2023-01-10T10:53:00.789Z"
   },
   {
    "duration": 107,
    "start_time": "2023-01-10T10:53:00.793Z"
   },
   {
    "duration": 13,
    "start_time": "2023-01-10T10:53:00.902Z"
   },
   {
    "duration": 1939,
    "start_time": "2023-01-10T10:53:00.917Z"
   },
   {
    "duration": 11,
    "start_time": "2023-01-10T10:53:02.858Z"
   },
   {
    "duration": 12,
    "start_time": "2023-01-10T10:53:02.871Z"
   },
   {
    "duration": 5,
    "start_time": "2023-01-10T10:53:02.885Z"
   },
   {
    "duration": 8,
    "start_time": "2023-01-10T10:53:02.893Z"
   },
   {
    "duration": 7,
    "start_time": "2023-01-10T10:53:02.902Z"
   },
   {
    "duration": 8,
    "start_time": "2023-01-10T10:53:02.910Z"
   },
   {
    "duration": 6,
    "start_time": "2023-01-10T10:53:02.921Z"
   },
   {
    "duration": 33,
    "start_time": "2023-01-10T10:53:02.929Z"
   },
   {
    "duration": 3,
    "start_time": "2023-01-10T10:53:02.964Z"
   },
   {
    "duration": 13,
    "start_time": "2023-01-10T10:53:02.968Z"
   },
   {
    "duration": 12,
    "start_time": "2023-01-10T10:53:02.982Z"
   },
   {
    "duration": 6,
    "start_time": "2023-01-10T10:53:02.995Z"
   },
   {
    "duration": 10,
    "start_time": "2023-01-10T10:53:03.003Z"
   },
   {
    "duration": 14,
    "start_time": "2023-01-10T10:53:03.015Z"
   },
   {
    "duration": 12,
    "start_time": "2023-01-10T10:53:03.030Z"
   },
   {
    "duration": 17,
    "start_time": "2023-01-10T10:53:03.043Z"
   },
   {
    "duration": 6,
    "start_time": "2023-01-10T10:53:03.062Z"
   },
   {
    "duration": 19,
    "start_time": "2023-01-10T10:53:03.070Z"
   },
   {
    "duration": 6,
    "start_time": "2023-01-10T10:53:03.091Z"
   },
   {
    "duration": 6,
    "start_time": "2023-01-10T10:53:03.099Z"
   },
   {
    "duration": 8,
    "start_time": "2023-01-10T10:53:03.107Z"
   },
   {
    "duration": 5,
    "start_time": "2023-01-10T10:53:03.119Z"
   },
   {
    "duration": 6,
    "start_time": "2023-01-10T10:53:03.125Z"
   },
   {
    "duration": 11,
    "start_time": "2023-01-10T10:53:03.132Z"
   },
   {
    "duration": 31,
    "start_time": "2023-01-10T10:53:03.145Z"
   },
   {
    "duration": 19,
    "start_time": "2023-01-10T10:53:03.177Z"
   },
   {
    "duration": 10,
    "start_time": "2023-01-10T10:53:03.198Z"
   },
   {
    "duration": 13,
    "start_time": "2023-01-10T10:53:03.210Z"
   },
   {
    "duration": 7,
    "start_time": "2023-01-10T10:53:03.225Z"
   },
   {
    "duration": 23,
    "start_time": "2023-01-10T10:53:03.234Z"
   },
   {
    "duration": 14,
    "start_time": "2023-01-10T10:53:03.259Z"
   },
   {
    "duration": 11,
    "start_time": "2023-01-10T10:53:03.274Z"
   },
   {
    "duration": 37,
    "start_time": "2023-01-10T10:53:03.287Z"
   },
   {
    "duration": 7,
    "start_time": "2023-01-10T10:53:03.325Z"
   },
   {
    "duration": 10,
    "start_time": "2023-01-10T10:53:03.334Z"
   },
   {
    "duration": 19,
    "start_time": "2023-01-10T10:53:03.345Z"
   },
   {
    "duration": 14,
    "start_time": "2023-01-10T10:53:03.365Z"
   },
   {
    "duration": 59,
    "start_time": "2023-01-10T10:53:03.381Z"
   },
   {
    "duration": 9,
    "start_time": "2023-01-10T10:53:03.442Z"
   },
   {
    "duration": 8,
    "start_time": "2023-01-10T10:53:03.453Z"
   },
   {
    "duration": 30,
    "start_time": "2023-01-10T10:53:03.462Z"
   },
   {
    "duration": 2086,
    "start_time": "2023-01-10T10:53:03.494Z"
   },
   {
    "duration": 7,
    "start_time": "2023-01-10T10:53:05.581Z"
   },
   {
    "duration": 16,
    "start_time": "2023-01-10T10:53:05.589Z"
   },
   {
    "duration": 7,
    "start_time": "2023-01-10T10:53:05.607Z"
   },
   {
    "duration": 23,
    "start_time": "2023-01-10T10:53:05.615Z"
   },
   {
    "duration": 7,
    "start_time": "2023-01-10T10:53:05.640Z"
   },
   {
    "duration": 9,
    "start_time": "2023-01-10T10:53:05.648Z"
   },
   {
    "duration": 88,
    "start_time": "2023-01-10T10:53:05.659Z"
   },
   {
    "duration": 90,
    "start_time": "2023-01-10T10:53:05.749Z"
   },
   {
    "duration": 3,
    "start_time": "2023-01-10T10:53:05.840Z"
   },
   {
    "duration": 27,
    "start_time": "2023-01-10T10:53:05.845Z"
   },
   {
    "duration": 575,
    "start_time": "2023-01-10T10:53:05.873Z"
   },
   {
    "duration": 5,
    "start_time": "2023-01-10T10:53:06.450Z"
   },
   {
    "duration": 11,
    "start_time": "2023-01-10T10:53:06.457Z"
   },
   {
    "duration": 6,
    "start_time": "2023-01-10T10:53:06.469Z"
   },
   {
    "duration": 7,
    "start_time": "2023-01-10T10:53:06.476Z"
   },
   {
    "duration": 8,
    "start_time": "2023-01-10T10:53:06.484Z"
   },
   {
    "duration": 321,
    "start_time": "2023-01-10T10:53:06.493Z"
   },
   {
    "duration": 5,
    "start_time": "2023-01-10T10:53:06.816Z"
   },
   {
    "duration": 33,
    "start_time": "2023-01-10T10:53:06.822Z"
   },
   {
    "duration": 308,
    "start_time": "2023-01-10T10:53:06.856Z"
   },
   {
    "duration": 280,
    "start_time": "2023-01-10T10:53:07.166Z"
   },
   {
    "duration": 139,
    "start_time": "2023-01-10T10:53:07.447Z"
   },
   {
    "duration": 310,
    "start_time": "2023-01-10T10:53:07.588Z"
   },
   {
    "duration": 277,
    "start_time": "2023-01-10T10:53:07.900Z"
   },
   {
    "duration": 405,
    "start_time": "2023-01-10T10:53:08.179Z"
   },
   {
    "duration": 236,
    "start_time": "2023-01-10T10:53:08.586Z"
   },
   {
    "duration": 150,
    "start_time": "2023-01-10T10:53:08.824Z"
   },
   {
    "duration": 8,
    "start_time": "2023-01-10T10:53:08.976Z"
   },
   {
    "duration": 22,
    "start_time": "2023-01-10T10:53:08.986Z"
   },
   {
    "duration": 12,
    "start_time": "2023-01-10T10:53:09.010Z"
   },
   {
    "duration": 41,
    "start_time": "2023-01-10T10:53:09.023Z"
   },
   {
    "duration": 13,
    "start_time": "2023-01-10T10:53:09.065Z"
   },
   {
    "duration": 7,
    "start_time": "2023-01-10T10:53:09.080Z"
   },
   {
    "duration": 182,
    "start_time": "2023-01-10T10:53:09.093Z"
   },
   {
    "duration": 5,
    "start_time": "2023-01-10T10:53:09.276Z"
   },
   {
    "duration": 12,
    "start_time": "2023-01-10T10:53:09.282Z"
   },
   {
    "duration": 8,
    "start_time": "2023-01-10T10:53:09.296Z"
   },
   {
    "duration": 125,
    "start_time": "2023-01-10T10:53:09.306Z"
   },
   {
    "duration": 5,
    "start_time": "2023-01-10T10:53:09.432Z"
   },
   {
    "duration": 129,
    "start_time": "2023-01-10T10:53:09.438Z"
   },
   {
    "duration": 128,
    "start_time": "2023-01-10T10:53:09.568Z"
   },
   {
    "duration": 150,
    "start_time": "2023-01-10T10:53:09.698Z"
   },
   {
    "duration": 203,
    "start_time": "2023-01-10T10:53:09.850Z"
   },
   {
    "duration": 18,
    "start_time": "2023-01-10T10:53:10.055Z"
   },
   {
    "duration": 3,
    "start_time": "2023-01-10T10:53:10.074Z"
   },
   {
    "duration": 14,
    "start_time": "2023-01-10T10:53:10.078Z"
   },
   {
    "duration": 16,
    "start_time": "2023-01-10T10:53:10.093Z"
   },
   {
    "duration": 18,
    "start_time": "2023-01-10T10:53:10.110Z"
   },
   {
    "duration": 3,
    "start_time": "2023-01-10T10:53:10.130Z"
   },
   {
    "duration": 14,
    "start_time": "2023-01-10T10:53:10.134Z"
   },
   {
    "duration": 9,
    "start_time": "2023-01-10T10:53:10.149Z"
   },
   {
    "duration": 8,
    "start_time": "2023-01-10T10:53:10.159Z"
   },
   {
    "duration": 17,
    "start_time": "2023-01-10T10:53:10.168Z"
   },
   {
    "duration": 12,
    "start_time": "2023-01-10T10:53:10.186Z"
   },
   {
    "duration": 716,
    "start_time": "2023-01-10T19:07:04.694Z"
   },
   {
    "duration": 314,
    "start_time": "2023-01-10T19:07:05.412Z"
   },
   {
    "duration": 3,
    "start_time": "2023-01-10T19:07:05.728Z"
   },
   {
    "duration": 94,
    "start_time": "2023-01-10T19:07:05.737Z"
   },
   {
    "duration": 32,
    "start_time": "2023-01-10T19:07:05.833Z"
   },
   {
    "duration": 2274,
    "start_time": "2023-01-10T19:07:05.867Z"
   },
   {
    "duration": 15,
    "start_time": "2023-01-10T19:07:08.145Z"
   },
   {
    "duration": 25,
    "start_time": "2023-01-10T19:07:08.161Z"
   },
   {
    "duration": 14,
    "start_time": "2023-01-10T19:07:08.188Z"
   },
   {
    "duration": 17,
    "start_time": "2023-01-10T19:07:08.204Z"
   },
   {
    "duration": 35,
    "start_time": "2023-01-10T19:07:08.223Z"
   },
   {
    "duration": 25,
    "start_time": "2023-01-10T19:07:08.260Z"
   },
   {
    "duration": 21,
    "start_time": "2023-01-10T19:07:08.287Z"
   },
   {
    "duration": 51,
    "start_time": "2023-01-10T19:07:08.312Z"
   },
   {
    "duration": 5,
    "start_time": "2023-01-10T19:07:08.366Z"
   },
   {
    "duration": 19,
    "start_time": "2023-01-10T19:07:08.374Z"
   },
   {
    "duration": 30,
    "start_time": "2023-01-10T19:07:08.395Z"
   },
   {
    "duration": 22,
    "start_time": "2023-01-10T19:07:08.427Z"
   },
   {
    "duration": 23,
    "start_time": "2023-01-10T19:07:08.451Z"
   },
   {
    "duration": 22,
    "start_time": "2023-01-10T19:07:08.476Z"
   },
   {
    "duration": 17,
    "start_time": "2023-01-10T19:07:08.500Z"
   },
   {
    "duration": 23,
    "start_time": "2023-01-10T19:07:08.519Z"
   },
   {
    "duration": 25,
    "start_time": "2023-01-10T19:07:08.546Z"
   },
   {
    "duration": 22,
    "start_time": "2023-01-10T19:07:08.573Z"
   },
   {
    "duration": 11,
    "start_time": "2023-01-10T19:07:08.597Z"
   },
   {
    "duration": 8,
    "start_time": "2023-01-10T19:07:08.610Z"
   },
   {
    "duration": 11,
    "start_time": "2023-01-10T19:07:08.619Z"
   },
   {
    "duration": 10,
    "start_time": "2023-01-10T19:07:08.631Z"
   },
   {
    "duration": 20,
    "start_time": "2023-01-10T19:07:08.647Z"
   },
   {
    "duration": 13,
    "start_time": "2023-01-10T19:07:08.669Z"
   },
   {
    "duration": 34,
    "start_time": "2023-01-10T19:07:08.684Z"
   },
   {
    "duration": 59,
    "start_time": "2023-01-10T19:07:08.720Z"
   },
   {
    "duration": 30,
    "start_time": "2023-01-10T19:07:08.781Z"
   },
   {
    "duration": 35,
    "start_time": "2023-01-10T19:07:08.813Z"
   },
   {
    "duration": 12,
    "start_time": "2023-01-10T19:07:08.853Z"
   },
   {
    "duration": 36,
    "start_time": "2023-01-10T19:07:08.869Z"
   },
   {
    "duration": 21,
    "start_time": "2023-01-10T19:07:08.907Z"
   },
   {
    "duration": 44,
    "start_time": "2023-01-10T19:07:08.930Z"
   },
   {
    "duration": 13,
    "start_time": "2023-01-10T19:07:08.976Z"
   },
   {
    "duration": 12,
    "start_time": "2023-01-10T19:07:08.991Z"
   },
   {
    "duration": 17,
    "start_time": "2023-01-10T19:07:09.008Z"
   },
   {
    "duration": 49,
    "start_time": "2023-01-10T19:07:09.026Z"
   },
   {
    "duration": 43,
    "start_time": "2023-01-10T19:07:09.077Z"
   },
   {
    "duration": 90,
    "start_time": "2023-01-10T19:07:09.122Z"
   },
   {
    "duration": 12,
    "start_time": "2023-01-10T19:07:09.214Z"
   },
   {
    "duration": 52,
    "start_time": "2023-01-10T19:07:09.228Z"
   },
   {
    "duration": 48,
    "start_time": "2023-01-10T19:07:09.281Z"
   },
   {
    "duration": 2565,
    "start_time": "2023-01-10T19:07:09.331Z"
   },
   {
    "duration": 9,
    "start_time": "2023-01-10T19:07:11.899Z"
   },
   {
    "duration": 20,
    "start_time": "2023-01-10T19:07:11.910Z"
   },
   {
    "duration": 19,
    "start_time": "2023-01-10T19:07:11.942Z"
   },
   {
    "duration": 43,
    "start_time": "2023-01-10T19:07:11.963Z"
   },
   {
    "duration": 56,
    "start_time": "2023-01-10T19:07:12.008Z"
   },
   {
    "duration": 15,
    "start_time": "2023-01-10T19:07:12.067Z"
   },
   {
    "duration": 105,
    "start_time": "2023-01-10T19:07:12.084Z"
   },
   {
    "duration": 121,
    "start_time": "2023-01-10T19:07:12.191Z"
   },
   {
    "duration": 3,
    "start_time": "2023-01-10T19:07:12.314Z"
   },
   {
    "duration": 66,
    "start_time": "2023-01-10T19:07:12.318Z"
   },
   {
    "duration": 677,
    "start_time": "2023-01-10T19:07:12.386Z"
   },
   {
    "duration": 4,
    "start_time": "2023-01-10T19:07:13.065Z"
   },
   {
    "duration": 16,
    "start_time": "2023-01-10T19:07:13.071Z"
   },
   {
    "duration": 79,
    "start_time": "2023-01-10T19:07:13.089Z"
   },
   {
    "duration": 14,
    "start_time": "2023-01-10T19:07:13.170Z"
   },
   {
    "duration": 16,
    "start_time": "2023-01-10T19:07:13.186Z"
   },
   {
    "duration": 393,
    "start_time": "2023-01-10T19:07:13.204Z"
   },
   {
    "duration": 5,
    "start_time": "2023-01-10T19:07:13.599Z"
   },
   {
    "duration": 52,
    "start_time": "2023-01-10T19:07:13.606Z"
   },
   {
    "duration": 395,
    "start_time": "2023-01-10T19:07:13.660Z"
   },
   {
    "duration": 347,
    "start_time": "2023-01-10T19:07:14.058Z"
   },
   {
    "duration": 180,
    "start_time": "2023-01-10T19:07:14.406Z"
   },
   {
    "duration": 394,
    "start_time": "2023-01-10T19:07:14.588Z"
   },
   {
    "duration": 324,
    "start_time": "2023-01-10T19:07:14.984Z"
   },
   {
    "duration": 460,
    "start_time": "2023-01-10T19:07:15.310Z"
   },
   {
    "duration": 305,
    "start_time": "2023-01-10T19:07:15.772Z"
   },
   {
    "duration": 190,
    "start_time": "2023-01-10T19:07:16.078Z"
   },
   {
    "duration": 13,
    "start_time": "2023-01-10T19:07:16.271Z"
   },
   {
    "duration": 53,
    "start_time": "2023-01-10T19:07:16.286Z"
   },
   {
    "duration": 10,
    "start_time": "2023-01-10T19:07:16.341Z"
   },
   {
    "duration": 30,
    "start_time": "2023-01-10T19:07:16.352Z"
   },
   {
    "duration": 25,
    "start_time": "2023-01-10T19:07:16.384Z"
   },
   {
    "duration": 18,
    "start_time": "2023-01-10T19:07:16.411Z"
   },
   {
    "duration": 255,
    "start_time": "2023-01-10T19:07:16.432Z"
   },
   {
    "duration": 7,
    "start_time": "2023-01-10T19:07:16.689Z"
   },
   {
    "duration": 24,
    "start_time": "2023-01-10T19:07:16.698Z"
   },
   {
    "duration": 27,
    "start_time": "2023-01-10T19:07:16.724Z"
   },
   {
    "duration": 173,
    "start_time": "2023-01-10T19:07:16.755Z"
   },
   {
    "duration": 14,
    "start_time": "2023-01-10T19:07:16.930Z"
   },
   {
    "duration": 144,
    "start_time": "2023-01-10T19:07:16.946Z"
   },
   {
    "duration": 183,
    "start_time": "2023-01-10T19:07:17.092Z"
   },
   {
    "duration": 265,
    "start_time": "2023-01-10T19:07:17.278Z"
   },
   {
    "duration": 227,
    "start_time": "2023-01-10T19:07:17.550Z"
   },
   {
    "duration": 20,
    "start_time": "2023-01-10T19:07:17.779Z"
   },
   {
    "duration": 5,
    "start_time": "2023-01-10T19:07:17.801Z"
   },
   {
    "duration": 37,
    "start_time": "2023-01-10T19:07:17.809Z"
   },
   {
    "duration": 18,
    "start_time": "2023-01-10T19:07:17.853Z"
   },
   {
    "duration": 26,
    "start_time": "2023-01-10T19:07:17.872Z"
   },
   {
    "duration": 6,
    "start_time": "2023-01-10T19:07:17.900Z"
   },
   {
    "duration": 21,
    "start_time": "2023-01-10T19:07:17.908Z"
   },
   {
    "duration": 43,
    "start_time": "2023-01-10T19:07:17.931Z"
   },
   {
    "duration": 9,
    "start_time": "2023-01-10T19:07:17.975Z"
   },
   {
    "duration": 13,
    "start_time": "2023-01-10T19:07:17.986Z"
   },
   {
    "duration": 17,
    "start_time": "2023-01-10T19:07:18.001Z"
   }
  ],
  "kernelspec": {
   "display_name": "Python 3 (ipykernel)",
   "language": "python",
   "name": "python3"
  },
  "language_info": {
   "codemirror_mode": {
    "name": "ipython",
    "version": 3
   },
   "file_extension": ".py",
   "mimetype": "text/x-python",
   "name": "python",
   "nbconvert_exporter": "python",
   "pygments_lexer": "ipython3",
   "version": "3.9.13"
  },
  "toc": {
   "base_numbering": 1,
   "nav_menu": {},
   "number_sections": true,
   "sideBar": true,
   "skip_h1_title": true,
   "title_cell": "Table of Contents",
   "title_sidebar": "Contents",
   "toc_cell": false,
   "toc_position": {},
   "toc_section_display": true,
   "toc_window_display": false
  }
 },
 "nbformat": 4,
 "nbformat_minor": 2
}
